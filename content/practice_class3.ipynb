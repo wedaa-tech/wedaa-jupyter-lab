{
  "metadata": {
    "kernelspec": {
      "name": "python",
      "display_name": "Python (Pyodide)",
      "language": "python"
    },
    "language_info": {
      "codemirror_mode": {
        "name": "python",
        "version": 3
      },
      "file_extension": ".py",
      "mimetype": "text/x-python",
      "name": "python",
      "nbconvert_exporter": "python",
      "pygments_lexer": "ipython3",
      "version": "3.8"
    }
  },
  "nbformat_minor": 5,
  "nbformat": 4,
  "cells": [
    {
      "id": "973a70b4-0124-4b57-a878-1b41d59ca8ac",
      "cell_type": "code",
      "source": "for i in range(3):\n    for j in range(3):\n        print(i,j)\n",
      "metadata": {
        "trusted": true
      },
      "outputs": [
        {
          "name": "stdout",
          "output_type": "stream",
          "text": "0 0\n0 1\n0 2\n1 0\n1 1\n1 2\n2 0\n2 1\n2 2\n"
        }
      ],
      "execution_count": 1
    },
    {
      "id": "5e858372-1abd-42a6-bea7-692a2473f813",
      "cell_type": "code",
      "source": "import numpy as np\n\n# Create arrays\na = np.array([1, 2, 3, 4])\n\nlArray = np.array([0.2, 0.3, 0.4, 0.5, 0.6, 0.7, 0.8])\ntArray = np.array([0.90, 1.19, 1.30, 1.47, 1.58, 1.77, 1.83])\n\nprint(lArray)\nprint(tArray)\n\nfor x in lArray:\n    print(x)\n\n",
      "metadata": {
        "trusted": true,
        "tags": [],
        "editable": true,
        "slideshow": {
          "slide_type": ""
        }
      },
      "outputs": [
        {
          "name": "stdout",
          "output_type": "stream",
          "text": "[0.2 0.3 0.4 0.5 0.6 0.7 0.8]\n[0.9  1.19 1.3  1.47 1.58 1.77 1.83]\n0.2\n0.3\n0.4\n0.5\n0.6\n0.7\n0.8\n"
        }
      ],
      "execution_count": 9
    },
    {
      "id": "de2e103c-04f2-42af-a159-235f9804d5b8",
      "cell_type": "code",
      "source": "def mean(arrayList):\n    sum=0.0;\n    for x in arrayList:\n        sum += x\n    return sum/len(arrayList)\n        \nz = mean(lArray)\nprint(z)",
      "metadata": {
        "trusted": true
      },
      "outputs": [
        {
          "name": "stdout",
          "output_type": "stream",
          "text": "0.5\n"
        }
      ],
      "execution_count": 21
    },
    {
      "id": "30ad6437-326e-40a6-80a0-2cd13d98f3d4",
      "cell_type": "code",
      "source": "",
      "metadata": {
        "trusted": true
      },
      "outputs": [],
      "execution_count": null
    }
  ]
}