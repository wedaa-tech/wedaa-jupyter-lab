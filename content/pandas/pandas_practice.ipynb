{
  "metadata": {
    "kernelspec": {
      "name": "python",
      "display_name": "Python (Pyodide)",
      "language": "python"
    },
    "language_info": {
      "codemirror_mode": {
        "name": "python",
        "version": 3
      },
      "file_extension": ".py",
      "mimetype": "text/x-python",
      "name": "python",
      "nbconvert_exporter": "python",
      "pygments_lexer": "ipython3",
      "version": "3.8"
    }
  },
  "nbformat_minor": 5,
  "nbformat": 4,
  "cells": [
    {
      "id": "11f8f620-9fe0-4d61-841f-ed59475f9916",
      "cell_type": "markdown",
      "source": "Pandas is a powerful, open-source Python library for data manipulation and analysis. It provides intuitive data structures like DataFrames (2D tables) and Series (1D arrays) that make handling structured data (e.g., CSV files, SQL queries) efficient. It's built on NumPy and is essential for data science workflows.",
      "metadata": {}
    },
    {
      "id": "ec011caf-ee5c-4e74-ad0c-3a4ef59291df",
      "cell_type": "code",
      "source": "import pandas as pd\nimport numpy as np\n",
      "metadata": {
        "trusted": true
      },
      "outputs": [],
      "execution_count": 6
    },
    {
      "id": "4041f3b0-4509-4984-991c-0910ad8b57eb",
      "cell_type": "markdown",
      "source": "#### Core Data Structures\n\n1. Series: A one-dimensional labeled array, like a column in a spreadsheet.\n2. DataFrame: A two-dimensional labeled data table, like a spreadsheet or SQL table.",
      "metadata": {}
    },
    {
      "id": "a635b115-e4b2-4a30-89f7-a7b87c3a6cc7",
      "cell_type": "code",
      "source": "# Create a Series from a list\n\nfruits = pd.Series([\"Apple\", \"Banana\", \"Cherry\", \"Orange\"], index=['a','b','c','o'])\nprint(fruits)",
      "metadata": {
        "trusted": true
      },
      "outputs": [
        {
          "name": "stdout",
          "output_type": "stream",
          "text": "a     Apple\nb    Banana\nc    Cherry\no    Orange\ndtype: object\n"
        }
      ],
      "execution_count": 12
    },
    {
      "id": "9b3db078-2801-40cf-a0a7-d6aaef762ae3",
      "cell_type": "code",
      "source": "# Creating a dataframe from the dictionary:\n\ndictObj = {\n    'name':['Rahul', 'Rinku', 'Aashish', 'Anupam'],\n    'age':[35, 39, 41, 40],\n    'State': ['Punjab', 'Orrisa','Bihar', 'MP']\n}\n\ndataObj = pd.Series(dictObj)\nprint(dataObj)\n\ndataFrame = pd.DataFrame(dictObj)\nprint(dataFrame)\n\n",
      "metadata": {
        "trusted": true
      },
      "outputs": [
        {
          "name": "stdout",
          "output_type": "stream",
          "text": "name     [Rahul, Rinku, Aashish, Anupam]\nage                     [35, 39, 41, 40]\nState        [Punjab, Orrisa, Bihar, MP]\ndtype: object\n      name  age   State\n0    Rahul   35  Punjab\n1    Rinku   39  Orrisa\n2  Aashish   41   Bihar\n3   Anupam   40      MP\n"
        }
      ],
      "execution_count": 22
    },
    {
      "id": "1348051e-33a1-4918-94a4-0fd220d1a654",
      "cell_type": "code",
      "source": "",
      "metadata": {
        "trusted": true
      },
      "outputs": [],
      "execution_count": null
    }
  ]
}