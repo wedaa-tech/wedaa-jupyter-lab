{
 "cells": [
  {
   "cell_type": "code",
   "execution_count": null,
   "id": "ad4460f2-aaa7-498c-9a54-6f2973ddfca5",
   "metadata": {
    "editable": true,
    "slideshow": {
     "slide_type": ""
    },
    "tags": []
   },
   "outputs": [],
   "source": [
    "import numpy as np\n",
    "\n",
    "# Create arrays\n",
    "a = np.array([1, 2, 3, 4])\n",
    "b = np.arange(0, 10, 2)\n",
    "c = np.linspace(0, 1, 5)\n",
    "\n",
    "print(\"a:\", a)\n",
    "print(\"b:\", b)\n",
    "print(\"c:\", c)\n",
    "\n",
    "# Math operations\n",
    "print(\"a + 5:\", a + 5)\n",
    "print(\"a * 2:\", a * 2)\n",
    "\n",
    "# Broadcasting\n",
    "print(\"a + b[:4]:\", a + b[:4])"
   ]
  },
  {
   "cell_type": "code",
   "execution_count": null,
   "id": "49fd01ea-9626-4820-96d9-96e104e0631a",
   "metadata": {},
   "outputs": [],
   "source": [
    "import numpy as np\n",
    "\n",
    "x = np.linspace(0, 10, 5)\n",
    "print(x)\n"
   ]
  },
  {
   "cell_type": "code",
   "execution_count": null,
   "id": "5e749742-df04-464f-9e22-a7ed8a3f5d54",
   "metadata": {},
   "outputs": [],
   "source": [
    "y = np.arange(0, 10, 2.5)\n",
    "print(y)"
   ]
  },
  {
   "cell_type": "code",
   "execution_count": null,
   "id": "20197de6-5699-44f3-8322-095007e41976",
   "metadata": {},
   "outputs": [],
   "source": [
    "import matplotlib.pyplot as plt\n",
    "\n",
    "a = np.linspace(0, 10, 5)\n",
    "b = np.arange(0, 10, 2.5)\n",
    "\n",
    "plt.plot(a, [1]*len(a), 'ro-', label='linspace')\n",
    "plt.plot(b, [0]*len(b), 'bs--', label='arange')\n",
    "plt.legend()\n",
    "plt.show()"
   ]
  },
  {
   "cell_type": "code",
   "execution_count": null,
   "id": "7714dcd4-7e0d-4606-aede-9903bfe4a952",
   "metadata": {},
   "outputs": [],
   "source": [
    "import numpy as np\n",
    "import matplotlib.pyplot as plt\n",
    "\n",
    "range = np.linspace(0,2*np.pi, 100)\n",
    "y= np.sin(range)\n",
    "plt.grid(True)\n",
    "plt.plot(range, y)\n"
   ]
  }
 ],
 "metadata": {
  "kernelspec": {
   "display_name": "Python [conda env:base] *",
   "language": "python",
   "name": "conda-base-py"
  },
  "language_info": {
   "codemirror_mode": {
    "name": "ipython",
    "version": 3
   },
   "file_extension": ".py",
   "mimetype": "text/x-python",
   "name": "python",
   "nbconvert_exporter": "python",
   "pygments_lexer": "ipython3",
   "version": "3.13.5"
  }
 },
 "nbformat": 4,
 "nbformat_minor": 5
}
