{
  "metadata": {
    "kernelspec": {
      "name": "python",
      "display_name": "Python (Pyodide)",
      "language": "python"
    },
    "language_info": {
      "codemirror_mode": {
        "name": "python",
        "version": 3
      },
      "file_extension": ".py",
      "mimetype": "text/x-python",
      "name": "python",
      "nbconvert_exporter": "python",
      "pygments_lexer": "ipython3",
      "version": "3.8"
    }
  },
  "nbformat_minor": 5,
  "nbformat": 4,
  "cells": [
    {
      "id": "d79ff698-47c6-4185-a7dd-53708d28bce3",
      "cell_type": "code",
      "source": "## Create a Dataset\n\nimport numpy as np\nimport matplotlib.pyplot as plt\n\n\n## Let's generate the synthetic dataset of student scores out of 100\n\n## np.random.seed(42) # Reproducibility - Old way\nnp.random.default_rng(42) ## Reproducibility - New way\n\nscores = np.random.normal(loc=70, scale=10, size=25) ## mean=70, std=10, total generated count = 200\n\nscores = np.clip(scores, 0,100) ## Ensure scores stays between the range of  0 - 100\n\nscores = np.rint(scores).astype(int)  # Round and convert to int\n\nprint(scores)\n",
      "metadata": {
        "trusted": true
      },
      "outputs": [],
      "execution_count": null
    },
    {
      "id": "722c2bf5-cdc2-4cff-95c9-f47cf69c9a10",
      "cell_type": "code",
      "source": "mean_score=np.mean(scores)\n\nmedian_score = np.median(scores)\n\n#mod_score = np.mod(scores)\n\nvariance_score = np.var(scores)\n\nstd_dev_score = np.std(scores)\n\nmin_score = np.min(scores)\n\nmax_score = np.max(scores)\n\npercentiles = np.percentile(scores, [25, 50, 75])\n\nprint(\"Mean:\", mean_score)\nprint(\"Median:\", median_score)\n#print(\"Mod:\", mod_score)\nprint(\"Variance:\", variance_score)\nprint(\"Standard Deviation:\", std_dev_score)\nprint(\"Min:\", min_score)\nprint(\"Max:\", max_score)\nprint(\"25th, 50th, 75th Percentiles:\", percentiles)\n",
      "metadata": {
        "trusted": true
      },
      "outputs": [],
      "execution_count": null
    },
    {
      "id": "e04d5bed-d6ff-4740-a3aa-3dcb095abc53",
      "cell_type": "code",
      "source": "print(\"Scores:\", scores)\n\nprint(\"Sorted_scores:\", np.sort(scores))\n\nplt.hist(scores, bins='auto', color='skyblue', edgecolor='black')\n\nplt.title(\"Disctribution of students score [0 - 100]\")\nplt.xlabel(\"scores\")\nplt.ylabel(\"Frequency\")\nplt.show()\n\n# Relative histogram.\nplt.hist(scores, bins='auto', density=True);\nplt.show()\n\nplt.hist(scores, bins='auto', cumulative=True, density=True);\nplt.show()",
      "metadata": {
        "trusted": true,
        "scrolled": true
      },
      "outputs": [],
      "execution_count": null
    },
    {
      "id": "f37f9880-2043-4cbd-beb1-df09e72fcfba",
      "cell_type": "code",
      "source": "",
      "metadata": {
        "trusted": true
      },
      "outputs": [],
      "execution_count": null
    },
    {
      "id": "df610d0e-2032-43eb-9a4f-3ce4018abdc6",
      "cell_type": "code",
      "source": "plt.boxplot(scores, vert=False)\nplt.title(\"Box plots for students score\")\nplt.xlabel(\"Scores\")\nplt.show()\n\nplt.boxplot(scores, showmeans=True);\n\nplt.show()\n\n",
      "metadata": {
        "trusted": true
      },
      "outputs": [],
      "execution_count": null
    },
    {
      "id": "47b70c2f-0ba8-4f9e-813d-d34a22584790",
      "cell_type": "code",
      "source": "# Probability and random sampling:\n\nsample = np.random.choice(scores, size=5, replace=False)\n\nprint(\"Sample mean: \", np.mean(sample))\nprint(\"Sample standard deveitaion:\", np.std(sample))\n\n",
      "metadata": {
        "trusted": true
      },
      "outputs": [],
      "execution_count": null
    },
    {
      "id": "dd655e42-e8a0-4f4d-96ba-16fb5272ea28",
      "cell_type": "code",
      "source": "# Correlation Example\n\n# Generate a dataset (study hours vs. exam scores).\n\nstudy_hours = np.random.normal(loc=5, scale=2, size=25)\nstudy_hours = np.clip(study_hours, 0, None)\n\n# Assuming scores are correlated with study hours\n\nexam_scores = 50 + (study_hours * 8) + np.random.normal(0, 5, 25)\nexam_scores = np.clip(exam_scores, 0, 100)\n\n#Correlation\n\ncorr = np.corrcoef(study_hours, exam_scores)[0,1]\n\nprint(\"Correlation between study hours and exam scores\", corr)\n\n# Plot the scatterplot\nplt.scatter(study_hours, exam_scores, alpha=0.6, color='green')\nplt.xlabel(\"Study Hours\")\nplt.ylabel(\"Exam scores\")\nplt.show()\n\nplt.boxplot((exam_scores, study_hours), showmeans=True, patch_artist=True);\n",
      "metadata": {
        "trusted": true
      },
      "outputs": [],
      "execution_count": null
    },
    {
      "id": "02f31800-cf82-4c76-83be-71725a5291cc",
      "cell_type": "code",
      "source": "# violin plot!\n\nplt.violinplot(scores)",
      "metadata": {
        "trusted": true
      },
      "outputs": [],
      "execution_count": null
    },
    {
      "id": "87d3127a-6fa6-417c-88fb-44c584dbcd28",
      "cell_type": "code",
      "source": "# Bar chart and pie chart\n\ncancer = ['Lung', 'Breast', 'Colon', 'Prostate', 'Melanoma', 'Bladder']\nnumbers = [42, 50, 32, 55, 9, 12]\n\ncancer_dict = dict(zip(cancer,numbers))\n\nprint(cancer_dict)\n\ncancer_type = list(cancer_dict.keys())\ncancer_type_numbers = list(cancer_dict.values())\n\nprint(cancer_type)\nprint(cancer_type_numbers)\n\n\nplt.pie(cancer_type_numbers, labels=cancer_type, shadow=True)\nplt.show()\n\nx = np.arange(len(numbers))\nplt.bar(x, numbers, tick_label=cancer)\nplt.grid();\nplt.show()\n",
      "metadata": {
        "trusted": true,
        "scrolled": true
      },
      "outputs": [],
      "execution_count": null
    },
    {
      "id": "d641a252-03ce-4cd6-bca3-afc7531c019c",
      "cell_type": "code",
      "source": "sachins_data = np.loadtxt(\"data/sachin.txt\")\nkohalis_data = np.loadtxt(\"data/kohli.txt\")\n\nprint(sachins_data[:10])\nprint(kohalis_data[:10])\n\nplt.hist(sachins_data)\nplt.show()\n\nplt.hist(kohalis_data)\nplt.show()\n\nplt.hist((sachins_data, kohalis_data), label=('Sachin', 'Kohli'))\n#plt.hist((kohalis_data), label='Kohli')\nplt.xlabel(\"Sachin\")\nplt.ylabel(\"Kohli\")\nplt.legend()\nplt.show()\n\nplt.boxplot((sachins_data, kohalis_data), vert=False, patch_artist=True, labels=('Sachin', 'Kohli'))\n\nplt.show()\n",
      "metadata": {
        "trusted": true
      },
      "outputs": [],
      "execution_count": null
    },
    {
      "id": "81928560-f702-401b-bc7e-064f800ae81e",
      "cell_type": "code",
      "source": "print(len(sachins_data), max(sachins_data))",
      "metadata": {
        "trusted": true
      },
      "outputs": [],
      "execution_count": null
    },
    {
      "id": "7f2780f5-266e-41d0-abdf-d09e7be60cc6",
      "cell_type": "code",
      "source": "plt.hist(sachins_data, bins='auto', density=True)\nplt.show()",
      "metadata": {
        "trusted": true
      },
      "outputs": [],
      "execution_count": null
    },
    {
      "id": "31e1cb0e-755c-4f92-ad21-7d80ea0fdd14",
      "cell_type": "code",
      "source": "c, b, p = plt.hist(np.random.randint(0, 2, size=10000), bins=2, density=True, edgecolor='black');",
      "metadata": {
        "trusted": true
      },
      "outputs": [],
      "execution_count": null
    },
    {
      "id": "18984b63-c3e3-481d-80da-fe9578457ebe",
      "cell_type": "code",
      "source": "plt.hist(sachins_data, bins=range(201), density=True);",
      "metadata": {
        "trusted": true
      },
      "outputs": [],
      "execution_count": null
    },
    {
      "id": "c578e748-3bec-4f58-8391-74d5ce9082c6",
      "cell_type": "code",
      "source": "pmf, bins = np.histogram(sachins_data, bins=range(201), density=True)\nprint(pmf)\nprint(bins)",
      "metadata": {
        "trusted": true
      },
      "outputs": [],
      "execution_count": null
    }
  ]
}