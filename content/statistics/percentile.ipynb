{
 "cells": [
  {
   "cell_type": "code",
   "execution_count": 1,
   "id": "74a9a527-d9a4-4678-abbd-bb9ce29cb5eb",
   "metadata": {},
   "outputs": [
    {
     "name": "stdout",
     "output_type": "stream",
     "text": [
      "25th percentile: 78.5\n",
      "50th percentile (median): 83.5\n",
      "75th percentile: 89.5\n"
     ]
    }
   ],
   "source": [
    "import numpy as np\n",
    "\n",
    "# Dataset\n",
    "data = [65, 72, 78, 80, 82, 85, 88, 90, 92, 95]\n",
    "\n",
    "# Calculate 25th, 50th, and 75th percentiles\n",
    "percentiles = np.percentile(data, [25, 50, 75])\n",
    "\n",
    "# Print results\n",
    "print(\"25th percentile:\", percentiles[0])\n",
    "print(\"50th percentile (median):\", percentiles[1])\n",
    "print(\"75th percentile:\", percentiles[2])"
   ]
  }
 ],
 "metadata": {
  "kernelspec": {
   "display_name": "Python [conda env:base] *",
   "language": "python",
   "name": "conda-base-py"
  },
  "language_info": {
   "codemirror_mode": {
    "name": "ipython",
    "version": 3
   },
   "file_extension": ".py",
   "mimetype": "text/x-python",
   "name": "python",
   "nbconvert_exporter": "python",
   "pygments_lexer": "ipython3",
   "version": "3.13.5"
  }
 },
 "nbformat": 4,
 "nbformat_minor": 5
}
