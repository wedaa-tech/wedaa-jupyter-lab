{
  "metadata": {
    "kernelspec": {
      "name": "python",
      "display_name": "Python (Pyodide)",
      "language": "python"
    },
    "language_info": {
      "codemirror_mode": {
        "name": "python",
        "version": 3
      },
      "file_extension": ".py",
      "mimetype": "text/x-python",
      "name": "python",
      "nbconvert_exporter": "python",
      "pygments_lexer": "ipython3",
      "version": "3.8"
    }
  },
  "nbformat_minor": 5,
  "nbformat": 4,
  "cells": [
    {
      "id": "e7b0efa8-b7aa-4f93-b486-af4e8d034cd4",
      "cell_type": "markdown",
      "source": "## Exercise\n\n- Create a list which has the square of the integers from 1-9.\n- Your code should produce [1, 4, 9, 16, 25, 36, 49, 64, 81]",
      "metadata": {}
    },
    {
      "id": "fa68d570-185c-4375-aa78-0e7e025f05e7",
      "cell_type": "code",
      "source": "squareList=[]\nfor i in range(1,10):\n    squareList.append(i*i)\nprint(squareList)\n",
      "metadata": {},
      "outputs": [],
      "execution_count": null
    },
    {
      "id": "ed0037da-a15c-4121-bd35-26dbaa330a3c",
      "cell_type": "markdown",
      "source": "## Exercise\n\nConsider the list `x = [1.0, 2.0, 3.0]`. Write code to compute twice of each value\nand store the result in a new list as variable `y`.",
      "metadata": {}
    },
    {
      "id": "59345e37-0f91-4692-926f-fd820022099e",
      "cell_type": "markdown",
      "source": "\n## Exercise\n\n- Print the first 10 odd numbers.\n- Use a conditional or I will increase 10 to 1000!\n- Generate a list of values with the square of the first 10 odd numbers.\n",
      "metadata": {}
    },
    {
      "id": "de439cb6-fd32-4df1-8900-a2360b920e61",
      "cell_type": "code",
      "source": "counter=0\nsquareList=[]\nfor oddN in range(0,100):\n    if(oddN%2) == 1:\n        print(oddN)\n        squareList.append(oddN*oddN)\n        counter += 1\n        #print(counter)\n    \n    if(counter >= 20): #Increase the counter check here!\n        break;\n\nprint(squareList)",
      "metadata": {},
      "outputs": [],
      "execution_count": null
    },
    {
      "id": "e06e731c-545d-4692-8bee-e8ed826c20a2",
      "cell_type": "markdown",
      "source": "## Exercise\n\nWrite a function to find the mean squared error.\n\nMean Squared Error (MSE) is a statistical measure that quantifies the average squared difference between predicted and actual values in a dataset. It's a common metric used to evaluate the accuracy of predictive models, particularly in regression tasks. A lower MSE indicates a better model fit, as it suggests that the model's predictions are, on average, closer to the true values. \n\nSensitivity to Outliers:\nSquaring the errors gives more weight to larger errors. This means that MSE is more sensitive to outliers than other error metrics like Mean Absolute Error (MAE).\n\n\nInterpretation:\nA lower MSE indicates a better model fit, but there's no absolute benchmark for what constitutes a \"good\" or \"bad\" MSE. It's more useful for comparing different models on the same dataset.\n\nExample: Actual price and predicted price of five houses\n\n**actual_price=**[200000, 250000, 300000, 150000, 180000]\n\n**predicted_price=**[220000, 230000, 350000, 170000, 195000]\n\nStep 1: Error: Difference between actual and predicted price\n\nStep 2: Square each error\n\nStep 3: Sum the squared error\n\nStep 4: Divide the outcome from step 3 to total data points(Which is number of houses 5)\n\nOutcome of step 4 will be the mean square error\n",
      "metadata": {}
    },
    {
      "id": "a9c30a43-8d7b-4876-b287-005c15db8034",
      "cell_type": "code",
      "source": "",
      "metadata": {},
      "outputs": [],
      "execution_count": null
    }
  ]
}