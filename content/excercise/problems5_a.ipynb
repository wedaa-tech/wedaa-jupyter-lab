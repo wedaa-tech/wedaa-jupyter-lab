{
  "metadata": {
    "kernelspec": {
      "name": "python",
      "display_name": "Python (Pyodide)",
      "language": "python"
    },
    "language_info": {
      "codemirror_mode": {
        "name": "python",
        "version": 3
      },
      "file_extension": ".py",
      "mimetype": "text/x-python",
      "name": "python",
      "nbconvert_exporter": "python",
      "pygments_lexer": "ipython3",
      "version": "3.8"
    }
  },
  "nbformat_minor": 5,
  "nbformat": 4,
  "cells": [
    {
      "id": "6172ca3e-1c00-4005-a67f-2b38ae6557ff",
      "cell_type": "markdown",
      "source": "## Problem 1\n\nConsider the last problem in problems5.ipynb shared earlier. Repeat the analysis with an exponential distribution. These illustrate the Central Limit Theorem that the sample mean goes towards a normal distribution.\n\nThe life of a battery has an exponential distribution with the single parameter $\\lambda=1$ , i.e. `np.random.exponential(scale=1)`\n\nRandomly select 10 values from this population and compute the sample mean.\n\nRepeat this sampling 10,000 times and plot the distribution (histogram) of the sample means.\n\nRepeat the above steps for sample sizes: 5, 10, 20, 40, 80, 100.\n\nFor each sample size, overlay a normal distribution with:\n\nMean = 1\n\nStandard deviation = 1 / √(sample size)\n",
      "metadata": {}
    },
    {
      "id": "10284516-e880-47bc-be0d-980d1f029c99",
      "cell_type": "code",
      "source": "",
      "metadata": {},
      "outputs": [],
      "execution_count": null
    },
    {
      "id": "053bd094-289b-4c05-b061-35727bf20cf3",
      "cell_type": "markdown",
      "source": "## Problem 2\n\nConsider a population consisting of human beings and a single suitcase taken with them as checkin baggage. Let us say that the weight of the humans are distributed normally with mean 70kgs and standard deviation 5 kgs and the bags are with mean 15 kgs and standard deviation 5 kgs. \n\nNow, randomly select 5 values from each of the humans and suitcases to get 10 weights. Now find the sample mean of the weights.\n\nRepeat this sampling 10,000 times and plot the distribution (histogram) of the sample means of the humans and suitcases.\n\nRepeat the above steps for sample sizes: 10, 20, 40, 80, 100 (i.e. 5+5, 10+10 etc. of human+suitcases).\n\nFor each sample size, overlay a normal distribution with:\n\nMean = 42.5\n\nStandard deviation = 5 / √(sample size)\n",
      "metadata": {}
    },
    {
      "id": "586cb7b1-7f56-4f23-b0b0-e34873150372",
      "cell_type": "code",
      "source": "",
      "metadata": {},
      "outputs": [],
      "execution_count": null
    }
  ]
}