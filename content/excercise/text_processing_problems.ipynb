{
  "metadata": {
    "kernelspec": {
      "name": "python",
      "display_name": "Python (Pyodide)",
      "language": "python"
    },
    "language_info": {
      "codemirror_mode": {
        "name": "python",
        "version": 3
      },
      "file_extension": ".py",
      "mimetype": "text/x-python",
      "name": "python",
      "nbconvert_exporter": "python",
      "pygments_lexer": "ipython3",
      "version": "3.8"
    }
  },
  "nbformat_minor": 5,
  "nbformat": 4,
  "cells": [
    {
      "id": "e19a9a13",
      "cell_type": "markdown",
      "source": "\n## Text Processing – Problem Set\n",
      "metadata": {}
    },
    {
      "id": "311e2b7f",
      "cell_type": "markdown",
      "source": "### Problem 1 — String Basics\nWrite a function that takes a sentence (string) and returns a tuple: `(first_char, last_char, length)`.\n- Ignore leading/trailing whitespace when determining the first and last characters.\n- If the trimmed string is empty, return `(None, None, 0)`.",
      "metadata": {}
    },
    {
      "id": "166be037",
      "cell_type": "code",
      "source": "# Write your solution here\n",
      "metadata": {},
      "outputs": [],
      "execution_count": null
    },
    {
      "id": "15b730c5",
      "cell_type": "markdown",
      "source": "### Problem 2 — String Methods\nGiven the string `s = \"  Hello, Python World!  \"`:\n- Remove extra spaces at both ends\n- Convert to lowercase\n- Replace `\"python\"` with `\"text\"` (match should be case-insensitive)\nReturn the final string.",
      "metadata": {}
    },
    {
      "id": "5bebf4ca",
      "cell_type": "code",
      "source": "# Write your solution here\n",
      "metadata": {},
      "outputs": [],
      "execution_count": null
    },
    {
      "id": "e52c20e5",
      "cell_type": "markdown",
      "source": "### Problem 3 — Splitting and Joining\nYou are given a CSV string like `\"a,b,c,d,e\"`.\n\nWrite a function that:\n1. Splits the string by commas into a list of tokens.\n2. Joins the tokens with `\"-\"` as a separator.\n3. Returns the resulting string.",
      "metadata": {}
    },
    {
      "id": "fd160c9e",
      "cell_type": "code",
      "source": "# Write your solution here\n",
      "metadata": {},
      "outputs": [],
      "execution_count": null
    },
    {
      "id": "f9d3e305",
      "cell_type": "markdown",
      "source": "### Problem 4 — f-Strings and Formatting\nAsk for `name` (str), `age` (int), and `height_feet` (float) and return a formatted sentence using an f-string:\n\n`\"Alice is 23 years old and 5.6 feet tall.\"`\n\nWrite the function so that it accepts three parameters and **returns** the string (do not use `input()`).",
      "metadata": {}
    },
    {
      "id": "e2f6326c",
      "cell_type": "code",
      "source": "# Write your solution here\n",
      "metadata": {},
      "outputs": [],
      "execution_count": null
    },
    {
      "id": "ae824d85",
      "cell_type": "markdown",
      "source": "### Problem 5 — Word Count (Dictionary)\nImplement `word_count(text)` that returns a dictionary mapping each lowercase word to its frequency.\n- Words are separated by whitespace.\n- Strip leading/trailing punctuation: `.,;:!?\"'()[]{}-` from each token before counting.\n- Ignore empty tokens after stripping.",
      "metadata": {}
    },
    {
      "id": "d5582b2b",
      "cell_type": "code",
      "source": "# Write your solution here\n",
      "metadata": {},
      "outputs": [],
      "execution_count": null
    },
    {
      "id": "3fb4f14e",
      "cell_type": "markdown",
      "source": "### Problem 6 — File Processing (I/O)\nWrite a function `file_stats(path)` that reads a UTF-8 `.txt` file and returns a tuple: `(num_lines, num_words, num_chars)`.\n- `num_words` splits on whitespace\n- Count newline characters in `num_chars` as well\n- If the file is not found, raise `FileNotFoundError`",
      "metadata": {}
    },
    {
      "id": "6e28b509",
      "cell_type": "code",
      "source": "# Write your solution here\n",
      "metadata": {},
      "outputs": [],
      "execution_count": null
    },
    {
      "id": "780c0b0b",
      "cell_type": "markdown",
      "source": "### Problem 7 — Top-k Frequent Words\nGiven a paragraph of text, return the **top 5 most frequent words** as a list of `(word, count)` pairs, sorted by decreasing count then alphabetically.\n- Use `collections.Counter`, see https://docs.python.org/3/library/collections.html#counter-objects.\n- Treat words case-insensitively and strip the same punctuation set as in Problem 5.",
      "metadata": {}
    },
    {
      "id": "b7d84ec3",
      "cell_type": "code",
      "source": "# Write your solution here\n",
      "metadata": {},
      "outputs": [],
      "execution_count": null
    },
    {
      "id": "cb7e1b99",
      "cell_type": "markdown",
      "source": "### Problem 8 — Palindrome Check\nImplement `is_palindrome(s)` that returns `True` if `s` is a palindrome, ignoring case and spaces.\n- Example: `\"A man a plan a canal Panama\"` → `True`",
      "metadata": {}
    },
    {
      "id": "9036a149",
      "cell_type": "code",
      "source": "# Write your solution here\n",
      "metadata": {},
      "outputs": [],
      "execution_count": null
    },
    {
      "id": "70f40b4a",
      "cell_type": "markdown",
      "source": "### Problem 9 — Text Cleanup Challenge\nGiven a messy string like: `\"Hello!!! This, is... an example?? of messy---text.\"`\nWrite `clean_text(text)` that:\n1. Removes punctuation\n2. Converts to lowercase\n3. Collapses multiple spaces to a single space\n   \nReturn the cleaned text.",
      "metadata": {}
    },
    {
      "id": "6ff75a0d",
      "cell_type": "code",
      "source": "# Write your solution here\n",
      "metadata": {},
      "outputs": [],
      "execution_count": null
    },
    {
      "id": "dcc1a45b",
      "cell_type": "markdown",
      "source": "\n---\n*End of Problem Set.*\n",
      "metadata": {}
    }
  ]
}