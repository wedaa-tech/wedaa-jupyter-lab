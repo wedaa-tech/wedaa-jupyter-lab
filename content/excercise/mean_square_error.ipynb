{
  "metadata": {
    "kernelspec": {
      "name": "python",
      "display_name": "Python (Pyodide)",
      "language": "python"
    },
    "language_info": {
      "codemirror_mode": {
        "name": "python",
        "version": 3
      },
      "file_extension": ".py",
      "mimetype": "text/x-python",
      "name": "python",
      "nbconvert_exporter": "python",
      "pygments_lexer": "ipython3",
      "version": "3.8"
    }
  },
  "nbformat_minor": 5,
  "nbformat": 4,
  "cells": [
    {
      "id": "2e8aeb38-5333-4232-a901-cdcfbd7a368f",
      "cell_type": "code",
      "source": "# Write a function to find the mean squared error.\n\n# Mean Squared Error (MSE) is a statistical measure that quantifies the average squared difference between predicted and actual values in a dataset. It's a common metric used to evaluate the accuracy of predictive models, particularly in regression tasks. A lower MSE indicates a better model fit, as it suggests that the model's predictions are, on average, closer to the true values.\n\n# Sensitivity to Outliers: Squaring the errors gives more weight to larger errors. This means that MSE is more sensitive to outliers than other error metrics like Mean Absolute Error (MAE).\n\n# Interpretation: A lower MSE indicates a better model fit, but there's no absolute benchmark for what constitutes a \"good\" or \"bad\" MSE. It's more useful for comparing different models on the same dataset.\n\n# Example: Actual price and predicted price of five houses\n\n# actual_price=[200000, 250000, 300000, 150000, 180000]\n\n# predicted_price=[220000, 230000, 350000, 170000, 195000]\n\n# Step 1: Error: Difference between actual and predicted price\n\n# Step 2: Square each error\n\n# Step 3: Sum the squared error\n\n# Step 4: Divide the outcome from step 3 to total data points(Which is number of houses 5)\n\n# Outcome of step 4 will be the mean square error\n\n\n\ndef mean_squared_error(actual, predicted):\n    \"\"\"\n    Calculate Mean Squared Error (MSE) between actual and predicted values.\n    \"\"\"\n    if len(actual) != len(predicted):\n        raise ValueError(\"Lists must be of the same length.\")\n\n    # Step 1: Errors (differences)\n    errors = [a - p for a, p in zip(actual, predicted)]\n\n    # Step 2: Square each error\n    squared_errors = [e**2 for e in errors]\n\n    # Step 3: Sum the squared errors\n    total_squared_error = sum(squared_errors)\n\n    # Step 4: Divide by number of data points\n    mse = total_squared_error / len(actual)\n\n    return mse\n\n\n# Example usage\nactual_price = [200000, 250000, 300000, 150000, 180000]\npredicted_price = [220000, 230000, 350000, 170000, 195000]\n\nmse_value = mean_squared_error(actual_price, predicted_price)\nprint(\"Mean Squared Error:\", mse_value)\n",
      "metadata": {
        "trusted": true
      },
      "outputs": [
        {
          "name": "stdout",
          "output_type": "stream",
          "text": "Mean Squared Error: 785000000.0\n"
        }
      ],
      "execution_count": 1
    }
  ]
}