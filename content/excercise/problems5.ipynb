{
  "metadata": {
    "kernelspec": {
      "name": "python",
      "display_name": "Python (Pyodide)",
      "language": "python"
    },
    "language_info": {
      "codemirror_mode": {
        "name": "python",
        "version": 3
      },
      "file_extension": ".py",
      "mimetype": "text/x-python",
      "name": "python",
      "nbconvert_exporter": "python",
      "pygments_lexer": "ipython3",
      "version": "3.8"
    }
  },
  "nbformat_minor": 5,
  "nbformat": 4,
  "cells": [
    {
      "id": "6f9c8888-f204-42d1-bd27-08d4ce5cb6c9",
      "cell_type": "markdown",
      "source": "# Problem 1:\nSimulate  1000 tosses of a biased coin that shows heads (H) with probability 0.7 and tails (T) with probability 0.3.\n\nPlot a histogram of the outcomes.\n\nCompare the observed probabilities with the theoretical probabilities (0.7 and 0.3).",
      "metadata": {}
    },
    {
      "id": "98edc70e-afda-4c8b-92cd-44c9c4e44eb9",
      "cell_type": "code",
      "source": "",
      "metadata": {},
      "outputs": [],
      "execution_count": null
    },
    {
      "id": "9baf3b12-0d37-4ec8-952f-087816a89143",
      "cell_type": "markdown",
      "source": "Problem 2:\nSimulate rolling a fair die 6000 times.\n\nPlot the histogram of outcomes.\n\nCompute observed probabilities of each face (1–6).\n\nCompare with the theoretical probability (1/6 ≈ 0.1667).",
      "metadata": {}
    },
    {
      "id": "68ecbcd6-78c6-4842-93b8-c17e1699400e",
      "cell_type": "markdown",
      "source": "# Problem 3:\nFor n=50 trials with success probability p=0.5:\n\nPlot the binomial probability mass function (pmf).\n\nCompare it with the corresponding normal distribution approximation.",
      "metadata": {}
    },
    {
      "id": "8b1e2070-339d-46d8-b177-d47777124f99",
      "cell_type": "code",
      "source": "",
      "metadata": {},
      "outputs": [],
      "execution_count": null
    },
    {
      "id": "0bd1d2dd-6041-473f-9467-ed4589be9277",
      "cell_type": "markdown",
      "source": "# Problem 4:\nA population of people has weights that are normally distributed with mean 70 kg and standard deviation 10 kg.\n\n# Tasks:\n\nRandomly select 10 values from this population and compute the sample mean.\n\nRepeat this sampling 10,000 times and plot the distribution (histogram) of the sample means.\n\nRepeat the above steps for sample sizes: 5, 10, 20, 40, 80, 100.\n\nFor each sample size, overlay a normal distribution with:\n\nMean = 70\n\nStandard deviation = 10 / √(sample size)\n\nCompare how the distribution of sample means changes with sample size and how it approaches a normal distribution.",
      "metadata": {}
    },
    {
      "id": "c7906216-ee06-4e16-8f6c-22f10914dde9",
      "cell_type": "code",
      "source": "",
      "metadata": {},
      "outputs": [],
      "execution_count": null
    }
  ]
}