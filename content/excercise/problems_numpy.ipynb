{
  "cells": [
    {
      "cell_type": "markdown",
      "id": "51046e20",
      "metadata": {},
      "source": [
        "### Problem 1: Broadcasting to Normalize a 3D Dataset\n",
        "\n",
        "Imagine you have a 3D dataset representing a series of 2D sensor readings over time, with a shape of `(num_timesteps, height, width)`. Your task is to perform \"per-timestep normalization\" by subtracting the mean value of each 2D slice (at each timestep) from that slice. You must do this without using any explicit loops.\n",
        "\n",
        "**Your Task:**\n",
        "\n",
        "1.  Create a random 3D NumPy array called `dataset` of shape `(10, 5, 5)` with integer values between 0 and 100.\n",
        "2.  Calculate the mean of each 2D slice along `axis=(1, 2)`. This will result in a 1D array of shape `(10,)` containing 10 mean values.\n",
        "3.  Use broadcasting with `np.newaxis` to subtract the corresponding mean from each 2D slice in the original `dataset`.\n",
        "4.  Print the shape of your calculated means array and the shape of the final normalized dataset to verify the operation."
      ]
    },
    {
      "cell_type": "code",
      "execution_count": null,
      "id": "97a0af8c",
      "metadata": {},
      "outputs": [],
      "source": []
    },
    {
      "cell_type": "markdown",
      "id": "686127e7",
      "metadata": {},
      "source": [
        "### Problem 2: Data Cleaning a 4D Array with Masked Indexing\n",
        "\n",
        "You have a 4D array representing a batch of images, with shape `(batch_size, height, width, channels)`. The data contains some noise and invalid values. Your goal is to clean it by clipping outliers and removing negative sensor errors.\n",
        "\n",
        "**Your Task:**\n",
        "\n",
        "1.  Create a random 4D NumPy array named `image_batch` of shape `(2, 10, 10, 3)`. Populate it with integers from -20 to 120.\n",
        "2.  Create a boolean mask to identify all values that are \"outliers\" (less than 0 or greater than 100).\n",
        "3.  Use the mask to **clip** the data: set all values greater than 100 to `100`, and all values less than 0 to `0`. (Hint: You can do this with two separate masks or one combined operation).\n",
        "4.  Finally, create another mask to find all values that are exactly `0` and replace them with `-1` to indicate they were corrected values.\n",
        "5.  Print the array after clipping and after the final replacement."
      ]
    },
    {
      "cell_type": "code",
      "execution_count": null,
      "id": "2ee6ad56",
      "metadata": {},
      "outputs": [],
      "source": []
    },
    {
      "cell_type": "markdown",
      "id": "5ecdff60",
      "metadata": {},
      "source": [
        "### Problem 3: Creating a Geometric Mask with Broadcasting\n",
        "\n",
        "Your task is to create a 2D \"target\" mask, where a circular ring (annulus) is marked as `1` and everything else is `0`. This is useful for selecting regions of interest in images.\n",
        "\n",
        "**Your Task:**\n",
        "\n",
        "1.  Create a 1D array for x and y coordinates from -5 to 5 with 50 points using `np.linspace`.\n",
        "2.  Use `np.meshgrid` to create 2D coordinate grids `X` and `Y`.\n",
        "3.  Calculate a 2D array `R` representing the distance of each point `(X, Y)` from the origin `(0, 0)`. The formula is $R = \\sqrt{X^2 + Y^2}$. This calculation will rely on broadcasting.\n",
        "4.  Create a new array `target_mask` of the same shape as `R`, initialized with zeros.\n",
        "5.  Use **masked indexing** with logical operators to set the elements of `target_mask` to `1` where `R` is between an inner radius of 2.0 and an outer radius of 4.0 (i.e., `2.0 < R < 4.0`).\n",
        "6.  Use `matplotlib.pyplot.imshow()` to visualize your final `target_mask`."
      ]
    },
    {
      "cell_type": "code",
      "execution_count": null,
      "id": "fbb42fdb",
      "metadata": {},
      "outputs": [],
      "source": []
    },
    {
      "cell_type": "markdown",
      "id": "29bf6187",
      "metadata": {},
      "source": [
        "### Problem 4: Combined Processing Pipeline\n",
        "\n",
        "You are processing sensor data stored in a 3D array of shape `(timesteps, sensors, measurements)`. You need to apply calibration, flag invalid data, and then extract readings from a specific set of critical sensors.\n",
        "\n",
        "**Your Task:**\n",
        "\n",
        "1.  Create a 3D array `raw_data` of shape `(50, 8, 3)` with random float values from -1.0 to 10.0. This represents 50 timesteps for 8 sensors, with 3 measurements each.\n",
        "2.  **Broadcasting:** Create a 1D `calibration_factors` array of shape `(8,)` with random values. Multiply `raw_data` by these factors. Each sensor's data across all timesteps and measurements should be multiplied by its corresponding factor. You will need to use `np.newaxis` to align the arrays for broadcasting. Store the result in `calibrated_data`.\n",
        "3.  **Masked Indexing:** In `calibrated_data`, any negative values are considered errors. Use a boolean mask to replace all negative values with `0`.\n",
        "4.  **Special Indexing:** You are given a list of critical sensors, `critical_sensors = np.array([1, 3, 7])`. Use this array to extract all data (all timesteps and all measurements) for only these sensors. Store this in `final_data`.\n",
        "5.  Print the shapes of `raw_data`, `calibrated_data`, and `final_data` to confirm each step was successful."
      ]
    },
    {
      "cell_type": "code",
      "execution_count": null,
      "id": "2732feab",
      "metadata": {},
      "outputs": [],
      "source": []
    },
    {
      "cell_type": "markdown",
      "id": "4d46b5f4",
      "metadata": {},
      "source": [
        "### Problem 5: Creating and Customizing a Contour Plot\n",
        "\n",
        "You need to visualize a **2D mathematical function** that represents a wave pattern originating from a single point.\n",
        "\n",
        "---\n",
        "\n",
        "### **Your Task**\n",
        "\n",
        "1. **Create coordinate arrays:**  \n",
        "    - Generate 1D arrays for `x` and `y` coordinates from **-10 to 10** with **200 points** using `np.linspace`.\n",
        "\n",
        "2. **Create a meshgrid:**  \n",
        "    - Use `np.meshgrid` to create 2D coordinate grids `X` and `Y`.\n",
        "\n",
        "3. **Calculate distance from origin:**  \n",
        "    - Compute a 2D array `R` representing the distance of each point `(X, Y)` from the origin `(0, 0)`.  \n",
        "      - Formula: `R = sqrt(X^2 + Y^2)`\n",
        "\n",
        "4. **Compute the wave function:**  \n",
        "    - Calculate `Z = np.sin(R) / R` over the grid.\n",
        "    - Handle the division-by-zero warning at the origin by replacing `nan` values in `Z` with `1` (the limit of `sin(x)/x` as `x → 0`).\n",
        "\n",
        "5. **Visualize with contour plots:**  \n",
        "    - Use `matplotlib.pyplot.contourf()` to create a **filled contour plot** of `Z` with **20 levels**.\n",
        "    - Overlay with `plt.contour()` to draw **black contour lines**.\n",
        "\n",
        "6. **Enhance the plot:**  \n",
        "    - Add a **title** and a **color bar** to the plot for clarity.\n"
      ]
    },
    {
      "cell_type": "code",
      "execution_count": null,
      "id": "e79f0078",
      "metadata": {},
      "outputs": [],
      "source": []
    }
  ],
  "metadata": {
    "kernelspec": {
      "display_name": "Python 3 (ipykernel)",
      "language": "python",
      "name": "python3"
    },
    "language_info": {
      "codemirror_mode": {
        "name": "ipython",
        "version": 3
      },
      "file_extension": ".py",
      "mimetype": "text/x-python",
      "name": "python",
      "nbconvert_exporter": "python",
      "pygments_lexer": "ipython3",
      "version": "3.11.11"
    }
  },
  "nbformat": 4,
  "nbformat_minor": 5
}