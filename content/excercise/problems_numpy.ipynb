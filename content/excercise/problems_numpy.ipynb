{
  "metadata": {
    "kernelspec": {
      "name": "python",
      "display_name": "Python (Pyodide)",
      "language": "python"
    },
    "language_info": {
      "codemirror_mode": {
        "name": "python",
        "version": 3
      },
      "file_extension": ".py",
      "mimetype": "text/x-python",
      "name": "python",
      "nbconvert_exporter": "python",
      "pygments_lexer": "ipython3",
      "version": "3.8"
    }
  },
  "nbformat_minor": 5,
  "nbformat": 4,
  "cells": [
    {
      "id": "51046e20",
      "cell_type": "markdown",
      "source": "### Problem 1: Broadcasting to Normalize a 3D Dataset\n\nImagine you have a 3D dataset representing a series of 2D sensor readings over time, with a shape of `(num_timesteps, height, width)`. Your task is to perform \"per-timestep normalization\" by subtracting the mean value of each 2D slice (at each timestep) from that slice. You must do this without using any explicit loops.\n\n**Your Task:**\n\n1.  Create a random 3D NumPy array called `dataset` of shape `(10, 5, 5)` with integer values between 0 and 100.\n2.  Calculate the mean of each 2D slice along `axis=(1, 2)`. This will result in a 1D array of shape `(10,)` containing 10 mean values.\n3.  Use broadcasting with `np.newaxis` to subtract the corresponding mean from each 2D slice in the original `dataset`.\n4.  Print the shape of your calculated means array and the shape of the final normalized dataset to verify the operation.",
      "metadata": {}
    },
    {
      "id": "97a0af8c",
      "cell_type": "code",
      "source": "",
      "metadata": {},
      "outputs": [],
      "execution_count": null
    },
    {
      "id": "686127e7",
      "cell_type": "markdown",
      "source": "### Problem 2: Data Cleaning a 4D Array with Masked Indexing\n\nYou have a 4D array representing a batch of images, with shape `(batch_size, height, width, channels)`. The data contains some noise and invalid values. Your goal is to clean it by clipping outliers and removing negative sensor errors.\n\n**Your Task:**\n\n1.  Create a random 4D NumPy array named `image_batch` of shape `(2, 10, 10, 3)`. Populate it with integers from -20 to 120.\n2.  Create a boolean mask to identify all values that are \"outliers\" (less than 0 or greater than 100).\n3.  Use the mask to **clip** the data: set all values greater than 100 to `100`, and all values less than 0 to `0`. (Hint: You can do this with two separate masks or one combined operation).\n4.  Finally, create another mask to find all values that are exactly `0` and replace them with `-1` to indicate they were corrected values.\n5.  Print the array after clipping and after the final replacement.",
      "metadata": {}
    },
    {
      "id": "2ee6ad56",
      "cell_type": "code",
      "source": "",
      "metadata": {},
      "outputs": [],
      "execution_count": null
    },
    {
      "id": "5ecdff60",
      "cell_type": "markdown",
      "source": "### Problem 3: Creating a Geometric Mask with Broadcasting\n\nYour task is to create a 2D \"target\" mask, where a circular ring (annulus) is marked as `1` and everything else is `0`. This is useful for selecting regions of interest in images.\n\n**Your Task:**\n\n1.  Create a 1D array for x and y coordinates from -5 to 5 with 50 points using `np.linspace`.\n2.  Use `np.meshgrid` to create 2D coordinate grids `X` and `Y`.\n3.  Calculate a 2D array `R` representing the distance of each point `(X, Y)` from the origin `(0, 0)`. The formula is $R = \\sqrt{X^2 + Y^2}$. This calculation will rely on broadcasting.\n4.  Create a new array `target_mask` of the same shape as `R`, initialized with zeros.\n5.  Use **masked indexing** with logical operators to set the elements of `target_mask` to `1` where `R` is between an inner radius of 2.0 and an outer radius of 4.0 (i.e., `2.0 < R < 4.0`).\n6.  Use `matplotlib.pyplot.imshow()` to visualize your final `target_mask`.",
      "metadata": {}
    },
    {
      "id": "fbb42fdb",
      "cell_type": "code",
      "source": "",
      "metadata": {},
      "outputs": [],
      "execution_count": null
    },
    {
      "id": "29bf6187",
      "cell_type": "markdown",
      "source": "### Problem 4: Combined Processing Pipeline\n\nYou are processing sensor data stored in a 3D array of shape `(timesteps, sensors, measurements)`. You need to apply calibration, flag invalid data, and then extract readings from a specific set of critical sensors.\n\n**Your Task:**\n\n1.  Create a 3D array `raw_data` of shape `(50, 8, 3)` with random float values from -1.0 to 10.0. This represents 50 timesteps for 8 sensors, with 3 measurements each.\n2.  **Broadcasting:** Create a 1D `calibration_factors` array of shape `(8,)` with random values. Multiply `raw_data` by these factors. Each sensor's data across all timesteps and measurements should be multiplied by its corresponding factor. You will need to use `np.newaxis` to align the arrays for broadcasting. Store the result in `calibrated_data`.\n3.  **Masked Indexing:** In `calibrated_data`, any negative values are considered errors. Use a boolean mask to replace all negative values with `0`.\n4.  **Special Indexing:** You are given a list of critical sensors, `critical_sensors = np.array([1, 3, 7])`. Use this array to extract all data (all timesteps and all measurements) for only these sensors. Store this in `final_data`.\n5.  Print the shapes of `raw_data`, `calibrated_data`, and `final_data` to confirm each step was successful.",
      "metadata": {}
    },
    {
      "id": "2732feab",
      "cell_type": "code",
      "source": "",
      "metadata": {},
      "outputs": [],
      "execution_count": null
    },
    {
      "id": "4d46b5f4",
      "cell_type": "markdown",
      "source": "### Problem 5: Creating and Customizing a Contour Plot\n\nYou need to visualize a **2D mathematical function** that represents a wave pattern originating from a single point.\n\n---\n\n### **Your Task**\n\n1. **Create coordinate arrays:**  \n    - Generate 1D arrays for `x` and `y` coordinates from **-10 to 10** with **200 points** using `np.linspace`.\n\n2. **Create a meshgrid:**  \n    - Use `np.meshgrid` to create 2D coordinate grids `X` and `Y`.\n\n3. **Calculate distance from origin:**  \n    - Compute a 2D array `R` representing the distance of each point `(X, Y)` from the origin `(0, 0)`.  \n      - Formula: `R = sqrt(X^2 + Y^2)`\n\n4. **Compute the wave function:**  \n    - Calculate `Z = np.sin(R) / R` over the grid.\n    - Handle the division-by-zero warning at the origin by replacing `nan` values in `Z` with `1` (the limit of `sin(x)/x` as `x → 0`).\n\n5. **Visualize with contour plots:**  \n    - Use `matplotlib.pyplot.contourf()` to create a **filled contour plot** of `Z` with **20 levels**.\n    - Overlay with `plt.contour()` to draw **black contour lines**.\n\n6. **Enhance the plot:**  \n    - Add a **title** and a **color bar** to the plot for clarity.\n",
      "metadata": {}
    },
    {
      "id": "e79f0078",
      "cell_type": "code",
      "source": "",
      "metadata": {},
      "outputs": [],
      "execution_count": null
    }
  ]
}