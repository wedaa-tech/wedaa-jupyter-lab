{
  "metadata": {
    "kernelspec": {
      "name": "python",
      "display_name": "Python (Pyodide)",
      "language": "python"
    },
    "language_info": {
      "codemirror_mode": {
        "name": "python",
        "version": 3
      },
      "file_extension": ".py",
      "mimetype": "text/x-python",
      "name": "python",
      "nbconvert_exporter": "python",
      "pygments_lexer": "ipython3",
      "version": "3.8"
    }
  },
  "nbformat_minor": 5,
  "nbformat": 4,
  "cells": [
    {
      "id": "6e6ec613-3f65-4e1b-9c33-18be73de1972",
      "cell_type": "code",
      "source": "# Combined Processing Pipeline\n# You are processing sensor data stored in a 3D array of shape (timesteps, sensors, measurements). You need to apply calibration, flag invalid data, and then extract readings from a specific set of critical sensors.\n\n# Your Task:\n\n# Create a 3D array raw_data of shape (50, 8, 3) with random float values from -1.0 to 10.0. This represents 50 timesteps for 8 sensors, with 3 measurements each.\n# Broadcasting: Create a 1D calibration_factors array of shape (8,) with random values. Multiply raw_data by these factors. Each sensor's data across all timesteps and measurements should be multiplied by its corresponding factor. You will need to use np.newaxis to align the arrays for broadcasting. Store the result in calibrated_data.\n# Masked Indexing: In calibrated_data, any negative values are considered errors. Use a boolean mask to replace all negative values with 0.\n# Special Indexing: You are given a list of critical sensors, critical_sensors = np.array([1, 3, 7]). Use this array to extract all data (all timesteps and all measurements) for only these sensors. Store this in final_data.\n# Print the shapes of raw_data, calibrated_data, and final_data to confirm each step was successful.\n\n\n\nimport numpy as np\n\n# Step 1: Create raw data (50 timesteps, 8 sensors, 3 measurements)\nraw_data = np.random.uniform(-1.0, 10.0, size=(50, 8, 3))\nprint(\"Raw data shape:\", raw_data.shape)\n\n# Step 2: Calibration factors for each sensor\ncalibration_factors = np.random.uniform(0.5, 2.0, size=(8,))\n# Reshape to broadcast across timesteps (50) and measurements (3)\ncalibrated_data = raw_data * calibration_factors[np.newaxis, :, np.newaxis]\nprint(\"Calibrated data shape:\", calibrated_data.shape)\n\n# Step 3: Masked indexing → replace negatives with 0\ncalibrated_data[calibrated_data < 0] = 0\n\n# Step 4: Extract critical sensors (indices 1, 3, 7)\ncritical_sensors = np.array([1, 3, 7])\nfinal_data = calibrated_data[:, critical_sensors, :]\nprint(\"Final data shape (critical sensors only):\", final_data.shape)\n\n\n\n\n# Raw data: (50, 8, 3) → 50 timesteps, 8 sensors, 3 measurements each.\n\n# Calibration: (8,) reshaped with np.newaxis → (1, 8, 1) for broadcasting across (50, 8, 3).\n\n# Masking: Replace invalid negative values with 0.\n\n# Indexing: final_data = calibrated_data[:, critical_sensors, :] selects only sensors 1, 3, and 7.",
      "metadata": {
        "trusted": true
      },
      "outputs": [
        {
          "name": "stdout",
          "output_type": "stream",
          "text": "Raw data shape: (50, 8, 3)\nCalibrated data shape: (50, 8, 3)\nFinal data shape (critical sensors only): (50, 3, 3)\n"
        }
      ],
      "execution_count": 2
    }
  ]
}