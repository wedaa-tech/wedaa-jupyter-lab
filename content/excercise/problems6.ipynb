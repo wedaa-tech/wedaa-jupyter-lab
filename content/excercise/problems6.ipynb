{
  "metadata": {
    "kernelspec": {
      "name": "python",
      "display_name": "Python (Pyodide)",
      "language": "python"
    },
    "language_info": {
      "codemirror_mode": {
        "name": "python",
        "version": 3
      },
      "file_extension": ".py",
      "mimetype": "text/x-python",
      "name": "python",
      "nbconvert_exporter": "python",
      "pygments_lexer": "ipython3",
      "version": "3.8"
    }
  },
  "nbformat_minor": 5,
  "nbformat": 4,
  "cells": [
    {
      "id": "c162a9fc",
      "cell_type": "code",
      "source": "import numpy as np\nimport matplotlib.pyplot as plt\n\n# Create a demo image for exercises\ndef create_demo_image():\n    \"\"\"Create a synthetic demo image with colored quadrants\"\"\"\n    demo_image = np.zeros((100, 100, 3), dtype=np.uint8)\n    demo_image[:50, :50, 0] = 255      # Red square (top-left)\n    demo_image[50:, 50:, 1] = 255      # Green square (bottom-right)\n    demo_image[:50, 50:, 2] = 255      # Blue square (top-right)\n    demo_image[50:, :50] = [128, 128, 0]  # Yellow square (bottom-left)\n    return demo_image\n\n# Load the demo image\nimage = create_demo_image()\nplt.figure(figsize=(6, 6))\nplt.imshow(image)\nplt.title(\"Demo Image for NumPy Exercises\")\nplt.axis('off')\nplt.show()\n",
      "metadata": {},
      "outputs": [],
      "execution_count": null
    },
    {
      "id": "2b8146eb",
      "cell_type": "markdown",
      "source": "## Basic Array & Image Operations (Questions 1-5)\n## Question 1: Image Loading and Properties\n\nExamine the properties of your loaded image",
      "metadata": {}
    },
    {
      "id": "2d876da5",
      "cell_type": "code",
      "source": "# Starter code\nimage = create_demo_image()\n\n# TODO: Print the image's shape, dtype, and total number of elements\nprint(\"Shape:\", )\nprint(\"Data type:\", )\nprint(\"Total elements:\", )\n\n# Calculate the memory usage in bytes\n# Memory usage = how much computer RAM (memory) the array occupies\n# Formula: total_elements × bytes_per_element\nprint(\"Memory usage (bytes):\", )\n\n# Display the image using matplotlib\nplt.figure(figsize=(5, 5))\n# Your code here\n",
      "metadata": {},
      "outputs": [],
      "execution_count": null
    },
    {
      "id": "2ca84aff",
      "cell_type": "markdown",
      "source": "## Question 2: Channel Extraction\n\nExtract and manipulate individual color channels",
      "metadata": {}
    },
    {
      "id": "a10089b1",
      "cell_type": "code",
      "source": "# Starter code\nimage = create_demo_image()\n\n# TODO: Extract each RGB channel separately\nred_channel =\ngreen_channel =\nblue_channel =\n\n# Create a grayscale version by averaging all three channels\ngrayscale =\n\n# Display all channels side by side using subplots\nplt.figure(figsize=(15, 3))\nplt.subplot(1, 4, 1)\n# Your code here for original image\n\nplt.subplot(1, 4, 2)\n# Your code here for red channel\n\nplt.subplot(1, 4, 3)\n# Your code here for green channel\n\nplt.subplot(1, 4, 4)\n# Your code here for blue channel\n\nplt.tight_layout()\nplt.show()\n",
      "metadata": {},
      "outputs": [],
      "execution_count": null
    },
    {
      "id": "d015a43a",
      "cell_type": "markdown",
      "source": "## Question 3: Basic Matrix Creation\n\nCreate different types of arrays using NumPy functions",
      "metadata": {}
    },
    {
      "id": "cf0aed93",
      "cell_type": "code",
      "source": "# Create a 4x4 identity matrix\nidentity_4x4 =\n\n# Create a 3x5 matrix filled with 10s (not ones!)\ntens_matrix =\n\n# Create a 2x4 matrix with random entries from uniform distribution [0,1)\nuniform_matrix =\n\n# Create a 3x3 matrix with random entries from normal distribution (mean=0, std=1)\nnormal_matrix =\n\n# Create a 2x3 matrix using np.fromfunction() where each element equals i*j + 1\ncustom_matrix =\n\nprint(\"Identity matrix:\\n\", identity_4x4)\nprint(\"\\nTens matrix:\\n\", tens_matrix)\nprint(\"\\nUniform random matrix:\\n\", uniform_matrix)\nprint(\"\\nNormal random matrix:\\n\", normal_matrix)\nprint(\"\\nCustom matrix:\\n\", custom_matrix)\n",
      "metadata": {},
      "outputs": [],
      "execution_count": null
    },
    {
      "id": "8f98f5b9",
      "cell_type": "markdown",
      "source": "## Question 4: Elementwise Operations\n\nPerform mathematical operations on arrays",
      "metadata": {}
    },
    {
      "id": "a7eb5edb",
      "cell_type": "code",
      "source": "# Given arrays\nA = np.array([[1, 2, 3], [4, 5, 6]])\nB = np.array([[2, 1, 4], [3, 2, 1]])\n\nprint(\"Array A:\\n\", A)\nprint(\"Array B:\\n\", B)\n\n# TODO: Perform elementwise addition, subtraction, and multiplication\naddition =\nsubtraction =\nmultiplication =\n\n# TODO: Apply np.sin() and np.exp() to array A\nsin_A =\nexp_A =\n\nprint(\"A + B:\\n\", addition)\nprint(\"A - B:\\n\", subtraction)\nprint(\"A * B:\\n\", multiplication)\nprint(\"sin(A):\\n\", sin_A)\nprint(\"exp(A):\\n\", exp_A)\n",
      "metadata": {},
      "outputs": [],
      "execution_count": null
    },
    {
      "id": "70909620",
      "cell_type": "markdown",
      "source": "## Question 5: Advanced Slicing\n\nPractice complex slicing operations",
      "metadata": {}
    },
    {
      "id": "f3f9d786",
      "cell_type": "code",
      "source": "# Given matrix\nmatrix = np.arange(64).reshape(8, 8)\nprint(\"Original matrix:\\n\", matrix)\n\n# Extract the main diagonal\nmain_diagonal =\n\n# Extract the anti-diagonal\n# The antidiagonal consists of elements where row + column = n-1\n# For an 8x8 matrix: positions (0,7), (1,6), (2,5), (3,4), (4,3), (5,2), (6,1), (7,0)\nanti_diagonal =\n\n# Create a border effect by setting the outer rows/columns to 255\nbordered = matrix.copy()\n# Your code here\n\nprint(\"Main diagonal:\", main_diagonal)\nprint(\"Anti-diagonal:\", anti_diagonal)\nprint(\"Bordered matrix:\\n\", bordered)\n",
      "metadata": {},
      "outputs": [],
      "execution_count": null
    },
    {
      "id": "de42bc09",
      "cell_type": "markdown",
      "source": "## Question 6: Image Cropping and Slicing\n\nApply slicing operations to images",
      "metadata": {}
    },
    {
      "id": "dc6cfe3b",
      "cell_type": "code",
      "source": "# Starter code\nimage = create_demo_image()\n\n# Crop to get the center quarter of the image\nheight, width = image.shape[:2]\ncenter_crop =\n\n# Extract every other pixel (striding) to resize to half\nhalf_size =\n\n# Create a checkerboard pattern by setting alternate pixels to 0\ncheckerboard = image.copy()\n# Your code here\n\n# Display results\nplt.figure(figsize=(12, 4))\nplt.subplot(1, 3, 1)\nplt.imshow(center_crop)\nplt.title(\"Center Quarter\")\n\nplt.subplot(1, 3, 2)\nplt.imshow(half_size)\nplt.title(\"Half Size\")\n\nplt.subplot(1, 3, 3)\nplt.imshow(checkerboard)\nplt.title(\"Checkerboard\")\n\nplt.tight_layout()\nplt.show()\n",
      "metadata": {},
      "outputs": [],
      "execution_count": null
    },
    {
      "id": "657567c4",
      "cell_type": "markdown",
      "source": "## Question 7: Image Histogram Analysis\n\nAnalyze pixel distributions",
      "metadata": {}
    },
    {
      "id": "76463eec",
      "cell_type": "code",
      "source": "# Starter code\nimage = create_demo_image()\n\n# Create histograms for each RGB channel\nred_hist =\ngreen_hist =\nblue_hist =\n\n# Find the mean and standard deviation of each channel\nred_mean, red_std =\ngreen_mean, green_std =\nblue_mean, blue_std =\n\n# Plot histograms\nplt.figure(figsize=(15, 4))\nplt.subplot(1, 3, 1)\n# Your histogram code here\n\nplt.subplot(1, 3, 2)\n# Your histogram code here\n\nplt.subplot(1, 3, 3)\n# Your histogram code here\n\nplt.tight_layout()\nplt.show()\n\nprint(f\"Red - Mean: {red_mean:.2f}, Std: {red_std:.2f}\")\nprint(f\"Green - Mean: {green_mean:.2f}, Std: {green_std:.2f}\")\nprint(f\"Blue - Mean: {blue_mean:.2f}, Std: {blue_std:.2f}\")\n",
      "metadata": {},
      "outputs": [],
      "execution_count": null
    },
    {
      "id": "3de6627e",
      "cell_type": "markdown",
      "source": "## Question 8: Eigenvalues and Eigenvectors\n\nCompute and verify eigendecomposition",
      "metadata": {}
    },
    {
      "id": "aed29503",
      "cell_type": "code",
      "source": "# Given matrix\nM = np.array([[4, 2], [1, 3]])\n\nprint(\"Matrix M:\\n\", M)\n\n# Find eigenvalues and eigenvectors\neigenvalues, eigenvectors =\n\n# Verify that M @ v = λ * v for the first eigenvector\nv1 = eigenvectors[:, 0]\nlambda1 = eigenvalues[0]\n\nleft_side =\nright_side =\n\nprint(\"Eigenvalues:\", eigenvalues)\nprint(\"Eigenvectors:\\n\", eigenvectors)\nprint(\"Verification for first eigenvector:\")\nprint(\"M @ v1 =\", left_side)\nprint(\"λ1 * v1 =\", right_side)\nprint(\"Difference:\", np.abs(left_side - right_side))\n",
      "metadata": {},
      "outputs": [],
      "execution_count": null
    },
    {
      "id": "46c04f4b",
      "cell_type": "markdown",
      "source": "## Question 9: Matrix Decomposition\n\nPerform various matrix decompositions",
      "metadata": {}
    },
    {
      "id": "fd67d308",
      "cell_type": "code",
      "source": "# Given symmetric matrix\nS = np.array([[4, 2, 1], [2, 3, 0], [1, 0, 2]])\n\nprint(\"Matrix S:\\n\", S)\n\n# Compute the determinant and inverse\ndet_S =\ninv_S =\n\n# Perform SVD decomposition\nU, sigma, Vt =\n\n# Calculate the Frobenius norm\nfrobenius_norm =\n\nprint(\"Determinant:\", det_S)\nprint(\"Inverse:\\n\", inv_S)\nprint(\"SVD - U shape:\", U.shape, \"sigma shape:\", sigma.shape, \"Vt shape:\", Vt.shape)\nprint(\"Frobenius norm:\", frobenius_norm)\n",
      "metadata": {},
      "outputs": [],
      "execution_count": null
    },
    {
      "id": "b94e25f1",
      "cell_type": "markdown",
      "source": "## Question 10: Least Squares Fitting\n\nFit a line to noisy data",
      "metadata": {}
    },
    {
      "id": "7e3165ab",
      "cell_type": "code",
      "source": "# Create synthetic data\nx = np.linspace(0, 10, 50)\ntrue_slope = 2\ntrue_intercept = 1\nnoise = np.random.normal(0, 0.5, 50)\ny = true_slope * x + true_intercept + noise\n\n# Use np.linalg.lstsq() to fit a line\n# Set up the matrix equation: y = Ax where A = [x, ones], x = [slope, intercept]\nA =\nresult =\ncoefficients =\n\nfitted_slope = coefficients[0]\nfitted_intercept = coefficients[1]\n\n# Plot the original data and fitted line\nplt.figure(figsize=(8, 6))\nplt.scatter(x, y, alpha=0.6, label='Data with noise')\n# Your plotting code here\n\nplt.xlabel('x')\nplt.ylabel('y')\nplt.legend()\nplt.title(f'Least Squares Fit: y = {fitted_slope:.2f}x + {fitted_intercept:.2f}')\nplt.show()\n\nprint(f\"True: slope={true_slope}, intercept={true_intercept}\")\nprint(f\"Fitted: slope={fitted_slope:.3f}, intercept={fitted_intercept:.3f}\")\n",
      "metadata": {},
      "outputs": [],
      "execution_count": null
    }
  ]
}