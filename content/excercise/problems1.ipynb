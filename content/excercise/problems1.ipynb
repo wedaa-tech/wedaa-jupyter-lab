{
  "metadata": {
    "kernelspec": {
      "name": "python",
      "display_name": "Python (Pyodide)",
      "language": "python"
    },
    "language_info": {
      "codemirror_mode": {
        "name": "python",
        "version": 3
      },
      "file_extension": ".py",
      "mimetype": "text/x-python",
      "name": "python",
      "nbconvert_exporter": "python",
      "pygments_lexer": "ipython3",
      "version": "3.8"
    }
  },
  "nbformat_minor": 5,
  "nbformat": 4,
  "cells": [
    {
      "id": "0a0b9a24-f34e-4091-9306-e2200dd08b7c",
      "cell_type": "markdown",
      "source": " 1) Find the Maximum Number in a list. Hint use the `max` builtin function.\n\n    Input: [10, 25, 3, 99, 45]  \n    Output: 99",
      "metadata": {}
    },
    {
      "id": "6e58640e-43ab-48b6-afb4-58fb64842d07",
      "cell_type": "code",
      "source": "",
      "metadata": {},
      "outputs": [],
      "execution_count": null
    },
    {
      "id": "0901c6f1-4a94-4da1-8604-7689a9295144",
      "cell_type": "markdown",
      "source": " 2) Given a number with less than 10 digits, create a list with the digits of the number.\n\n    Input: 45  \n    Output: [4,5]\n\n    Input: 62173  \n    Output: [6,2,1,7,3]",
      "metadata": {}
    },
    {
      "id": "b7e098a2-d8ca-41af-9558-e7ab97ba3d49",
      "cell_type": "code",
      "source": "",
      "metadata": {},
      "outputs": [],
      "execution_count": null
    },
    {
      "id": "1a1e717d-a8ce-4480-8705-a080625a1549",
      "cell_type": "markdown",
      "source": "    \n 3) Sum of Digits in a Number\n\n    Problem:\n    Given an integer(less than 10 digits), find the sum of its digits.\n    Hint: Use floor division `//` binary operator to get the integer part when you perform a division.\n    For example `11//2 ==  5`\n    \n    Input: 4562  \n    Output: 17\n ",
      "metadata": {}
    },
    {
      "id": "750732e4-f374-41b7-b3b7-3d8d00ac1473",
      "cell_type": "code",
      "source": "",
      "metadata": {},
      "outputs": [],
      "execution_count": null
    },
    {
      "id": "85703c04-ea78-426a-b8dd-b1b0543cc164",
      "cell_type": "markdown",
      "source": "    \n 4) Factorial of a Number\n\n    Problem:\n    Given an integer n, calculate its factorial (n!) \n\n    Input: 5  \n    Output: 120",
      "metadata": {}
    },
    {
      "id": "39f1ac4b-a31f-466b-bfab-f8805b2d2e3b",
      "cell_type": "code",
      "source": "",
      "metadata": {},
      "outputs": [],
      "execution_count": null
    },
    {
      "id": "a9810f01-ec86-4ab2-b5d1-951f4bd98847",
      "cell_type": "markdown",
      "source": "    \n 5) Divisible by 4 but not by 8\n\n    Problem: Print all numbers from 1 to 100 that are divisible by 4 but not divisible by 8.\n\n  ",
      "metadata": {}
    },
    {
      "id": "08934372-d43d-4a39-9b93-b04a1507fdfc",
      "cell_type": "code",
      "source": "",
      "metadata": {},
      "outputs": [],
      "execution_count": null
    },
    {
      "id": "d09d83a6-25d9-4548-b24e-067f99ac30e2",
      "cell_type": "markdown",
      "source": "  6) Replace All Negative Numbers with Zero\n\n    Given a list of integers, replace all negative numbers with 0\n\n    Input: [-3, 5, -1, 7]  \n    Output: [0, 5, 0, 7]",
      "metadata": {}
    },
    {
      "id": "a9c67f98-db81-448c-97e7-19ee5c13853d",
      "cell_type": "code",
      "source": "",
      "metadata": {},
      "outputs": [],
      "execution_count": null
    }
  ]
}