{
  "metadata": {
    "kernelspec": {
      "name": "python",
      "display_name": "Python (Pyodide)",
      "language": "python"
    },
    "language_info": {
      "codemirror_mode": {
        "name": "python",
        "version": 3
      },
      "file_extension": ".py",
      "mimetype": "text/x-python",
      "name": "python",
      "nbconvert_exporter": "python",
      "pygments_lexer": "ipython3",
      "version": "3.8"
    }
  },
  "nbformat_minor": 5,
  "nbformat": 4,
  "cells": [
    {
      "id": "b30e9926-c16c-45c0-9891-0399c5db5212",
      "cell_type": "markdown",
      "source": "## Problem set for class 5",
      "metadata": {}
    },
    {
      "id": "25657282-83b4-4121-8bc5-ad82eb4d2c10",
      "cell_type": "markdown",
      "source": "1. Consider the 7 different batsman data provided to you. Compute the mean,\n   median, mode, standard deviation for each of these batsmen. Store the names\n   of the batsmen in a list. Then store the mean/median/mode for each batsman\n   in the same order.  You should have 5 lists with you at the end of this.",
      "metadata": {}
    },
    {
      "id": "b91272a3-d754-4ef4-9da0-f5f18e299c0b",
      "cell_type": "code",
      "source": "",
      "metadata": {},
      "outputs": [],
      "execution_count": null
    },
    {
      "id": "61bec040-55b4-4309-838e-358b1836485c",
      "cell_type": "markdown",
      "source": "2. Make a barchart comparing each of the batsmen. That is make 3 plots, one\n   showing mean of all the batsmen (with suitable ticks), one plot for the\n   median and one for the mode.",
      "metadata": {}
    },
    {
      "id": "236c45bd-12a2-4626-b5e6-817c2fc73cae",
      "cell_type": "code",
      "source": "",
      "metadata": {},
      "outputs": [],
      "execution_count": null
    },
    {
      "id": "02dbe047-d24b-4fb7-a1de-28df87440eef",
      "cell_type": "markdown",
      "source": "3. Look up the documentation for `plt.errorbar` (you can look this up online\n   also) and draw the means of each batsman along with an error bar\n   illustrating the standard deviation of their scores.",
      "metadata": {}
    },
    {
      "id": "1feecd5e-5117-4afb-9144-d8aa590da176",
      "cell_type": "code",
      "source": "",
      "metadata": {},
      "outputs": [],
      "execution_count": null
    },
    {
      "id": "27d82249-9649-48a7-b46e-91f5a9c70acb",
      "cell_type": "markdown",
      "source": "4. Plot a suitable histogram for any 4 of the batsmen and compare them, you\n   can make 2 plots of two pairs or 3 plots of any 3 pairs.",
      "metadata": {}
    },
    {
      "id": "d0d0dd8f-ab50-4f8a-922b-1a49a3615b4d",
      "cell_type": "code",
      "source": "",
      "metadata": {},
      "outputs": [],
      "execution_count": null
    },
    {
      "id": "21389c65-8b9c-4724-b0cd-5de03a348cce",
      "cell_type": "markdown",
      "source": "5. Make a boxplot comparing all batsmen.",
      "metadata": {}
    },
    {
      "id": "8c2dd704-6159-46d7-882f-ee3c3610f858",
      "cell_type": "code",
      "source": "",
      "metadata": {},
      "outputs": [],
      "execution_count": null
    },
    {
      "id": "c81c15f7-7c76-409e-965f-c350cb53289f",
      "cell_type": "markdown",
      "source": "6. Make a violinplot comparing all batsmen.",
      "metadata": {}
    },
    {
      "id": "d1e4fdc0-d77a-48d7-8748-baf2b263d3ab",
      "cell_type": "code",
      "source": "",
      "metadata": {},
      "outputs": [],
      "execution_count": null
    },
    {
      "id": "73ec1493-d6f0-4a49-a9c0-d3d05a17d4f7",
      "cell_type": "markdown",
      "source": "7. Comment on whether it is possible to plot all 7 batsmen together as a\n   histogram? Is this a good idea? Contrast this with the boxplot and\n   violinplot.",
      "metadata": {}
    },
    {
      "id": "be1238d4-9693-4f6a-87f0-8f22f502af7c",
      "cell_type": "code",
      "source": "",
      "metadata": {},
      "outputs": [],
      "execution_count": null
    }
  ]
}