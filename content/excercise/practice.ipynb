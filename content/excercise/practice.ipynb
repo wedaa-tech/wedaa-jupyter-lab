{
  "metadata": {
    "kernelspec": {
      "name": "python",
      "display_name": "Python (Pyodide)",
      "language": "python"
    },
    "language_info": {
      "codemirror_mode": {
        "name": "python",
        "version": 3
      },
      "file_extension": ".py",
      "mimetype": "text/x-python",
      "name": "python",
      "nbconvert_exporter": "python",
      "pygments_lexer": "ipython3",
      "version": "3.8"
    }
  },
  "nbformat_minor": 5,
  "nbformat": 4,
  "cells": [
    {
      "id": "3ebc9e5a-687d-444a-9f96-10e8c64a116f",
      "cell_type": "code",
      "source": "import numpy as np\n\ndataset = np.random.randint(0, 101, size=(10, 5, 5))\nprint(\"Original dataset shape:\", dataset.shape)\n\n#print(dataset)\n\nmeans = dataset.mean(axis=(0, 2))   # shape (10,)\nprint(\"Means shape:\", means.shape)\nprint(\"Means:\", means)",
      "metadata": {
        "trusted": true
      },
      "outputs": [
        {
          "name": "stdout",
          "output_type": "stream",
          "text": "Original dataset shape: (10, 5, 5)\nMeans shape: (5,)\nMeans: [47.38 49.04 54.24 49.28 43.3 ]\n"
        }
      ],
      "execution_count": 18
    },
    {
      "id": "49936c87-d5ae-4047-bc30-8ed31e5ac779",
      "cell_type": "code",
      "source": "import numpy as np\nimport matplotlib.pyplot as plt\n\n# Step 1: Create coordinate arrays\nx = np.linspace(-1, 2, 5)\ny = np.linspace(-2, 3, 5)\n\n# Step 2: Create 2D grid with meshgrid\nX, Y = np.meshgrid(x, y)\n\nprint(X)\nprint(Y)",
      "metadata": {
        "trusted": true
      },
      "outputs": [
        {
          "name": "stdout",
          "output_type": "stream",
          "text": "[[-1.   -0.25  0.5   1.25  2.  ]\n [-1.   -0.25  0.5   1.25  2.  ]\n [-1.   -0.25  0.5   1.25  2.  ]\n [-1.   -0.25  0.5   1.25  2.  ]\n [-1.   -0.25  0.5   1.25  2.  ]]\n[[-2.   -2.   -2.   -2.   -2.  ]\n [-0.75 -0.75 -0.75 -0.75 -0.75]\n [ 0.5   0.5   0.5   0.5   0.5 ]\n [ 1.75  1.75  1.75  1.75  1.75]\n [ 3.    3.    3.    3.    3.  ]]\n"
        }
      ],
      "execution_count": 22
    }
  ]
}