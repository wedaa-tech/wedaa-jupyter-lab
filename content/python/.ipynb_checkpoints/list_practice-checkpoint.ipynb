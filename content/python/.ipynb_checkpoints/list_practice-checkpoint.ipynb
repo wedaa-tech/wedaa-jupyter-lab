{
  "metadata": {
    "kernelspec": {
      "name": "python",
      "display_name": "Python (Pyodide)",
      "language": "python"
    },
    "language_info": {
      "codemirror_mode": {
        "name": "python",
        "version": 3
      },
      "file_extension": ".py",
      "mimetype": "text/x-python",
      "name": "python",
      "nbconvert_exporter": "python",
      "pygments_lexer": "ipython3",
      "version": "3.8"
    }
  },
  "nbformat_minor": 5,
  "nbformat": 4,
  "cells": [
    {
      "id": "f475de35-c5eb-47ee-b564-214c0a6850cf",
      "cell_type": "code",
      "source": "empty_list=[]",
      "metadata": {
        "trusted": true
      },
      "outputs": [],
      "execution_count": 1
    },
    {
      "id": "3bf9b6ce-a2f9-4e64-b2eb-9455ea9cd21d",
      "cell_type": "code",
      "source": "my_list=[1,2,\"Banana\",\"Help\"]\nprint(my_list)",
      "metadata": {
        "trusted": true
      },
      "outputs": [
        {
          "name": "stdout",
          "output_type": "stream",
          "text": "[1, 2, 'Banana', 'Help']\n"
        }
      ],
      "execution_count": 3
    },
    {
      "id": "08e9aa33-5c6d-4916-b337-62f997cd22cb",
      "cell_type": "code",
      "source": "fruits=[\"Apple\", \"Banana\", \"Cherry\"]\nprint(fruits)",
      "metadata": {
        "trusted": true
      },
      "outputs": [
        {
          "name": "stdout",
          "output_type": "stream",
          "text": "['Apple', 'Banana', 'Cherry']\n"
        }
      ],
      "execution_count": 4
    },
    {
      "id": "c0704ae0-dba1-4d72-9ae9-576e24eba2e7",
      "cell_type": "code",
      "source": "# List slicing\nnumbers=[1,2,3,4,5,6,7,8,9,10]\nprint(numbers[2:5])\nprint(numbers[:3])\nprint(numbers[3:])\nprint(numbers[::2])\nprint(numbers[::-1])\nprint(numbers[::1])\n\nletters=[\"a\",\"b\",\"c\",\"d\",\"e\",\"f\",\"g\",\"h\",\"i\"]\nprint(letters[3:-1])\nprint(letters[-3:-1])\nprint(letters[-1])\nprint(letters[1])",
      "metadata": {
        "trusted": true,
        "tags": [],
        "editable": true,
        "slideshow": {
          "slide_type": ""
        }
      },
      "outputs": [
        {
          "name": "stdout",
          "output_type": "stream",
          "text": "[3, 4, 5]\n[1, 2, 3]\n[4, 5, 6, 7, 8, 9, 10]\n[1, 3, 5, 7, 9]\n[10, 9, 8, 7, 6, 5, 4, 3, 2, 1]\n[1, 2, 3, 4, 5, 6, 7, 8, 9, 10]\n['d', 'e', 'f', 'g', 'h']\n['g', 'h']\ni\nb\n"
        }
      ],
      "execution_count": 38
    },
    {
      "id": "9f521b82-46b3-4f2b-8316-dbd057a95172",
      "cell_type": "code",
      "source": "#Adding items to list\nitems=[\"pen\", \"books\"]\nitems.append(\"pencil\")\nprint(items)\nitems.extend([\"eraser\", \"marker\"])\nprint(items)\nitems.insert(1,\"notebook\")\nprint(items)",
      "metadata": {
        "trusted": true
      },
      "outputs": [
        {
          "name": "stdout",
          "output_type": "stream",
          "text": "['pen', 'books', 'pencil']\n['pen', 'books', 'pencil', 'eraser', 'marker']\n['pen', 'notebook', 'books', 'pencil', 'eraser', 'marker']\n"
        }
      ],
      "execution_count": 18
    },
    {
      "id": "cef94e22-8054-4d7a-b8da-1bcd4da3f98a",
      "cell_type": "code",
      "source": "# Removing items from List\ncolors=[\"red\", \"green\", \"blue\", \"yellow\"]\ncolors.remove(\"blue\")\nprint(colors)\npopped_item= colors.pop(2)\nprint(colors)\nprint(popped_item)\ndel colors[0]\nprint(colors)",
      "metadata": {
        "trusted": true
      },
      "outputs": [
        {
          "name": "stdout",
          "output_type": "stream",
          "text": "['red', 'green', 'yellow']\n['red', 'green']\nyellow\n['green']\n"
        }
      ],
      "execution_count": 23
    },
    {
      "id": "1dddf78d-d8db-4b1e-8467-39d85c5e948a",
      "cell_type": "code",
      "source": "",
      "metadata": {
        "trusted": true
      },
      "outputs": [],
      "execution_count": null
    }
  ]
}