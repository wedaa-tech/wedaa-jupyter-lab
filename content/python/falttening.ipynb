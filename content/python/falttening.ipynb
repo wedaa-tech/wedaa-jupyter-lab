{
  "metadata": {
    "kernelspec": {
      "name": "python",
      "display_name": "Python (Pyodide)",
      "language": "python"
    },
    "language_info": {
      "codemirror_mode": {
        "name": "python",
        "version": 3
      },
      "file_extension": ".py",
      "mimetype": "text/x-python",
      "name": "python",
      "nbconvert_exporter": "python",
      "pygments_lexer": "ipython3",
      "version": "3.8"
    }
  },
  "nbformat_minor": 5,
  "nbformat": 4,
  "cells": [
    {
      "id": "620c763e-5261-4184-ae2b-470dfc5032a7",
      "cell_type": "code",
      "source": "nested_list=[[\"1\",\"2\"],[\"3\",\"4\"],[\"a\",\"b\"]]\nprint(nested_list)\nflat_list=[]\nfor sublist in nested_list:\n    for item in sublist:\n        flat_list.append(item)\n\nprint(flat_list)\n\n",
      "metadata": {
        "trusted": true
      },
      "outputs": [
        {
          "name": "stdout",
          "output_type": "stream",
          "text": "[['1', '2'], ['3', '4'], ['a', 'b']]\n['1', '2', '3', '4', 'a', 'b']\n"
        }
      ],
      "execution_count": 5
    },
    {
      "id": "1706ded2-18fc-41cb-8e15-83937ad94e91",
      "cell_type": "code",
      "source": "# List comprehension\n\nnested_list=[[\"1\",\"2\"],[\"3\",\"4\"],[\"a\",\"b\"]]\nprint(nested_list)\nflat_list=[item for sublist in nested_list for item in sublist ]\nprint(flat_list)",
      "metadata": {
        "trusted": true
      },
      "outputs": [
        {
          "name": "stdout",
          "output_type": "stream",
          "text": "[['1', '2'], ['3', '4'], ['a', 'b']]\n['1', '2', '3', '4', 'a', 'b']\n"
        }
      ],
      "execution_count": 6
    },
    {
      "id": "51648bf5-cc1e-4807-b792-facab4331e21",
      "cell_type": "code",
      "source": "import numpy as np\n\nnested_list=[[\"1\",\"2\"],[\"3\",\"4\"],[\"a\",\"b\"]]\n\narr = np.array(nested_list)\nprint(arr)\nflat_list=arr.flatten()\nprint(flat_list)\n",
      "metadata": {
        "trusted": true
      },
      "outputs": [
        {
          "name": "stdout",
          "output_type": "stream",
          "text": "[['1' '2']\n ['3' '4']\n ['a' 'b']]\n['1' '2' '3' '4' 'a' 'b']\n"
        }
      ],
      "execution_count": 9
    },
    {
      "id": "c11dba61-272c-401b-b10e-1bbd560bbd34",
      "cell_type": "code",
      "source": "def count_up_to(n):\n    num = 1;\n    while num<=n:\n        yield num\n        num += 1\n\ncounter = count_up_to(3)\nprint(next(counter))\nprint(next(counter))",
      "metadata": {
        "trusted": true
      },
      "outputs": [
        {
          "name": "stdout",
          "output_type": "stream",
          "text": "1\n2\n"
        }
      ],
      "execution_count": 11
    },
    {
      "id": "c358fa29-aefb-4ce9-9402-c34d61a7ffcb",
      "cell_type": "code",
      "source": "def flatten_nested(nestedObj):\n    for item in nestedObj:\n        if isinstance(item, (list,tuple)) and not isinstance(item, (str,bytes)):\n            yield from flatten_nested(item)\n        else:\n            yield item\ndata = [1, [2, 3], [4, [5, 6]]]\nprint(list(flatten_nested(data)))\n\ndata_x = [1, (2, 3), {4, 5}, [6, (7, {8, 9})]]\nprint(list(flatten_nested(data_x)))\n\ndata_tuple=(1,2,(3,(4,5)))\nprint(set(flatten_nested(data_tuple)))\n\n",
      "metadata": {
        "trusted": true
      },
      "outputs": [
        {
          "name": "stdout",
          "output_type": "stream",
          "text": "[1, 2, 3, 4, 5, 6]\n[1, 2, 3, {4, 5}, 6, 7, {8, 9}]\n{1, 2, 3, 4, 5}\n"
        }
      ],
      "execution_count": 21
    },
    {
      "id": "14ed8b31-cde6-485e-8a70-0c1948ae13b4",
      "cell_type": "code",
      "source": "",
      "metadata": {
        "trusted": true,
        "tags": [],
        "editable": true,
        "slideshow": {
          "slide_type": ""
        }
      },
      "outputs": [],
      "execution_count": null
    }
  ]
}