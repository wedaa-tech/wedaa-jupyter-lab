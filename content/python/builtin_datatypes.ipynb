{
 "cells": [
  {
   "cell_type": "markdown",
   "id": "e34a348f-fd5f-4034-af42-2e7001122d69",
   "metadata": {},
   "source": [
    "### Built-in complex datatypes"
   ]
  },
  {
   "cell_type": "code",
   "execution_count": 2,
   "id": "ea702c94-bf0e-414e-bac8-cb5717c27cda",
   "metadata": {},
   "outputs": [
    {
     "name": "stdout",
     "output_type": "stream",
     "text": [
      "[1, 2, 3, 4]\n"
     ]
    }
   ],
   "source": [
    "l1 = [1,2,3,4]\n",
    "print(l1)"
   ]
  },
  {
   "cell_type": "code",
   "execution_count": 3,
   "id": "1606b240-f09d-4dc7-979f-bbc79714c2a3",
   "metadata": {},
   "outputs": [
    {
     "name": "stdout",
     "output_type": "stream",
     "text": [
      "(10.5, 3.2)\n"
     ]
    }
   ],
   "source": [
    "coordinates = (10.5, 3.2)\n",
    "print(coordinates)"
   ]
  },
  {
   "cell_type": "code",
   "execution_count": 4,
   "id": "e59d53b6-7e26-4fa9-b411-93db8acc69c6",
   "metadata": {},
   "outputs": [
    {
     "name": "stdout",
     "output_type": "stream",
     "text": [
      "{1, 2, 3, 4}\n"
     ]
    }
   ],
   "source": [
    "color = {1,2,3,4}\n",
    "print(color)"
   ]
  },
  {
   "cell_type": "code",
   "execution_count": 9,
   "id": "13694b1f-02ee-4690-9b72-9016083276e1",
   "metadata": {},
   "outputs": [
    {
     "name": "stdout",
     "output_type": "stream",
     "text": [
      "{'name': 'Rahul', 'age': 21, 'marks': [1, 2, 3, 4]}\n",
      "Rahul\n",
      "21\n"
     ]
    }
   ],
   "source": [
    "student = {\"name\": \"Rahul\", \"age\": 21, \"marks\": [1,2,3,4]}\n",
    "print(student)\n",
    "print(student[\"name\"])\n",
    "print(student[\"age\"])"
   ]
  },
  {
   "cell_type": "code",
   "execution_count": null,
   "id": "46ee324d-0b03-4536-ace0-e357cced7674",
   "metadata": {},
   "outputs": [],
   "source": []
  }
 ],
 "metadata": {
  "kernelspec": {
   "display_name": "Python 3 (ipykernel)",
   "language": "python",
   "name": "python3"
  },
  "language_info": {
   "codemirror_mode": {
    "name": "ipython",
    "version": 3
   },
   "file_extension": ".py",
   "mimetype": "text/x-python",
   "name": "python",
   "nbconvert_exporter": "python",
   "pygments_lexer": "ipython3",
   "version": "3.13.7"
  }
 },
 "nbformat": 4,
 "nbformat_minor": 5
}
