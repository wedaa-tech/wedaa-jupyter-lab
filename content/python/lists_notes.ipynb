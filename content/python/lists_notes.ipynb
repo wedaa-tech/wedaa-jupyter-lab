{
  "metadata": {
    "kernelspec": {
      "name": "python",
      "display_name": "Python (Pyodide)",
      "language": "python"
    },
    "language_info": {
      "codemirror_mode": {
        "name": "python",
        "version": 3
      },
      "file_extension": ".py",
      "mimetype": "text/x-python",
      "name": "python",
      "nbconvert_exporter": "python",
      "pygments_lexer": "ipython3",
      "version": "3.8"
    }
  },
  "nbformat_minor": 5,
  "nbformat": 4,
  "cells": [
    {
      "id": "8fc74da9-ece4-49ea-8f84-0f291365c9d3",
      "cell_type": "code",
      "source": "# Empty list\nempty_list = []\n\n# List with mixed data types\nmy_list = [1, \"apple\", 3.14, True]\n\nprint(my_list)  # [1, 'apple', 3.14, True]",
      "metadata": {
        "trusted": true
      },
      "outputs": [
        {
          "name": "stdout",
          "output_type": "stream",
          "text": "[1, 'apple', 3.14, True]\n"
        }
      ],
      "execution_count": 1
    },
    {
      "id": "ef63d080-5bcd-4331-b905-d8aa2a0de280",
      "cell_type": "code",
      "source": "fruits = [\"apple\", \"banana\", \"cherry\"]\n\nprint(fruits[0])   # apple (first element)\nprint(fruits[-1])  # cherry (last element)",
      "metadata": {
        "trusted": true
      },
      "outputs": [
        {
          "name": "stdout",
          "output_type": "stream",
          "text": "apple\ncherry\n"
        }
      ],
      "execution_count": 2
    },
    {
      "id": "59e10c63-0759-4337-89c3-71469b3f0f0e",
      "cell_type": "code",
      "source": "# Slicing\nnumbers = [0, 1, 2, 3, 4, 5]\nprint(numbers[2:5])   # [2, 3, 4]\nprint(numbers[:3])    # [0, 1, 2]\nprint(numbers[3:])    # [3, 4, 5]",
      "metadata": {
        "trusted": true
      },
      "outputs": [
        {
          "name": "stdout",
          "output_type": "stream",
          "text": "[2, 3, 4]\n[0, 1, 2]\n[3, 4, 5]\n"
        }
      ],
      "execution_count": 3
    },
    {
      "id": "f043fdec-c40c-42d7-8bb9-c25a6129284b",
      "cell_type": "code",
      "source": "#Adding Items\n\nitems = [\"pen\", \"book\"]\n\nitems.append(\"pencil\")   # Add single item\nitems.extend([\"eraser\", \"marker\"])  # Add multiple items\nitems.insert(1, \"notebook\")  # Insert at specific index\n\nprint(items)\n# ['pen', 'notebook', 'book', 'pencil', 'eraser', 'marker']\n",
      "metadata": {
        "trusted": true
      },
      "outputs": [
        {
          "name": "stdout",
          "output_type": "stream",
          "text": "['pen', 'notebook', 'book', 'pencil', 'eraser', 'marker']\n"
        }
      ],
      "execution_count": 4
    },
    {
      "id": "f97ba066-21c8-47a3-a3ae-6b7a2ed18ffd",
      "cell_type": "code",
      "source": "#Removing Items\ncolors = [\"red\", \"blue\", \"green\", \"blue\"]\n\ncolors.remove(\"blue\")  # Removes first occurrence\npopped_item = colors.pop(1)  # Removes at index and returns it\ndel colors[0]           # Deletes element at index\n\nprint(colors)      # ['green', 'blue']\nprint(popped_item) # 'blue'",
      "metadata": {
        "trusted": true,
        "tags": [],
        "editable": true,
        "slideshow": {
          "slide_type": ""
        }
      },
      "outputs": [
        {
          "name": "stdout",
          "output_type": "stream",
          "text": "['blue']\ngreen\n"
        }
      ],
      "execution_count": 5
    }
  ]
}