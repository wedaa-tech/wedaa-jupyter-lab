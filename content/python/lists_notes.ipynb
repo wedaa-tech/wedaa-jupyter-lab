{
 "cells": [
  {
   "cell_type": "code",
   "execution_count": null,
   "id": "8fc74da9-ece4-49ea-8f84-0f291365c9d3",
   "metadata": {},
   "outputs": [],
   "source": [
    "# Empty list\n",
    "empty_list = []\n",
    "\n",
    "# List with mixed data types\n",
    "my_list = [1, \"apple\", 3.14, True]\n",
    "\n",
    "print(my_list)  # [1, 'apple', 3.14, True]"
   ]
  },
  {
   "cell_type": "code",
   "execution_count": null,
   "id": "ef63d080-5bcd-4331-b905-d8aa2a0de280",
   "metadata": {},
   "outputs": [],
   "source": [
    "fruits = [\"apple\", \"banana\", \"cherry\"]\n",
    "\n",
    "print(fruits[0])   # apple (first element)\n",
    "print(fruits[-1])  # cherry (last element)"
   ]
  },
  {
   "cell_type": "code",
   "execution_count": null,
   "id": "59e10c63-0759-4337-89c3-71469b3f0f0e",
   "metadata": {},
   "outputs": [],
   "source": [
    "# Slicing\n",
    "numbers = [0, 1, 2, 3, 4, 5]\n",
    "print(numbers[2:5])   # [2, 3, 4]\n",
    "print(numbers[:3])    # [0, 1, 2]\n",
    "print(numbers[3:])    # [3, 4, 5]"
   ]
  },
  {
   "cell_type": "code",
   "execution_count": null,
   "id": "f043fdec-c40c-42d7-8bb9-c25a6129284b",
   "metadata": {},
   "outputs": [],
   "source": [
    "#Adding Items\n",
    "\n",
    "items = [\"pen\", \"book\"]\n",
    "\n",
    "items.append(\"pencil\")   # Add single item\n",
    "items.extend([\"eraser\", \"marker\"])  # Add multiple items\n",
    "items.insert(1, \"notebook\")  # Insert at specific index\n",
    "\n",
    "print(items)\n",
    "# ['pen', 'notebook', 'book', 'pencil', 'eraser', 'marker']\n"
   ]
  },
  {
   "cell_type": "code",
   "execution_count": null,
   "id": "f97ba066-21c8-47a3-a3ae-6b7a2ed18ffd",
   "metadata": {
    "editable": true,
    "slideshow": {
     "slide_type": ""
    },
    "tags": []
   },
   "outputs": [],
   "source": [
    "#Removing Items\n",
    "colors = [\"red\", \"blue\", \"green\", \"blue\"]\n",
    "\n",
    "colors.remove(\"blue\")  # Removes first occurrence\n",
    "popped_item = colors.pop(1)  # Removes at index and returns it\n",
    "del colors[0]           # Deletes element at index\n",
    "\n",
    "print(colors)      # ['green', 'blue']\n",
    "print(popped_item) # 'blue'"
   ]
  }
 ],
 "metadata": {
  "kernelspec": {
   "display_name": "Python 3 (ipykernel)",
   "language": "python",
   "name": "python3"
  },
  "language_info": {
   "codemirror_mode": {
    "name": "ipython",
    "version": 3
   },
   "file_extension": ".py",
   "mimetype": "text/x-python",
   "name": "python",
   "nbconvert_exporter": "python",
   "pygments_lexer": "ipython3",
   "version": "3.13.7"
  }
 },
 "nbformat": 4,
 "nbformat_minor": 5
}
