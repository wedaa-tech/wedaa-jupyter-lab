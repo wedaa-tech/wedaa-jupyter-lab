{
 "cells": [
  {
   "cell_type": "markdown",
   "id": "236594bb-4a26-46e8-90b3-3d489889115e",
   "metadata": {},
   "source": [
    "### Function arguments\n",
    "\n",
    "- Functions can take any number of arguments including none\n",
    "- You can have default arguments and keyword arguments.\n",
    "- Keyword arguments always come after positional arguments."
   ]
  },
  {
   "cell_type": "code",
   "execution_count": null,
   "id": "dd32154e-ed07-423a-a006-9db6ff1fe6f9",
   "metadata": {},
   "outputs": [],
   "source": [
    "def one_two(x, y):\n",
    "    return x+1, y+2\n",
    "\n",
    "callfunc = one_two(10, 20)\n",
    "print(type(callfunc))\n",
    "print(callfunc)"
   ]
  },
  {
   "cell_type": "markdown",
   "id": "efc74d2b-0837-476d-b2fa-239f1bbdb35f",
   "metadata": {},
   "source": [
    "##### Default and keyword arguments"
   ]
  },
  {
   "cell_type": "code",
   "execution_count": null,
   "id": "7d0f1ae7-23ac-4f64-8425-3c4d121a4aeb",
   "metadata": {},
   "outputs": [],
   "source": [
    "def greet(name, hi='Hello', repeat=1):\n",
    "    for i in range(repeat):\n",
    "        print(hi, name)\n",
    "\n",
    "greet(\"Praveen\")\n",
    "\n",
    "greet(\"Praveen\", \"Hey\")\n",
    "\n",
    "greet(\"Praveen\", \"Hola\", 2)\n",
    "\n",
    "greet(\"Praveen\",repeat=5)\n",
    "\n",
    "greet(hi=\"Namaste\", name='Praveen')"
   ]
  }
 ],
 "metadata": {
  "kernelspec": {
   "display_name": "Python [conda env:base] *",
   "language": "python",
   "name": "conda-base-py"
  },
  "language_info": {
   "codemirror_mode": {
    "name": "ipython",
    "version": 3
   },
   "file_extension": ".py",
   "mimetype": "text/x-python",
   "name": "python",
   "nbconvert_exporter": "python",
   "pygments_lexer": "ipython3",
   "version": "3.13.5"
  }
 },
 "nbformat": 4,
 "nbformat_minor": 5
}
