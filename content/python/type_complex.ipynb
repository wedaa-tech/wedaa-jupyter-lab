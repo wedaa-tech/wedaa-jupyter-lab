{
 "cells": [
  {
   "cell_type": "markdown",
   "id": "74b8f3b4-9fbd-43d2-8133-37577e620296",
   "metadata": {},
   "source": [
    "#### Two ways to create a complex number\n",
    "- Using J Notaion\n",
    "-  Using the complex constructor\n",
    "\n",
    "In Python, the type complex represents complex numbers (numbers that have a real part and an imaginary part)."
   ]
  },
  {
   "cell_type": "code",
   "execution_count": null,
   "id": "3cc8c3a0-7bb8-4ce7-a17d-953923ee95f8",
   "metadata": {},
   "outputs": [],
   "source": [
    "# Using the J Notation\n",
    "z1 = 1 + 2j\n",
    "print(z1)         # (1+2j)\n",
    "print(type(z1))   # <class 'complex'>\n",
    "\n",
    "# Here, 1 is the real part\n",
    "# 2j is the imaginary part (Python uses j instead of i for √-1)."
   ]
  },
  {
   "cell_type": "code",
   "execution_count": null,
   "id": "be4fbf45-cdf5-4de4-b830-58868e4e9526",
   "metadata": {},
   "outputs": [],
   "source": [
    "# Using the complex constructor\n",
    "\n",
    "Z2 = complex(1,2)\n",
    "print(Z2)"
   ]
  },
  {
   "cell_type": "code",
   "execution_count": null,
   "id": "08b59832-d69b-4700-8ece-f8288f875eb0",
   "metadata": {},
   "outputs": [],
   "source": [
    "# Accessing parts of a complex number\n",
    "\n",
    "z = 1 + 2j\n",
    "print(z.real)   # 1.0\n",
    "print(z.imag)   # 2.0"
   ]
  },
  {
   "cell_type": "code",
   "execution_count": null,
   "id": "6d5839aa-46e6-473d-9d5a-c008270f3f0d",
   "metadata": {},
   "outputs": [],
   "source": []
  }
 ],
 "metadata": {
  "kernelspec": {
   "display_name": "Python 3 (ipykernel)",
   "language": "python",
   "name": "python3"
  },
  "language_info": {
   "codemirror_mode": {
    "name": "ipython",
    "version": 3
   },
   "file_extension": ".py",
   "mimetype": "text/x-python",
   "name": "python",
   "nbconvert_exporter": "python",
   "pygments_lexer": "ipython3",
   "version": "3.13.7"
  }
 },
 "nbformat": 4,
 "nbformat_minor": 5
}
