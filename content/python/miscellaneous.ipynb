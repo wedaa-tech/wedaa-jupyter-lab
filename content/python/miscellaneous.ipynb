{
 "cells": [
  {
   "cell_type": "markdown",
   "id": "5431f1e0-7c75-4dc0-bc05-5f06b38f3631",
   "metadata": {},
   "source": [
    "zip() takes two or more iterables (like lists, tuples, or strings) and pairs their elements together into tuples.\n",
    "\n",
    "1. Stops at the shortest iterable.\n",
    "\n",
    "2. Returns a zip object (an iterator), so you usually convert it to a list or tuple to see results."
   ]
  },
  {
   "cell_type": "code",
   "execution_count": null,
   "id": "d49ecf77-0a75-49ab-9848-df2664c10696",
   "metadata": {},
   "outputs": [],
   "source": [
    "a = [1,2,3]\n",
    "b = ['a', 'b', 'c']\n",
    "\n",
    "zipped = zip(a,b)\n",
    "print(list(zipped))\n",
    "print(tuple(zipped))"
   ]
  },
  {
   "cell_type": "code",
   "execution_count": null,
   "id": "15f98dc1-5253-4193-ba70-da220670a9a2",
   "metadata": {},
   "outputs": [],
   "source": [
    "# Unzipping (reverse operation)\n",
    "\n",
    "\n",
    "pairs = [(1, 'x'), (2, 'y'), (3, 'z')]\n",
    "\n",
    "a, b = zip(*pairs)\n",
    "\n",
    "print(a)\n",
    "print(b)"
   ]
  },
  {
   "cell_type": "code",
   "execution_count": null,
   "id": "bafcf75c-25b7-4507-b850-5fe00bb064a5",
   "metadata": {},
   "outputs": [],
   "source": [
    "# Parallel iteration\n",
    "\n",
    "names = [\"Alice\", \"Bob\", \"Charlie\"]\n",
    "scores = [85, 92, 78]\n",
    "\n",
    "for name, score in zip(names, scores):\n",
    "    print(name, score)\n",
    "\n"
   ]
  },
  {
   "cell_type": "code",
   "execution_count": null,
   "id": "8527160c-2787-4bf4-977b-5a576cd27f5e",
   "metadata": {},
   "outputs": [],
   "source": [
    "# Matrix transpose\n",
    "\n",
    "matrix = [\n",
    "    [1, 2, 3],\n",
    "    [4, 5, 6]\n",
    "]\n",
    "\n",
    "transposed = list(zip(*matrix))\n",
    "print(transposed)"
   ]
  },
  {
   "cell_type": "code",
   "execution_count": 15,
   "id": "ccae05fc-2afa-480b-9957-b4b3a6057ca5",
   "metadata": {},
   "outputs": [
    {
     "name": "stdout",
     "output_type": "stream",
     "text": [
      "28.8 ms ± 599 μs per loop (mean ± std. dev. of 7 runs, 10 loops each)\n",
      "732 μs ± 34.1 μs per loop (mean ± std. dev. of 7 runs, 1,000 loops each)\n"
     ]
    }
   ],
   "source": [
    "# Timing a function in Jupyter\n",
    "import numpy as np\n",
    "\n",
    "def sqr(lst):\n",
    "    \"\"\"Returns a list containing the square of the values of the given list.\"\"\"\n",
    "    result = []\n",
    "    for x in lst:\n",
    "        result.append(x*x)\n",
    "    return result\n",
    "    \n",
    "n = 2**20\n",
    "big = list(range(n))\n",
    "%timeit sqr(big)\n",
    "big_np = np.array(big)\n",
    "%timeit big_np*big_np"
   ]
  },
  {
   "cell_type": "markdown",
   "id": "b2655dd3-ddb6-48bf-81a3-2e4e92b99bd1",
   "metadata": {},
   "source": [
    "**Dunder = Double UNDERscore**\n",
    "\n",
    "dunder methods let you customize how your objects behave with Python’s built-in functions and operators.\n",
    "\n",
    "They are also called magic methods or special methods.\n",
    "\n",
    "Python uses them to give special meaning to certain operations.\n",
    "\n",
    "For example:\n",
    "\n",
    "__init__ → runs when you create an object\n",
    "\n",
    "__str__ → defines what print(obj) shows\n",
    "\n",
    "__add__ → defines behavior of + operator"
   ]
  },
  {
   "cell_type": "code",
   "execution_count": 18,
   "id": "05ea3744-48b3-468c-93ab-ae659ded6600",
   "metadata": {},
   "outputs": [
    {
     "name": "stdout",
     "output_type": "stream",
     "text": [
      "Alice, 30 years old\n",
      "Vector(7, 10)\n",
      "3\n"
     ]
    }
   ],
   "source": [
    "class Person:\n",
    "    def __init__(self, name, age):   # constructor\n",
    "        self.name = name\n",
    "        self.age = age\n",
    "\n",
    "    def __str__(self):   # string representation\n",
    "        return f\"{self.name}, {self.age} years old\"\n",
    "\n",
    "p = Person(\"Alice\", 30)\n",
    "print(p)\n",
    "\n",
    "\n",
    "# Operator Overloading (__add__)\n",
    "\n",
    "class Vector:\n",
    "    def __init__(self, x, y):\n",
    "        self.x = x\n",
    "        self.y = y\n",
    "\n",
    "    def __add__(self, other):  # overloads +\n",
    "        return Vector(self.x + other.x, self.y + other.y)\n",
    "\n",
    "    def __repr__(self):  # representation in console\n",
    "        return f\"Vector({self.x}, {self.y})\"\n",
    "\n",
    "v1 = Vector(2, 3)\n",
    "v2 = Vector(5, 7)\n",
    "\n",
    "print(v1 + v2)   # calls __add__\n",
    "\n",
    "\n",
    "\n",
    "class Team:\n",
    "    def __init__(self, members):\n",
    "        self.members = members\n",
    "\n",
    "    def __len__(self):\n",
    "        return len(self.members)\n",
    "\n",
    "t = Team([\"Alice\", \"Bob\", \"Charlie\"])\n",
    "print(len(t))\n",
    "\n"
   ]
  }
 ],
 "metadata": {
  "kernelspec": {
   "display_name": "Python [conda env:base] *",
   "language": "python",
   "name": "conda-base-py"
  },
  "language_info": {
   "codemirror_mode": {
    "name": "ipython",
    "version": 3
   },
   "file_extension": ".py",
   "mimetype": "text/x-python",
   "name": "python",
   "nbconvert_exporter": "python",
   "pygments_lexer": "ipython3",
   "version": "3.13.5"
  }
 },
 "nbformat": 4,
 "nbformat_minor": 5
}
