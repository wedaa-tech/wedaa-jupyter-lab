{
 "cells": [
  {
   "cell_type": "code",
   "execution_count": 2,
   "id": "40f273fd-8004-4c72-8cd3-d1a0ede0245d",
   "metadata": {},
   "outputs": [
    {
     "name": "stdout",
     "output_type": "stream",
     "text": [
      "99\n"
     ]
    }
   ],
   "source": [
    "# Finding the maximum in a list:\n",
    "\n",
    "\n",
    "num_list = [20,29,45,99,2,87,45,36]\n",
    "maxNum = max(num_list)\n",
    "print(maxNum)"
   ]
  },
  {
   "cell_type": "markdown",
   "id": "a327545c-5dfb-4fc2-94e8-67783a26a8b0",
   "metadata": {},
   "source": [
    "#### Problem Statement\n",
    "Consider the 7 different batsman data provided to you. \n",
    "Compute the mean, median, mode, standard deviation for each of these batsmen. \n",
    "Store the names of the batsmen in a list. Then store the mean/median/mode for each batsman in the same order.\n",
    "You should have 5 lists with you at the end of this.\n"
   ]
  },
  {
   "cell_type": "code",
   "execution_count": null,
   "id": "d88f4149-57b5-4eeb-b197-511d3c30b844",
   "metadata": {},
   "outputs": [],
   "source": [
    "batsman = [sachin, kohli, sahwag, kapli, Srikanth]\n",
    "\n",
    "\n"
   ]
  }
 ],
 "metadata": {
  "kernelspec": {
   "display_name": "Python [conda env:base] *",
   "language": "python",
   "name": "conda-base-py"
  },
  "language_info": {
   "codemirror_mode": {
    "name": "ipython",
    "version": 3
   },
   "file_extension": ".py",
   "mimetype": "text/x-python",
   "name": "python",
   "nbconvert_exporter": "python",
   "pygments_lexer": "ipython3",
   "version": "3.13.5"
  }
 },
 "nbformat": 4,
 "nbformat_minor": 5
}
