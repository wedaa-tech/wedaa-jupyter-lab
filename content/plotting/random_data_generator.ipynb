{
  "metadata": {
    "kernelspec": {
      "name": "python",
      "display_name": "Python (Pyodide)",
      "language": "python"
    },
    "language_info": {
      "codemirror_mode": {
        "name": "python",
        "version": 3
      },
      "file_extension": ".py",
      "mimetype": "text/x-python",
      "name": "python",
      "nbconvert_exporter": "python",
      "pygments_lexer": "ipython3",
      "version": "3.8"
    }
  },
  "nbformat_minor": 5,
  "nbformat": 4,
  "cells": [
    {
      "id": "0807b0ec-9265-4058-838f-7bc36176dd23",
      "cell_type": "code",
      "source": "import numpy as np\n\nnp.random.seed(43)",
      "metadata": {
        "trusted": true
      },
      "outputs": [],
      "execution_count": 1
    },
    {
      "id": "15abd535-1a41-40c3-b409-6ae183d3b252",
      "cell_type": "code",
      "source": "x = np.random.normal(loc=70, scale=10, size=100)\ny = np.random.normal(loc=2, scale=.5, size=100)\nprint(x[:2])\nprint(y[:2])",
      "metadata": {
        "trusted": true
      },
      "outputs": [
        {
          "name": "stdout",
          "output_type": "stream",
          "text": "[72.47726916 79.49853104]\n[1.94040484 1.57641563]\n"
        }
      ],
      "execution_count": 5
    },
    {
      "id": "2d6cff7b-0c62-44bf-b2af-6ae661983fa1",
      "cell_type": "code",
      "source": "",
      "metadata": {
        "trusted": true
      },
      "outputs": [],
      "execution_count": null
    }
  ]
}