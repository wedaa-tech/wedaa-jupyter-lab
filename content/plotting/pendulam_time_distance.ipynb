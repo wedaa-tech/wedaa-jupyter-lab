{
  "metadata": {
    "kernelspec": {
      "name": "python",
      "display_name": "Python (Pyodide)",
      "language": "python"
    },
    "language_info": {
      "codemirror_mode": {
        "name": "python",
        "version": 3
      },
      "file_extension": ".py",
      "mimetype": "text/x-python",
      "name": "python",
      "nbconvert_exporter": "python",
      "pygments_lexer": "ipython3",
      "version": "3.8"
    }
  },
  "nbformat_minor": 5,
  "nbformat": 4,
  "cells": [
    {
      "id": "fcf867d2-7752-4f0d-b0ad-f1e26bdcd523",
      "cell_type": "code",
      "source": "import numpy as np\nimport matplotlib.pyplot as plt\n",
      "metadata": {},
      "outputs": [],
      "execution_count": null
    },
    {
      "id": "8b0444a9-30f5-4215-88ab-ee788781b7e6",
      "cell_type": "markdown",
      "source": "Now consider the following data points that we want to plot for a\nmeasurement of some vehicle versus time.\n\n| Time     | 0.0 | 1.0 | 2.0  | 3.0  |\n|----------|-----|-----|------|------|\n| Distance | 5.0 | 9.0 | 13.0 | 17.0 |\n\nHow do we plot it?  Try the following:",
      "metadata": {}
    },
    {
      "id": "d15e49ea-b52a-499c-8cda-156837515444",
      "cell_type": "code",
      "source": "time = [0.0, 1.0, 2.0, 3.0]\ndistance = [5.0, 9.0, 13.0, 17.0]\ntype(time)\ntimeArray = np.array(time)\nplt.plot(time, distance, 'o')\nplt.xlabel('Time')\nplt.ylabel('Distance')\nplt.plot(time, distance, '--')\n",
      "metadata": {},
      "outputs": [],
      "execution_count": null
    },
    {
      "id": "bfa83c4d-6eb4-49be-aa6d-8916cdbd1528",
      "cell_type": "markdown",
      "source": "We now have a basic understanding of how we can use lists. Let us look at\nsome \"real\" data.\n\nWe look at a simple pendulum experiment:\n\n| L | 0.2 | 0.3  | 0.4  | 0.5  | 0.6  | 0.7  | 0.8  |\n|---|-----|------|------|------|------|------|------|\n| T | 0.9 | 1.19 | 1.30 | 1.47 | 1.58 | 1.77 | 1.83 |\n\nLet us do some analysis with this data. First put this into a list.\n\nFor those of you who recall your basic physics, we expect that $L \\propto T^2$\nis a straight line.\n",
      "metadata": {}
    },
    {
      "id": "5f09f7cd-a601-471b-9584-de433d91dc1e",
      "cell_type": "code",
      "source": "l = [0.2, 0.3, 0.4, 0.5, 0.6, 0.7, 0.8]\nt = [0.90, 1.19, 1.30, 1.47, 1.58, 1.77, 1.83]\n\nsquareOfTime = np.square(t)\nprint(squareOfTime)\n\ntSquare=[]\nfor time in t:\n    tSquare.append(time*time)\nprint(tSquare)\n\nplt.plot(l, tSquare, 'o')\n",
      "metadata": {},
      "outputs": [],
      "execution_count": null
    },
    {
      "id": "b0b868c4-6d87-4dc7-88eb-ab5c08409ed5",
      "cell_type": "markdown",
      "source": "## Exercise\n\n- Find the mean of the `l` values in the earlier array of 7 values.\n\n- Find the standard deviation of the `l` values in the array.\n\nThe standard deviation, $\\sigma$, is the square root of the variance, $\\sigma^2$.\n\nThe variance, $\\sigma^2$, is the average of the squared differences from the mean.\n\n**Step 1:** Calculate the mean of the numbers.\n\nStep 2: Calculate the Square difference of each number from the mean\n\nStep 3: Calculate the variance. Sum of square difference divided by total data points.\n\nStep 4: Calculate the Standard Deviation = square root of variance.",
      "metadata": {}
    },
    {
      "id": "6a3d00aa-b061-4e2d-b6ae-fe114350015e",
      "cell_type": "code",
      "source": "import math;\n## Compute mean\nnumList=[1,2,3,4,5,6,7,8,9,10]\nsumOf=0.0\nfor x in numList:\n    sumOf += x\nmean = sumOf/len(numList)\nprint(mean)\n\n##Compute Standard Deviation\n\n##Square difference of each number from the mean\n\nsquareDiff= []\nfor x in numList:\n    squareDiff.append((x-mean)**2)\n    \nprint(squareDiff)\n\nsumOfSquareDiff = 0.0\nfor x in squareDiff:\n    sumOfSquareDiff += x\n\nprint(sumOfSquareDiff)\nvariance = sumOfSquareDiff/len(squareDiff)\n\nprint(variance)\n\nstandardDeviation = math.sqrt(variance)\nprint(standardDeviation)\n    \n\n",
      "metadata": {},
      "outputs": [],
      "execution_count": null
    }
  ]
}