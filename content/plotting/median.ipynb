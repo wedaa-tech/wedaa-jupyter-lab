{
 "cells": [
  {
   "cell_type": "code",
   "execution_count": 1,
   "id": "9a2edeae-3ad4-4053-a663-ce7dd52e12c2",
   "metadata": {},
   "outputs": [
    {
     "name": "stdout",
     "output_type": "stream",
     "text": [
      "Median (even dataset): 83.5\n",
      "Median (odd dataset): 50.0\n"
     ]
    }
   ],
   "source": [
    "import numpy as np\n",
    "\n",
    "# Dataset with even number of observations\n",
    "data_even = [65, 72, 78, 80, 82, 85, 88, 90, 92, 95]\n",
    "median_even = np.median(data_even)\n",
    "print(\"Median (even dataset):\", median_even)\n",
    "\n",
    "# Dataset with odd number of observations\n",
    "data_odd = [10, 20, 30, 40, 50, 60, 70, 80, 90]\n",
    "median_odd = np.median(data_odd)\n",
    "print(\"Median (odd dataset):\", median_odd)"
   ]
  }
 ],
 "metadata": {
  "kernelspec": {
   "display_name": "Python [conda env:base] *",
   "language": "python",
   "name": "conda-base-py"
  },
  "language_info": {
   "codemirror_mode": {
    "name": "ipython",
    "version": 3
   },
   "file_extension": ".py",
   "mimetype": "text/x-python",
   "name": "python",
   "nbconvert_exporter": "python",
   "pygments_lexer": "ipython3",
   "version": "3.13.5"
  }
 },
 "nbformat": 4,
 "nbformat_minor": 5
}
