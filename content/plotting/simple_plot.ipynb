{
 "cells": [
  {
   "cell_type": "code",
   "execution_count": null,
   "id": "6eefd8c8-ebe8-4265-be22-2a41849c0c3a",
   "metadata": {},
   "outputs": [],
   "source": [
    "import numpy as np\n",
    "import matplotlib.pyplot as plt\n",
    "\n",
    "x = np.linspace(0, 2*np.pi, 50)\n",
    "print(x[0])\n",
    "print(x[1])\n",
    "print(x[49])\n",
    "print(x[-1])\n",
    "plt.plot(x, np.sin(x))\n",
    "plt.xlabel('x')\n",
    "plt.ylabel('sin(x)')\n",
    "plt.title('Sinusoids')\n",
    "plt.legend(['sin(x)'], loc='center')"
   ]
  },
  {
   "cell_type": "code",
   "execution_count": null,
   "id": "f1583656-2806-4be0-bcc6-c170d61cfd97",
   "metadata": {
    "scrolled": true
   },
   "outputs": [],
   "source": [
    "plt.plot(x, np.sin(x), 'b')"
   ]
  },
  {
   "cell_type": "code",
   "execution_count": null,
   "id": "4aab1a53-2c19-4e8e-9357-283cd413c50f",
   "metadata": {},
   "outputs": [],
   "source": [
    "plt.plot(x, 0.5*np.sin(2*x), 'g', linewidth=2)"
   ]
  },
  {
   "cell_type": "code",
   "execution_count": null,
   "id": "3895f569",
   "metadata": {},
   "outputs": [],
   "source": [
    "plt.plot(x, 0.5*np.sin(2*x), 'g', linewidth=2)"
   ]
  },
  {
   "cell_type": "code",
   "execution_count": null,
   "id": "bbfcc004",
   "metadata": {},
   "outputs": [],
   "source": [
    "plt.plot(x, 0.5*np.sin(2*x), 'g', linewidth=2)\n",
    "plt.annotate('local maxima', xy=(1.5,  0.4));"
   ]
  },
  {
   "cell_type": "code",
   "execution_count": null,
   "id": "8c288516-02da-40de-8555-a65432eaf01d",
   "metadata": {},
   "outputs": [],
   "source": [
    "plt.plot(x, np.sin(x), 'g-o')"
   ]
  },
  {
   "cell_type": "code",
   "execution_count": null,
   "id": "09399ca7-9a84-41da-a51b-826e5cf96442",
   "metadata": {},
   "outputs": [],
   "source": [
    "# Plot a sine wave with green line and circle markers\n",
    "# x: x-axis values\n",
    "# np.sin(x): y-axis values (sine of x)\n",
    "# 'g-o': format string for green line with circle markers\n",
    "plt.plot(x, np.sin(x), 'g-o')"
   ]
  },
  {
   "cell_type": "code",
   "execution_count": null,
   "id": "02240221-a17f-481e-b220-cd46264cc001",
   "metadata": {},
   "outputs": [],
   "source": [
    "## Saving figure to images:"
   ]
  },
  {
   "cell_type": "code",
   "execution_count": null,
   "id": "bdee5739-2ecc-4a33-b380-f0f0fa2651f0",
   "metadata": {},
   "outputs": [],
   "source": [
    "plt.plot(x, np.sin(x), 'b')\n",
    "plt.plot(x, 0.5*np.sin(2*x), 'g', linewidth='2')\n",
    "plt.legend(['sin(x)', 'sin(2x)'])\n",
    "plt.annotate('local maxima', xy=(2.5, 1))\n",
    "plt.savefig('sin.png')\n",
    "plt.savefig('sin.pdf')"
   ]
  },
  {
   "cell_type": "code",
   "execution_count": null,
   "id": "e52391d0-ed3f-4b89-aabb-f86674475f2d",
   "metadata": {},
   "outputs": [],
   "source": [
    "plt.figure(figsize=(8,4))\n",
    "plt.plot(x, np.sin(x))"
   ]
  },
  {
   "cell_type": "code",
   "execution_count": null,
   "id": "e9eddea7-ec53-4ac3-86b6-3c60e5d78bd9",
   "metadata": {},
   "outputs": [],
   "source": [
    "## Controlling the axis length"
   ]
  },
  {
   "cell_type": "code",
   "execution_count": null,
   "id": "7282da49-ded1-4117-b953-35b997293926",
   "metadata": {},
   "outputs": [],
   "source": [
    "plt.plot(x, np.sin(x), 'b')\n",
    "plt.xlim()\n",
    "plt.ylim()\n"
   ]
  },
  {
   "cell_type": "code",
   "execution_count": null,
   "id": "931754d8-0c91-4680-8f01-b7fbdb89dcdd",
   "metadata": {},
   "outputs": [],
   "source": [
    "plt.plot(x, np.sin(x), 'b')\n",
    "xmin, xmax = plt.xlim()\n",
    "ymin, ymax = plt.ylim()\n",
    "\n",
    "print(xmin, ymin)\n",
    "print(xmax, ymax)"
   ]
  },
  {
   "cell_type": "code",
   "execution_count": null,
   "id": "9f0a1c78-6142-48c1-942a-4e2e46a13d7d",
   "metadata": {},
   "outputs": [],
   "source": [
    "# Use the same `plt.xmin` with arguments to set the axis limit\n",
    "plt.plot(x, np.sin(x), 'b')\n",
    "xmin, xmax = plt.xlim()\n",
    "ymin, ymax = plt.ylim()\n",
    "plt.xlim(xmin, 2*np.pi)\n",
    "plt.ylim(ymin - 0.2, ymax + 0.2)"
   ]
  },
  {
   "cell_type": "markdown",
   "id": "0b7e6a47-1c4a-4dfd-9da8-c7b8caeb4f48",
   "metadata": {},
   "source": [
    "## Exercise: review/homework problem\n",
    "\n",
    "- Plot $x, -x, \\sin(x), x \\sin(x)$ in range $-5\\pi$ to $5\\pi$\n",
    "- Add a suitable legend\n",
    "- Annotate the origin (with text 'origin')\n",
    "- Set axes limits to the range of x\n",
    "\n",
    "Produce this:\n",
    "![](images/four_plot.png)"
   ]
  },
  {
   "cell_type": "code",
   "execution_count": null,
   "id": "c61b83da-d3cc-4bc6-84cc-6e7503837072",
   "metadata": {},
   "outputs": [],
   "source": [
    "import numpy as np\n",
    "import matplotlib.pyplot as plt\n",
    "\n",
    "x = np.linspace(-5*np.pi, 5*np.pi, 100)\n",
    "\n",
    "plt.figure(figsize=(8,6))\n",
    "\n",
    "plt.xlim(-5*np.pi, 5*np.pi)\n",
    "plt.ylim(-5*np.pi, 5*np.pi)\n",
    "\n",
    "plt.plot(x, x, label=\"y = x\", color=\"blue\", linestyle='-')\n",
    "plt.plot(x, -x, label=\"y = -x\", color=\"blue\", linestyle='-')\n",
    "\n",
    "plt.plot(x, np.sin(x), label=\"y = x\", color=\"green\", linestyle='-', linewidth='2')\n",
    "plt.plot(x, x*np.sin(x), label=\"y = -x\", color=\"red\", linestyle='-', linewidth='3')\n",
    "\n",
    "plt.legend(['x','-x', 'sin(x)', '-sin(x)'])\n",
    "\n",
    "plt.annotate(\"Origin\", xy=(0, 0))\n",
    "\n",
    "plt.show()\n"
   ]
  }
 ],
 "metadata": {
  "kernelspec": {
   "display_name": "Python [conda env:base] *",
   "language": "python",
   "name": "conda-base-py"
  },
  "language_info": {
   "codemirror_mode": {
    "name": "ipython",
    "version": 3
   },
   "file_extension": ".py",
   "mimetype": "text/x-python",
   "name": "python",
   "nbconvert_exporter": "python",
   "pygments_lexer": "ipython3",
   "version": "3.13.5"
  }
 },
 "nbformat": 4,
 "nbformat_minor": 5
}
