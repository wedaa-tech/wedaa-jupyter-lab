{
 "cells": [
  {
   "cell_type": "code",
   "execution_count": null,
   "id": "fcf867d2-7752-4f0d-b0ad-f1e26bdcd523",
   "metadata": {},
   "outputs": [],
   "source": [
    "import numpy as np\n",
    "import matplotlib.pyplot as plt\n"
   ]
  },
  {
   "cell_type": "markdown",
   "id": "8b0444a9-30f5-4215-88ab-ee788781b7e6",
   "metadata": {},
   "source": [
    "Now consider the following data points that we want to plot for a\n",
    "measurement of some vehicle versus time.\n",
    "\n",
    "| Time     | 0.0 | 1.0 | 2.0  | 3.0  |\n",
    "|----------|-----|-----|------|------|\n",
    "| Distance | 5.0 | 9.0 | 13.0 | 17.0 |\n",
    "\n",
    "How do we plot it?  Try the following:"
   ]
  },
  {
   "cell_type": "code",
   "execution_count": null,
   "id": "d15e49ea-b52a-499c-8cda-156837515444",
   "metadata": {},
   "outputs": [],
   "source": [
    "time = [0.0, 1.0, 2.0, 3.0]\n",
    "distance = [5.0, 9.0, 13.0, 17.0]\n",
    "type(time)\n",
    "timeArray = np.array(time)\n",
    "plt.plot(time, distance, 'o')\n",
    "plt.xlabel('Time')\n",
    "plt.ylabel('Distance')\n",
    "plt.plot(time, distance, '--')\n"
   ]
  },
  {
   "cell_type": "markdown",
   "id": "bfa83c4d-6eb4-49be-aa6d-8916cdbd1528",
   "metadata": {},
   "source": [
    "We now have a basic understanding of how we can use lists. Let us look at\n",
    "some \"real\" data.\n",
    "\n",
    "We look at a simple pendulum experiment:\n",
    "\n",
    "| L | 0.2 | 0.3  | 0.4  | 0.5  | 0.6  | 0.7  | 0.8  |\n",
    "|---|-----|------|------|------|------|------|------|\n",
    "| T | 0.9 | 1.19 | 1.30 | 1.47 | 1.58 | 1.77 | 1.83 |\n",
    "\n",
    "Let us do some analysis with this data. First put this into a list.\n",
    "\n",
    "For those of you who recall your basic physics, we expect that $L \\propto T^2$\n",
    "is a straight line.\n"
   ]
  },
  {
   "cell_type": "code",
   "execution_count": null,
   "id": "5f09f7cd-a601-471b-9584-de433d91dc1e",
   "metadata": {},
   "outputs": [],
   "source": [
    "l = [0.2, 0.3, 0.4, 0.5, 0.6, 0.7, 0.8]\n",
    "t = [0.90, 1.19, 1.30, 1.47, 1.58, 1.77, 1.83]\n",
    "\n",
    "squareOfTime = np.square(t)\n",
    "print(squareOfTime)\n",
    "\n",
    "tSquare=[]\n",
    "for time in t:\n",
    "    tSquare.append(time*time)\n",
    "print(tSquare)\n",
    "\n",
    "plt.plot(l, tSquare, 'o')\n"
   ]
  },
  {
   "cell_type": "markdown",
   "id": "b0b868c4-6d87-4dc7-88eb-ab5c08409ed5",
   "metadata": {},
   "source": [
    "## Exercise\n",
    "\n",
    "- Find the mean of the `l` values in the earlier array of 7 values.\n",
    "\n",
    "- Find the standard deviation of the `l` values in the array.\n",
    "\n",
    "The standard deviation, $\\sigma$, is the square root of the variance, $\\sigma^2$.\n",
    "\n",
    "The variance, $\\sigma^2$, is the average of the squared differences from the mean.\n",
    "\n",
    "**Step 1:** Calculate the mean of the numbers.\n",
    "\n",
    "Step 2: Calculate the Square difference of each number from the mean\n",
    "\n",
    "Step 3: Calculate the variance. Sum of square difference divided by total data points.\n",
    "\n",
    "Step 4: Calculate the Standard Deviation = square root of variance."
   ]
  },
  {
   "cell_type": "code",
   "execution_count": null,
   "id": "6a3d00aa-b061-4e2d-b6ae-fe114350015e",
   "metadata": {},
   "outputs": [],
   "source": [
    "import math;\n",
    "## Compute mean\n",
    "numList=[1,2,3,4,5,6,7,8,9,10]\n",
    "sumOf=0.0\n",
    "for x in numList:\n",
    "    sumOf += x\n",
    "mean = sumOf/len(numList)\n",
    "print(mean)\n",
    "\n",
    "##Compute Standard Deviation\n",
    "\n",
    "##Square difference of each number from the mean\n",
    "\n",
    "squareDiff= []\n",
    "for x in numList:\n",
    "    squareDiff.append((x-mean)**2)\n",
    "    \n",
    "print(squareDiff)\n",
    "\n",
    "sumOfSquareDiff = 0.0\n",
    "for x in squareDiff:\n",
    "    sumOfSquareDiff += x\n",
    "\n",
    "print(sumOfSquareDiff)\n",
    "variance = sumOfSquareDiff/len(squareDiff)\n",
    "\n",
    "print(variance)\n",
    "\n",
    "standardDeviation = math.sqrt(variance)\n",
    "print(standardDeviation)\n",
    "    \n",
    "\n"
   ]
  }
 ],
 "metadata": {
  "kernelspec": {
   "display_name": "Python [conda env:base] *",
   "language": "python",
   "name": "conda-base-py"
  },
  "language_info": {
   "codemirror_mode": {
    "name": "ipython",
    "version": 3
   },
   "file_extension": ".py",
   "mimetype": "text/x-python",
   "name": "python",
   "nbconvert_exporter": "python",
   "pygments_lexer": "ipython3",
   "version": "3.13.5"
  }
 },
 "nbformat": 4,
 "nbformat_minor": 5
}
