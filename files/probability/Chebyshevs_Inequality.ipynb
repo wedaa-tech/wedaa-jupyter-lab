{
 "cells": [
  {
   "cell_type": "code",
   "execution_count": null,
   "id": "750388cc-022f-44eb-a105-d23fa166258d",
   "metadata": {},
   "outputs": [],
   "source": []
  },
  {
   "cell_type": "code",
   "execution_count": 1,
   "id": "13034b75-bee2-4584-8a08-f02cb32816a5",
   "metadata": {},
   "outputs": [
    {
     "name": "stdout",
     "output_type": "stream",
     "text": [
      "Mean: 34.70\n",
      "Standard Deviation: 7.72\n",
      "k: 1.944\n",
      "P(|X - 34.70| ≥ 15) ≤ 0.265\n",
      "P(|X - 34.70| < 15) ≥ 0.735\n",
      "Actual proportion within range: 0.900\n"
     ]
    }
   ],
   "source": [
    "import numpy as np\n",
    "\n",
    "# Data\n",
    "# Suppose we have the following payment times (in days) for 10 customers:\n",
    "data = [25, 28, 30, 31, 32, 33, 35, 38, 45, 50]\n",
    "\n",
    "# Suppose we want to know the probability of a payment being at least 15 days from the mean ($ \\bar{x} = 34.7 $).\n",
    "    \n",
    "# Calculate mean and standard deviation\n",
    "mean = np.mean(data)\n",
    "std_dev = np.std(data, ddof=1)  # ddof=1 for sample standard deviation\n",
    "\n",
    "# Parameters for Chebyshev's Inequality\n",
    "k = 15 / std_dev  # Deviation of 15 days\n",
    "\n",
    "# Probability of being at least k standard deviations away\n",
    "prob_at_least_k = 1 / k**2\n",
    "prob_within_k = 1 - prob_at_least_k\n",
    "\n",
    "print(f\"Mean: {mean:.2f}\")\n",
    "print(f\"Standard Deviation: {std_dev:.2f}\")\n",
    "print(f\"k: {k:.3f}\")\n",
    "print(f\"P(|X - {mean:.2f}| ≥ 15) ≤ {prob_at_least_k:.3f}\")\n",
    "print(f\"P(|X - {mean:.2f}| < 15) ≥ {prob_within_k:.3f}\")\n",
    "\n",
    "# Verify actual proportion\n",
    "within_range = [x for x in data if mean - 15 <= x <= mean + 15]\n",
    "actual_proportion = len(within_range) / len(data)\n",
    "print(f\"Actual proportion within range: {actual_proportion:.3f}\")"
   ]
  },
  {
   "cell_type": "code",
   "execution_count": 2,
   "id": "72f86b20-3fb3-4de5-a929-62609e0b591f",
   "metadata": {},
   "outputs": [
    {
     "name": "stdout",
     "output_type": "stream",
     "text": [
      "Mean: 34.70\n",
      "Standard Deviation: 7.72\n",
      "k: 1.944\n",
      "P(X >= 49.70) <= 0.209\n",
      "P(X < 49.70) >= 0.791\n",
      "Actual proportion >= 49.70: 0.100\n"
     ]
    }
   ],
   "source": [
    "#   One-Sided Chebyshev’s Inequality\n",
    "\n",
    "import numpy as np\n",
    "\n",
    "# Data\n",
    "data = [25, 28, 30, 31, 32, 33, 35, 38, 45, 50]\n",
    "\n",
    "# Calculate mean and standard deviation\n",
    "mean = np.mean(data)\n",
    "std_dev = np.std(data, ddof=1)  # Sample standard deviation\n",
    "\n",
    "# Parameters for one-sided Chebyshev's Inequality\n",
    "deviation = 15  # Deviation from mean\n",
    "k = deviation / std_dev\n",
    "\n",
    "# One-sided probability bound\n",
    "prob_at_least_k = 1 / (1 + k**2)\n",
    "prob_below_k = 1 - prob_at_least_k\n",
    "\n",
    "print(f\"Mean: {mean:.2f}\")\n",
    "print(f\"Standard Deviation: {std_dev:.2f}\")\n",
    "print(f\"k: {k:.3f}\")\n",
    "print(f\"P(X >= {mean + deviation:.2f}) <= {prob_at_least_k:.3f}\")\n",
    "print(f\"P(X < {mean + deviation:.2f}) >= {prob_below_k:.3f}\")\n",
    "\n",
    "# Verify actual proportion\n",
    "above_threshold = [x for x in data if x >= mean + deviation]\n",
    "actual_proportion_above = len(above_threshold) / len(data)\n",
    "print(f\"Actual proportion >= {mean + deviation:.2f}: {actual_proportion_above:.3f}\")"
   ]
  }
 ],
 "metadata": {
  "kernelspec": {
   "display_name": "Python [conda env:base] *",
   "language": "python",
   "name": "conda-base-py"
  },
  "language_info": {
   "codemirror_mode": {
    "name": "ipython",
    "version": 3
   },
   "file_extension": ".py",
   "mimetype": "text/x-python",
   "name": "python",
   "nbconvert_exporter": "python",
   "pygments_lexer": "ipython3",
   "version": "3.13.5"
  }
 },
 "nbformat": 4,
 "nbformat_minor": 5
}
