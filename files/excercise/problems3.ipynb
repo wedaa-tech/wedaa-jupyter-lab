{
  "metadata": {
    "kernelspec": {
      "name": "python",
      "display_name": "Python (Pyodide)",
      "language": "python"
    },
    "language_info": {
      "codemirror_mode": {
        "name": "python",
        "version": 3
      },
      "file_extension": ".py",
      "mimetype": "text/x-python",
      "name": "python",
      "nbconvert_exporter": "python",
      "pygments_lexer": "ipython3",
      "version": "3.8"
    }
  },
  "nbformat_minor": 5,
  "nbformat": 4,
  "cells": [
    {
      "id": "a53a1df3-401b-41a4-9f4b-d9be29392010",
      "cell_type": "markdown",
      "source": "1. Power of number\n\n    Write a function `power` that takes a number `x` and returns either its square, cube, or any power based on a keyword argument `exp`. If `exp` is not provided, use square (default = 2).\n\n    \n    Input: power(5)                      \n    Output: 25\n\n    Input: power(5, exp=3)  \n    Output: 125",
      "metadata": {}
    },
    {
      "id": "888ca142-0c29-4cc3-a9d5-0bd71791677a",
      "cell_type": "code",
      "source": "",
      "metadata": {},
      "outputs": [],
      "execution_count": null
    },
    {
      "id": "24adda34-9796-45d3-a9fe-3a5f05f0f99b",
      "cell_type": "markdown",
      "source": "2. Keyword arguments statement print\n\n    Write a function that introduces a person with name, age, and city. Use *keyword arguments*.\n\n    Input:\n    `name`=\"abc\", `city`=\"xyz\", `age`=123\n\n    Output:\n    My name is abc, I am 123 years old, and I live in xyz.",
      "metadata": {}
    },
    {
      "id": "9fbd2cdf-5770-48b1-b65a-c7a99cff3b21",
      "cell_type": "code",
      "source": "",
      "metadata": {},
      "outputs": [],
      "execution_count": null
    },
    {
      "id": "da515162-62e5-43ee-99e0-bc9879ceead6",
      "cell_type": "markdown",
      "source": "3. Sum and mean\n\n    Write a function that takes a list of numbers and returns both the sum and the mean.\n\n    Input: [10, 20, 30]   \n    Output: Sum = 60, Mean = 20",
      "metadata": {}
    },
    {
      "id": "6bd3d178-6a92-46c6-83a9-53d0abfefe9f",
      "cell_type": "code",
      "source": "",
      "metadata": {},
      "outputs": [],
      "execution_count": null
    },
    {
      "id": "6a31b776-353b-40cd-ba71-fa01d45488bb",
      "cell_type": "markdown",
      "source": "4. Write a function that prints a multiplication table of a given number.\n\n    Input: 5    \n    Output:\n\n    5 * 1 = 5\n\n    5 * 2 = 10\n\n    5 * 3 = 15\n    ...\n\n    5 * 10 = 50\n",
      "metadata": {}
    },
    {
      "id": "bca2ef44-0159-4e37-9b08-055948ad3b04",
      "cell_type": "code",
      "source": "",
      "metadata": {},
      "outputs": [],
      "execution_count": null
    },
    {
      "id": "8aacf826",
      "cell_type": "markdown",
      "source": "5. Write a function `normalize_list` that takes a list of positive numbers and normalizes them so that all values are scaled down between 0 and 1, and the sum of the list is 1. Modify the list in-place and return nothing.\n\n\n    Input: [1, 4, 5]                \n    Output: [0.1, 0.4, 0.5]\n\n    Input: [1, 3, 4, 8]             \n    Output: [0.0625, 0.1875, 0.25, 0.5]\n",
      "metadata": {}
    },
    {
      "id": "d37f8243",
      "cell_type": "code",
      "source": "",
      "metadata": {},
      "outputs": [],
      "execution_count": null
    }
  ]
}