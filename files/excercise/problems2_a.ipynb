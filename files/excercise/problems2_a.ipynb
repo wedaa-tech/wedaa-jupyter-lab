{
  "cells": [
    {
      "cell_type": "markdown",
      "id": "97279105",
      "metadata": {},
      "source": [
        "1) Count Even Numbers in List: Write a function that takes a list of integers and returns how many of them are even.\n",
        "\n",
        "    Input: [1, 2, 4, 5, 6]  \n",
        "    Output: 3"
      ]
    },
    {
      "cell_type": "code",
      "execution_count": null,
      "id": "bad4797c",
      "metadata": {},
      "outputs": [],
      "source": []
    },
    {
      "cell_type": "markdown",
      "id": "1da3648d-e129-491b-bef2-9cb73c8f58ea",
      "metadata": {},
      "source": [
        "2) Count Even and Odd Numbers in List: Write a function that takes a list of integers and returns how many of them are even and how many are odd.\n",
        "\n",
        "Input: [1, 2, 4, 5, 6]\n",
        "Output: 3, 2"
      ]
    },
    {
      "cell_type": "code",
      "execution_count": null,
      "id": "777c0465-33d4-48b7-aec6-5d8c96293a40",
      "metadata": {},
      "outputs": [],
      "source": []
    },
    {
      "cell_type": "markdown",
      "id": "d35c0135",
      "metadata": {},
      "source": [
        "3) Check Palindrome Number: Write a function that takes an integer and returns True if it is a palindrome, otherwise False.\n",
        "\n",
        "    Input: 121  \n",
        "    Output: True\n",
        "\n",
        "    Input: 123  \n",
        "    Output: False"
      ]
    },
    {
      "cell_type": "code",
      "execution_count": null,
      "id": "1eb4afc5",
      "metadata": {},
      "outputs": [],
      "source": []
    },
    {
      "cell_type": "markdown",
      "id": "c0535229",
      "metadata": {},
      "source": [
        "4) Fahrenheit to Celsius Conversion\n",
        "\n",
        "    Write a function `fahrenheit_to_celsius(f)` that converts Fahrenheit to Celsius.\n",
        "\n",
        "    Then write another function `temp_hot(f)` that takes the temperature value in Fahrenheit, calls `fahrenheit_to_celsius`, and returns True if temperature in Celsius is greather than 50, otherwise False.\n",
        "\n",
        "    Example:\n",
        "    Input: fahrenheit_to_celsius(212)  \n",
        "    Output: 100\n",
        "\n",
        "    Input: temp_hot(212)  \n",
        "    Output: True\n",
        "\n",
        "    Input: temp_hot(32)  \n",
        "    Output: False"
      ]
    },
    {
      "cell_type": "code",
      "execution_count": null,
      "id": "563753f9",
      "metadata": {},
      "outputs": [],
      "source": []
    },
    {
      "cell_type": "markdown",
      "id": "8844850d",
      "metadata": {},
      "source": [
        "5) Write a function that takes a list of integers and returns the difference between squares of the largest and smallest number.\n",
        "\n",
        "    Input: [1, 2, 3, 4]  \n",
        "    Output: 15\n",
        "\n",
        "    Input: [2, 6, 3]  \n",
        "    Output: 32"
      ]
    },
    {
      "cell_type": "code",
      "execution_count": null,
      "id": "6ebab97d",
      "metadata": {},
      "outputs": [],
      "source": []
    },
    {
      "cell_type": "markdown",
      "id": "09cd97fd",
      "metadata": {},
      "source": [
        "6) Write a function that returns the product of all numbers in the list.\n",
        "\n",
        "    Input: [2, 3, 4]  \n",
        "    Output: 24\n"
      ]
    },
    {
      "cell_type": "code",
      "execution_count": null,
      "id": "99e5ff4b",
      "metadata": {},
      "outputs": [],
      "source": []
    }
  ],
  "metadata": {
    "kernelspec": {
      "display_name": "Python 3 (ipykernel)",
      "language": "python",
      "name": "python3"
    },
    "language_info": {
      "codemirror_mode": {
        "name": "ipython",
        "version": 3
      },
      "file_extension": ".py",
      "mimetype": "text/x-python",
      "name": "python",
      "nbconvert_exporter": "python",
      "pygments_lexer": "ipython3",
      "version": "3.11.11"
    }
  },
  "nbformat": 4,
  "nbformat_minor": 5
}