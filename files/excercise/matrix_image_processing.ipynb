{
  "metadata": {
    "kernelspec": {
      "name": "python",
      "display_name": "Python (Pyodide)",
      "language": "python"
    },
    "language_info": {
      "codemirror_mode": {
        "name": "python",
        "version": 3
      },
      "file_extension": ".py",
      "mimetype": "text/x-python",
      "name": "python",
      "nbconvert_exporter": "python",
      "pygments_lexer": "ipython3",
      "version": "3.8"
    }
  },
  "nbformat_minor": 5,
  "nbformat": 4,
  "cells": [
    {
      "id": "f2e3f2ff-aa20-4376-a6ff-5d02f2d6e65b",
      "cell_type": "code",
      "source": "import numpy as np\nimport matplotlib.pyplot as plt",
      "metadata": {
        "trusted": true
      },
      "outputs": [],
      "execution_count": null
    },
    {
      "id": "d0b5a3e1-58ae-4bce-8e92-956f2397753a",
      "cell_type": "code",
      "source": "# Create a demo image for exercises\n\n# Create a demo image for exercises\ndef createDemoImage():\n    \"\"\"Create a synthetic demo image with colored quadrants\"\"\"\n    demo_image = np.zeros((100, 100, 3), dtype=np.uint8)\n    demo_image[:50, :50, 0] = 255      # Red square (top-left)\n    demo_image[50:, 50:, 1] = 255      # Green square (bottom-right)\n    demo_image[:50, 50:, 2] = 255      # Blue square (top-right)\n    demo_image[50:, :50] = [128, 128, 0]  # Yellow square (bottom-left)\n    return demo_image\n\n# Load the demo image\nimage = create_demo_image()\nplt.figure(figsize=(6, 6))\nplt.imshow(image)\nplt.title(\"Demo Image for NumPy Exercises\")\nplt.axis('off')\nplt.show()\n",
      "metadata": {
        "trusted": true
      },
      "outputs": [],
      "execution_count": null
    },
    {
      "id": "f28fb00e-260a-43e6-9454-3c204cee2359",
      "cell_type": "code",
      "source": "# Question 1: Image Loading and Properties\n\n# Starter code\nimage = createDemoImage()\n\n# TODO: Print the image's shape, dtype, and total number of elements\nprint(\"Shape:\", )\nprint(\"Data type:\", )\nprint(\"Total elements:\", )\n\n# Calculate the memory usage in bytes\n# Memory usage = how much computer RAM (memory) the array occupies\n# Formula: total_elements × bytes_per_element\nprint(\"Memory usage (bytes):\", )\n\n# Display the image using matplotlib\nplt.figure(figsize=(5, 5))\n# Your code here\n",
      "metadata": {
        "trusted": true
      },
      "outputs": [],
      "execution_count": null
    },
    {
      "id": "b2f7c0b5-ab2b-4390-bae1-929802fa5912",
      "cell_type": "code",
      "source": "#import numpy as np\nimport matplotlib.pyplot as plt\n\n# Demo helper (replace with your own image if needed)\ndef createDemoImage():\n    # 256x256 gradient RGB image\n    h, w = 256, 256\n    x = np.linspace(0, 255, w, dtype=np.uint8)\n    y = np.linspace(0, 255, h, dtype=np.uint8)\n    xv, yv = np.meshgrid(x, y)\n    img = np.stack([xv, yv, (xv + yv) // 2], axis=-1)  # RGB channels\n    return img\n\n# Starter code\nimage = createDemoImage()\n\n# Extract each RGB channel separately\nred_channel   = image[:, :, 0]\ngreen_channel = image[:, :, 1]\nblue_channel  = image[:, :, 2]\n\n# Create a grayscale version by averaging all three channels\ngrayscale = image.mean(axis=2).astype(np.uint8)\n\n# Display all channels side by side using subplots\nplt.figure(figsize=(15, 3))\n\nplt.subplot(1, 5, 1)\nplt.imshow(image)\nplt.title(\"Original Image\")\n\nplt.subplot(1, 5, 2)\nplt.imshow(red_channel, cmap=\"Reds\")\nplt.title(\"Red Channel\")\n\nplt.subplot(1, 5, 3)\nplt.imshow(green_channel, cmap=\"Greens\")\nplt.title(\"Green Channel\")\n\nplt.subplot(1, 5, 4)\nplt.imshow(blue_channel, cmap=\"Blues\")\nplt.title(\"Blue Channel\")\n\nplt.subplot(1, 5, 5)\nplt.imshow(grayscale, cmap=\"gray\")\nplt.title(\"Grayscale\")\n\nplt.tight_layout()\nplt.show()\n\n\n# Original Image\n\n# Red channel in shades of red\n\n# Green channel in shades of green\n\n# Blue channel in shades of blue\n\n# Grayscale by averaging R, G, B\n",
      "metadata": {
        "trusted": true
      },
      "outputs": [],
      "execution_count": null
    },
    {
      "id": "998ab85d-a07c-42bb-8eb2-efce1e9fc669",
      "cell_type": "code",
      "source": "",
      "metadata": {
        "trusted": true
      },
      "outputs": [],
      "execution_count": null
    },
    {
      "id": "77efdef2-e514-4ebe-bd93-40d5cae5797c",
      "cell_type": "code",
      "source": "\n#Question 3: Basic Matrix Creation\n\n# Set random seed for reproducibility\nnp.random.seed(42)\n\n\n# Create a 4x4 identity matrix\nidentity_4x4 = np.eye(4)\n\n# Create a 3x5 matrix filled with 10s (not ones!)\ntens_matrix = np.full((3, 5), 10)\n\n# Create a 2x4 matrix with random entries from uniform distribution [0,1)\nuniform_matrix = np.random.rand(2, 4)\n\n# Create a 3x3 matrix with random entries from normal distribution (mean=0, std=1)\nnormal_matrix = np.random.randn(3, 3)\n\n# Create a 2x3 matrix using np.fromfunction() where each element equals i*j + 1\ncustom_matrix = np.fromfunction(lambda i, j: i + j + 1, (3, 4), dtype=int)\n\n\n# Print results\nprint(\"4x4 Identity Matrix:\\n\", identity_4x4, \"\\n\")\nprint(\"3x5 Tens Matrix:\\n\", tens_matrix, \"\\n\")\nprint(\"2x4 Uniform Random Matrix:\\n\", uniform_matrix, \"\\n\")\nprint(\"3x3 Normal Random Matrix:\\n\", normal_matrix, \"\\n\")\nprint(\"2x3 Custom Matrix (i*j+1):\\n\", custom_matrix)\n",
      "metadata": {
        "trusted": true
      },
      "outputs": [],
      "execution_count": null
    },
    {
      "id": "b746f31e-17f2-4912-ad15-8ffc28668bf8",
      "cell_type": "code",
      "source": "# Question 4: Elementwise Operations\n\n# Given arrays\nA = np.array([[1, 2, 3], [4, 5, 6]])\nB = np.array([[2, 1, 4], [3, 2, 1]])\n\nprint(\"Array A:\\n\", A)\nprint(\"Array B:\\n\", B)\n\n# Perform elementwise addition, subtraction, and multiplication\naddition = A + B\nsubtraction = A - B\nmultiplication = A * B\n\n# Apply np.sin() and np.exp() to array A\nsin_A = np.sin(A)\nexp_A = np.exp(A)\n\n# Print results\nprint(\"A + B:\\n\", addition)\nprint(\"A - B:\\n\", subtraction)\nprint(\"A * B:\\n\", multiplication)\nprint(\"sin(A):\\n\", sin_A)\nprint(\"exp(A):\\n\", exp_A)\n",
      "metadata": {
        "trusted": true
      },
      "outputs": [],
      "execution_count": null
    },
    {
      "id": "299bd39a-0f99-4b11-ab7b-70a79dd402e3",
      "cell_type": "code",
      "source": "# Question 5: Advanced Slicing\n\nimport numpy as np\n\n# Given matrix\nmatrix = np.arange(64).reshape(8, 8)\nprint(\"Original matrix:\\n\", matrix)\n\n# Extract the main diagonal\nmain_diagonal = np.diag(matrix)\n\n# Extract the anti-diagonal\nanti_diagonal = np.fliplr(matrix).diagonal()\n\n# Create a border effect by setting the outer rows/columns to 255\nbordered = matrix.copy()\nbordered[0, :] = 255        # top row\nbordered[-1, :] = 255       # bottom row\nbordered[:, 0] = 255        # left column\nbordered[:, -1] = 255       # right column\n\nprint(\"Main diagonal:\", main_diagonal)\nprint(\"Anti-diagonal:\", anti_diagonal)\nprint(\"Bordered matrix:\\n\", bordered)\n",
      "metadata": {
        "trusted": true
      },
      "outputs": [],
      "execution_count": null
    },
    {
      "id": "df059172-17c6-48e6-92b4-9023c38d4d3d",
      "cell_type": "code",
      "source": "#  Question 6: Image Cropping and Slicing\n\nimport numpy as np\nimport matplotlib.pyplot as plt\n\n# Demo helper (replace with your own image if needed)\ndef create_demo_image():\n    # 256x256 gradient RGB image\n    h, w = 256, 256\n    x = np.linspace(0, 255, w, dtype=np.uint8)\n    y = np.linspace(0, 255, h, dtype=np.uint8)\n    xv, yv = np.meshgrid(x, y)\n    img = np.stack([xv, yv, (xv + yv) // 2], axis=-1)  # RGB channels\n    return img\n\n# Starter code\nimage = create_demo_image()\n\n# Crop to get the center quarter of the image\nheight, width = image.shape[:2]\ncenter_crop = image[height//4: 3*height//4, width//4: 3*width//4]\n\n# Extract every other pixel (striding) to resize to half\nhalf_size = image[::2, ::2]\n\n# Create a checkerboard pattern by setting alternate pixels to 0\ncheckerboard = image.copy()\ncheckerboard[::2, ::2] = 0\ncheckerboard[1::2, 1::2] = 0\n\n# Display results\nplt.figure(figsize=(12, 4))\nplt.subplot(1, 3, 1)\nplt.imshow(center_crop)\nplt.title(\"Center Quarter\")\n\nplt.subplot(1, 3, 2)\nplt.imshow(half_size)\nplt.title(\"Half Size\")\n\nplt.subplot(1, 3, 3)\nplt.imshow(checkerboard)\nplt.title(\"Checkerboard\")\n\nplt.tight_layout()\nplt.show()\n\n\n# What this does:\n\n# center_crop → takes the middle quarter of the image.\n\n# half_size → downsamples by striding (every other pixel).\n\n# checkerboard → sets alternating pixels (like a chessboard) to black.",
      "metadata": {
        "trusted": true
      },
      "outputs": [],
      "execution_count": null
    },
    {
      "id": "cad50e49-2e54-41b8-833f-bfdad6c06f30",
      "cell_type": "code",
      "source": "import numpy as np\nimport matplotlib.pyplot as plt\n\n# Demo helper (replace with your own image if needed)\ndef create_demo_image():\n    # 256x256 gradient RGB image\n    h, w = 256, 256\n    x = np.linspace(0, 255, w, dtype=np.uint8)\n    y = np.linspace(0, 255, h, dtype=np.uint8)\n    xv, yv = np.meshgrid(x, y)\n    img = np.stack([xv, yv, (xv + yv) // 2], axis=-1)  # RGB channels\n    return img\n\n# Starter code\nimage = create_demo_image()\n\n# Crop to get the center quarter of the image\nheight, width = image.shape[:2]\ncenter_crop = image[height//4: 3*height//4, width//4: 3*width//4]\n\n# Extract every other pixel (striding) to resize to half\nhalf_size = image[::2, ::2]\n\n# Checkerboard effect — per pixel (sets full pixel to black)\ncheckerboard_pixel = image.copy()\ncheckerboard_pixel[::2, ::2] = 0\ncheckerboard_pixel[1::2, 1::2] = 0\n\n# Checkerboard effect — per channel (mask applied independently to R,G,B)\ncheckerboard_channel = image.copy()\nrows, cols = np.indices((height, width))\nmask = (rows + cols) % 2 == 0   # True/False checkerboard mask\ncheckerboard_channel[mask, 0] = 0   # Zero out red channel on mask positions\ncheckerboard_channel[~mask, 1] = 0  # Zero out green channel on inverse mask\n# Blue channel alternates naturally (kept untouched or you can mask it too)\n\n# Display results\nplt.figure(figsize=(12, 6))\n\nplt.subplot(1, 3, 1)\nplt.imshow(center_crop)\nplt.title(\"Center Quarter\")\n\nplt.subplot(1, 3, 2)\nplt.imshow(half_size)\nplt.title(\"Half Size\")\n\nplt.subplot(1, 3, 3)\nplt.imshow(checkerboard_channel)\nplt.title(\"Checkerboard (Per Channel)\")\n\nplt.tight_layout()\nplt.show()\n",
      "metadata": {
        "trusted": true
      },
      "outputs": [],
      "execution_count": null
    },
    {
      "id": "292a9898-b048-488b-8a9c-530b6eec3634",
      "cell_type": "code",
      "source": "# Question 7: Image Histogram Analysis\n\nimport numpy as np\nimport matplotlib.pyplot as plt\n\n# Demo helper (replace with your own image if needed)\ndef create_demo_image():\n    # 256x256 gradient RGB image\n    h, w = 256, 256\n    x = np.linspace(0, 255, w, dtype=np.uint8)\n    y = np.linspace(0, 255, h, dtype=np.uint8)\n    xv, yv = np.meshgrid(x, y)\n    img = np.stack([xv, yv, (xv + yv) // 2], axis=-1)  # RGB channels\n    return img\n\n# Starter code\nimage = create_demo_image()\n\n# Create histograms for each RGB channel\nred_hist   = np.histogram(image[:, :, 0], bins=256, range=(0, 255))[0]\ngreen_hist = np.histogram(image[:, :, 1], bins=256, range=(0, 255))[0]\nblue_hist  = np.histogram(image[:, :, 2], bins=256, range=(0, 255))[0]\n\n# Find the mean and standard deviation of each channel\nred_mean, red_std     = image[:, :, 0].mean(), image[:, :, 0].std()\ngreen_mean, green_std = image[:, :, 1].mean(), image[:, :, 1].std()\nblue_mean, blue_std   = image[:, :, 2].mean(), image[:, :, 2].std()\n\n# Plot histograms\nplt.figure(figsize=(15, 4))\n\nplt.subplot(1, 3, 1)\nplt.hist(image[:, :, 0].ravel(), bins=256, range=(0, 255), color=\"red\", alpha=0.7)\nplt.title(\"Red Channel Histogram\")\n\nplt.subplot(1, 3, 2)\nplt.hist(image[:, :, 1].ravel(), bins=256, range=(0, 255), color=\"green\", alpha=0.7)\nplt.title(\"Green Channel Histogram\")\n\nplt.subplot(1, 3, 3)\nplt.hist(image[:, :, 2].ravel(), bins=256, range=(0, 255), color=\"blue\", alpha=0.7)\nplt.title(\"Blue Channel Histogram\")\n\nplt.tight_layout()\nplt.show()\n\nprint(f\"Red   - Mean: {red_mean:.2f}, Std: {red_std:.2f}\")\nprint(f\"Green - Mean: {green_mean:.2f}, Std: {green_std:.2f}\")\nprint(f\"Blue  - Mean: {blue_mean:.2f}, Std: {blue_std:.2f}\")\n\n\n# Computes histograms of pixel intensities (0–255) for each channel.\n\n# Computes mean and standard deviation per channel.\n\n# Plots histograms side by side in red, green, and blue.\n\n# Prints summary stats.\n",
      "metadata": {
        "trusted": true
      },
      "outputs": [],
      "execution_count": null
    },
    {
      "id": "79a5e71d-10c1-469d-8a19-a0f813ba0cfd",
      "cell_type": "code",
      "source": "# Question 9: Matrix Decomposition\n\n\nimport numpy as np\n\n# Given symmetric matrix\nS = np.array([[4, 2, 1],\n              [2, 3, 0],\n              [1, 0, 2]])\n\nprint(\"Matrix S:\\n\", S)\n\n# Compute the determinant and inverse\ndet_S = np.linalg.det(S)\ninv_S = np.linalg.inv(S)\n\n# Perform SVD decomposition\nU, sigma, Vt = np.linalg.svd(S)\n\n# Calculate the Frobenius norm\nfrobenius_norm = np.linalg.norm(S, 'fro')\n\nprint(\"Determinant:\", det_S)\nprint(\"Inverse:\\n\", inv_S)\nprint(\"SVD - U shape:\", U.shape, \"sigma shape:\", sigma.shape, \"Vt shape:\", Vt.shape)\nprint(\"Frobenius norm:\", frobenius_norm)\n",
      "metadata": {
        "trusted": true
      },
      "outputs": [],
      "execution_count": null
    },
    {
      "id": "ba20a41b-a797-49ba-8c03-23f2cb8a574b",
      "cell_type": "code",
      "source": "# Question 10: Least Squares Fitting\n\n\n# Create synthetic data\nx = np.linspace(0, 10, 50)\ntrue_slope = 2\ntrue_intercept = 1\nnoise = np.random.normal(0, 0.5, 50)\ny = true_slope * x + true_intercept + noise\n\n# Use np.linalg.lstsq() to fit a line\n# Set up the matrix equation: y = A @ coeffs where A = [x, ones], coeffs = [slope, intercept]\nA = np.vstack([x, np.ones_like(x)]).T\nresult = np.linalg.lstsq(A, y, rcond=None)\ncoefficients = result[0]\n\nfitted_slope = coefficients[0]\nfitted_intercept = coefficients[1]\n\n# Plot the original data and fitted line\nplt.figure(figsize=(8, 6))\nplt.scatter(x, y, alpha=0.6, label=\"Data with noise\")\nplt.plot(x, fitted_slope * x + fitted_intercept, color=\"red\", label=\"Fitted line\")\n\nplt.xlabel(\"x\")\nplt.ylabel(\"y\")\nplt.legend()\nplt.title(f\"Least Squares Fit: y = {fitted_slope:.2f}x + {fitted_intercept:.2f}\")\nplt.show()\n\nprint(f\"True: slope={true_slope}, intercept={true_intercept}\")\nprint(f\"Fitted: slope={fitted_slope:.3f}, intercept={fitted_intercept:.3f}\")\n\n\n# A is the design matrix: each row is [x_i, 1].\n\n# np.linalg.lstsq(A, y) solves for the best-fit coefficients [slope, intercept].\n\n# We then plot both noisy data and the fitted line.",
      "metadata": {
        "trusted": true
      },
      "outputs": [],
      "execution_count": null
    }
  ]
}