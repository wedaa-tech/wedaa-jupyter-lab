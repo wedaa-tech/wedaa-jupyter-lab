{
  "metadata": {
    "kernelspec": {
      "name": "python",
      "display_name": "Python (Pyodide)",
      "language": "python"
    },
    "language_info": {
      "codemirror_mode": {
        "name": "python",
        "version": 3
      },
      "file_extension": ".py",
      "mimetype": "text/x-python",
      "name": "python",
      "nbconvert_exporter": "python",
      "pygments_lexer": "ipython3",
      "version": "3.8"
    }
  },
  "nbformat_minor": 5,
  "nbformat": 4,
  "cells": [
    {
      "id": "a0b07a69-9260-472e-8355-9820dbd9d6be",
      "cell_type": "code",
      "source": "# Broadcasting to Normalize a 3D Dataset\n# Imagine you have a 3D dataset representing a series of 2D sensor readings over time, with a shape of (num_timesteps, height, width). Your task is to perform \"per-timestep normalization\" by subtracting the mean value of each 2D slice (at each timestep) from that slice. You must do this without using any explicit loops.\n\n# Your Task:\n\n# Create a random 3D NumPy array called dataset of shape (10, 5, 5) with integer values between 0 and 100.\n# Calculate the mean of each 2D slice along axis=(1, 2). This will result in a 1D array of shape (10,) containing 10 mean values.\n# Use broadcasting with np.newaxis to subtract the corresponding mean from each 2D slice in the original dataset.\n# Print the shape of your calculated means array and the shape of the final normalized dataset to verify the operation.\n\n\nimport numpy as np\n\n# Step 1: Create random 3D dataset (10 timesteps, 5x5 sensor readings)\ndataset = np.random.randint(0, 101, size=(10, 5, 5))\nprint(\"Original dataset shape:\", dataset.shape)\n\n# Step 2: Calculate mean of each 2D slice (per timestep)\nmeans = dataset.mean(axis=(1, 2))   # shape (10,)\nprint(\"Means shape:\", means.shape)\nprint(\"Means:\", means)\n\n# Step 3: Normalize each 2D slice by subtracting its mean\n# Use broadcasting: reshape means to (10, 1, 1) so it matches (10, 5, 5)\nnormalized_dataset = dataset - means[:, np.newaxis, np.newaxis]\n\nprint(\"Normalized dataset shape:\", normalized_dataset.shape)\n\n# Optional: verify mean ~ 0 for each slice\nprint(\"Means after normalization:\", normalized_dataset.mean(axis=(1, 2)))\n\n\n\n\n\n# dataset.shape = (10, 5, 5) → 10 timesteps, each a 5×5 matrix.\n\n# dataset.mean(axis=(1,2)) → computes the mean across rows & columns, leaving one mean per timestep → shape (10,).\n\n# means[:, np.newaxis, np.newaxis] reshapes (10,) → (10, 1, 1), so NumPy can broadcast it against (10, 5, 5).\n\n# Subtraction works per slice automatically.\n\n# After normalization, each 2D slice should have mean ≈ 0.\n\n\n# Original dataset shape: (10, 5, 5)\n# Means shape: (10,)\n# Normalized dataset shape: (10, 5, 5)\n# Means after normalization: [ 2.3e-15 -1.8e-15 ...]   # ~0 (numerical precision)",
      "metadata": {
        "trusted": true
      },
      "outputs": [
        {
          "name": "stdout",
          "output_type": "stream",
          "text": "Original dataset shape: (10, 5, 5)\nMeans shape: (10,)\nMeans: [43.28 56.28 56.12 53.52 55.92 57.08 47.44 39.76 40.88 45.52]\nNormalized dataset shape: (10, 5, 5)\nMeans after normalization: [-1.13686838e-15 -1.13686838e-15  4.26325641e-15 -2.84217094e-15\n -1.70530257e-15  1.70530257e-15  2.27373675e-15  8.52651283e-16\n -2.55795385e-15 -2.55795385e-15]\n"
        }
      ],
      "execution_count": 1
    }
  ]
}