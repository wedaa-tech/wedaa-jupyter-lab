{
  "metadata": {
    "kernelspec": {
      "name": "python",
      "display_name": "Python (Pyodide)",
      "language": "python"
    },
    "language_info": {
      "codemirror_mode": {
        "name": "python",
        "version": 3
      },
      "file_extension": ".py",
      "mimetype": "text/x-python",
      "name": "python",
      "nbconvert_exporter": "python",
      "pygments_lexer": "ipython3",
      "version": "3.8"
    }
  },
  "nbformat_minor": 5,
  "nbformat": 4,
  "cells": [
    {
      "id": "4f10f59f-a882-48c9-9e4a-46386170fc83",
      "cell_type": "code",
      "source": "# Data Cleaning a 4D Array with Masked Indexing¶\n# You have a 4D array representing a batch of images, with shape (batch_size, height, width, channels). The data contains some noise and invalid values. Your goal is to clean it by clipping outliers and removing negative sensor errors.\n\n# Your Task:\n\n# Create a random 4D NumPy array named image_batch of shape (2, 10, 10, 3). Populate it with integers from -20 to 120.\n# Create a boolean mask to identify all values that are \"outliers\" (less than 0 or greater than 100).\n# Use the mask to clip the data: set all values greater than 100 to 100, and all values less than 0 to 0. (Hint: You can do this with two separate masks or one combined operation).\n# Finally, create another mask to find all values that are exactly 0 and replace them with -1 to indicate they were corrected values.\n# Print the array after clipping and after the final replacement.\n\n\n\nimport numpy as np\n\n# Step 1: Create random 4D array (2 images, 10x10 pixels, 3 channels)\nimage_batch = np.random.randint(-20, 121, size=(2, 10, 10, 3))\nprint(\"Original image_batch:\\n\", image_batch)\n\n# Step 2: Create boolean mask for outliers (<0 or >100)\noutliers_mask = (image_batch < 0) | (image_batch > 100)\n\n# Step 3: Clip outliers\n# Set all >100 to 100\nimage_batch[image_batch > 100] = 100\n# Set all <0 to 0\nimage_batch[image_batch < 0] = 0\nprint(\"\\nAfter clipping:\\n\", image_batch)\n\n# Step 4: Replace corrected values (0) with -1\ncorrected_mask = (image_batch == 0)\nimage_batch[corrected_mask] = -1\nprint(\"\\nAfter replacing corrected values (0 -> -1):\\n\", image_batch)\n\n\n\n\n# np.random.randint(-20, 121, size=(2, 10, 10, 3))\n# → Generates values in range [-20, 120].\n\n# Mask:\n\n# (image_batch < 0) | (image_batch > 100)\n\n\n# finds all invalid values.\n\n# Clipping outliers:\n\n# Values > 100 → 100\n\n# Values < 0 → 0\n\n# Mark corrected values:\n\n# All 0s (from correction step) replaced with -1.",
      "metadata": {
        "trusted": true
      },
      "outputs": [],
      "execution_count": null
    },
    {
      "id": "fb87133c-1bd6-4911-a026-da3908dc9bf5",
      "cell_type": "code",
      "source": "import numpy as np\n\n# Random 2D array with values between -10 and 10\ndata = np.random.randint(-10, 11, size=(5, 5))\nprint(\"Original Data:\\n\", data)\n\n# A mask is just a Boolean array (True/False) of the same shape, created by applying a condition.\n\n# Example: Mask for all negative values\n\nmask = data < 0\nprint(\"Mask (True = negative):\\n\", mask)\n\n\n# Clean data using the mask\n# Option A: Replace negatives with 0\n\ncleaned = data.copy()\ncleaned[mask] = 0\nprint(\"Cleaned Data (negatives set to 0):\\n\", cleaned)\n\n# Option B: Extract only valid values (flattened)\n\npositive_values = data[data >= 0]\nprint(\"Only positive values:\", positive_values)\n\n",
      "metadata": {
        "trusted": true
      },
      "outputs": [
        {
          "name": "stdout",
          "output_type": "stream",
          "text": "Original Data:\n [[  0  -9   6   5  -4]\n [-10  -3   4   4  -6]\n [  2  -1   3  -1   8]\n [ -1   8  10 -10   3]\n [ 10   3   9   4  -8]]\nMask (True = negative):\n [[False  True False False  True]\n [ True  True False False  True]\n [False  True False  True False]\n [ True False False  True False]\n [False False False False  True]]\nCleaned Data (negatives set to 0):\n [[ 0  0  6  5  0]\n [ 0  0  4  4  0]\n [ 2  0  3  0  8]\n [ 0  8 10  0  3]\n [10  3  9  4  0]]\nOnly positive values: [ 0  6  5  4  4  2  3  8  8 10  3 10  3  9  4]\n"
        }
      ],
      "execution_count": 4
    }
  ]
}