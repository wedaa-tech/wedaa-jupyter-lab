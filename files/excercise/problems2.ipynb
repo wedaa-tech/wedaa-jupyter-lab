{
  "cells": [
    {
      "cell_type": "markdown",
      "id": "bb66d2cf-0b4c-4286-8a77-ebb070935f8f",
      "metadata": {},
      "source": [
        "# Problems for class 3"
      ]
    },
    {
      "cell_type": "markdown",
      "id": "03b38322-bb1c-4c28-8ef6-a5e2aaead64a",
      "metadata": {},
      "source": [
        "1. The famous Collatz sequence can be generated for any starting positive\n",
        "   integer as follows:\n",
        "\n",
        "   Start with an arbitrary (positive) integer.\n",
        "   - If the number is even, divide by 2; if the number is odd, multiply by 3 and add 1.\n",
        "   - Repeat the procedure with the new number.\n",
        "   - It appears that for all starting values there is a cycle of 4, 2, 1 at\n",
        "     which the procedure loops. You should stop when the value goes to 1.\n",
        "\n",
        "   Write a program that prints out the Collatz sequence given a starting value."
      ]
    },
    {
      "cell_type": "code",
      "execution_count": null,
      "id": "782dd2c5-cc8b-4afb-b2f0-618896bfaef9",
      "metadata": {},
      "outputs": [],
      "source": []
    },
    {
      "cell_type": "markdown",
      "id": "21b700b3-def7-4a1f-9a95-91bbaf784701",
      "metadata": {},
      "source": [
        "2. Write a function that is given a starting value (a positive integer), and\n",
        "   returns a list with the Collatz sequence."
      ]
    },
    {
      "cell_type": "code",
      "execution_count": null,
      "id": "42871eb6-c87c-456d-b774-66fcc0ab0b01",
      "metadata": {},
      "outputs": [],
      "source": []
    },
    {
      "cell_type": "markdown",
      "id": "8198d2e2-bc65-4640-99c2-8fd38a570d5d",
      "metadata": {},
      "source": [
        "3. Write a function that is given a single argument of an integer (with\n",
        "   arbitrary number of digits), return the number of digits the number has."
      ]
    },
    {
      "cell_type": "code",
      "execution_count": null,
      "id": "9d959046-5706-4281-8577-a7add7781e2c",
      "metadata": {},
      "outputs": [],
      "source": []
    },
    {
      "cell_type": "markdown",
      "id": "f49a4db6-4e13-4df3-9420-4fc54c37c655",
      "metadata": {},
      "source": [
        "4. Write a function that is given a single argument of an integer (with\n",
        "   arbitrary number of digits), return the sum of the digits."
      ]
    },
    {
      "cell_type": "code",
      "execution_count": null,
      "id": "c94c9711-b252-4ff5-b7be-c860e4c31107",
      "metadata": {},
      "outputs": [],
      "source": []
    },
    {
      "cell_type": "markdown",
      "id": "72976e84-d0a8-48f3-89ec-9800bcbe0047",
      "metadata": {},
      "source": [
        "5. Write a function called `difference` that is given two lists, you should\n",
        "   return a list of any elements that is not common to both the lists."
      ]
    },
    {
      "cell_type": "code",
      "execution_count": null,
      "id": "4f802a7c-1044-4c21-842c-9014689c01ba",
      "metadata": {},
      "outputs": [],
      "source": []
    }
  ],
  "metadata": {
    "kernelspec": {
      "display_name": "Python 3 (ipykernel)",
      "language": "python",
      "name": "python3"
    },
    "language_info": {
      "codemirror_mode": {
        "name": "ipython",
        "version": 3
      },
      "file_extension": ".py",
      "mimetype": "text/x-python",
      "name": "python",
      "nbconvert_exporter": "python",
      "pygments_lexer": "ipython3",
      "version": "3.11.11"
    }
  },
  "nbformat": 4,
  "nbformat_minor": 5
}