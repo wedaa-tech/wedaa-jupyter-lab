{
  "metadata": {
    "kernelspec": {
      "name": "python",
      "display_name": "Python (Pyodide)",
      "language": "python"
    },
    "language_info": {
      "codemirror_mode": {
        "name": "python",
        "version": 3
      },
      "file_extension": ".py",
      "mimetype": "text/x-python",
      "name": "python",
      "nbconvert_exporter": "python",
      "pygments_lexer": "ipython3",
      "version": "3.8"
    }
  },
  "nbformat_minor": 5,
  "nbformat": 4,
  "cells": [
    {
      "id": "e52cf9c7-2604-4632-ab66-f1b5b302ce02",
      "cell_type": "code",
      "source": "# Power of number\n\n# Write a function power that takes a number x and returns either its square, cube, or any power based on a keyword argument exp. If exp is not provided, use square (default = 2).\n\n# Input: power(5)\n# Output: 25\n\n# Input: power(5, exp=3)\n# Output: 125\n\n\n\ndef power(x, exp=2):\n    \"\"\"\n    Return x raised to the power exp.\n    Default exp = 2 (square).\n    \"\"\"\n    return x ** exp\n\n# Examples\nprint(power(5))            # 25 (square)\nprint(power(5, exp=3))     # 125 (cube)\nprint(power(2, exp=5))     # 32 (any power)\n\n",
      "metadata": {
        "trusted": true
      },
      "outputs": [],
      "execution_count": null
    },
    {
      "id": "7fdcc391-c779-4bd6-9be3-c43e1d8b8e64",
      "cell_type": "code",
      "source": "# Keyword arguments statement print\n\n# Write a function that introduces a person with name, age, and city. Use keyword arguments.\n\n# Input: name=\"abc\", city=\"xyz\", age=123\n\n# Output: My name is abc, I am 123 years old, and I live in xyz.\n\n\n\ndef introduce(name, age, city):\n    \"\"\"\n    Introduce a person using keyword arguments.\n    \"\"\"\n    print(f\"My name is {name}, I am {age} years old, and I live in {city}.\")\n\n# Example usage\nintroduce(name=\"abc\", city=\"xyz\", age=123)\n\n",
      "metadata": {
        "trusted": true
      },
      "outputs": [],
      "execution_count": null
    },
    {
      "id": "47653b02-583a-4e39-aabe-91f4f6c8b589",
      "cell_type": "code",
      "source": " # Write a function normalize_list that takes a list of positive \n # numbers and normalizes them so that all values are scaled down between 0 and 1, and the sum of \n # the list is 1. Modify the list in-place and return nothing.\n\n # Input: [1, 4, 5]\n # Output: [0.1, 0.4, 0.5]\n\n # Input: [1, 3, 4, 8]\n # Output: [0.0625, 0.1875, 0.25, 0.5]\n\n\n\ndef normalize_list(nums):\n    \"\"\"\n    Normalize a list of positive numbers so that:\n    - Each element is scaled between 0 and 1\n    - The sum of the list is 1\n    Modifies the list in-place and returns nothing.\n    \"\"\"\n    total = sum(nums)\n    for i in range(len(nums)):\n        nums[i] = nums[i] / total\n\n# Example usage\ndata1 = [1, 4, 5]\nnormalize_list(data1)\nprint(data1)  # [0.1, 0.4, 0.5]\n\ndata2 = [1, 3, 4, 8]\nnormalize_list(data2)\nprint(data2)  # [0.0625, 0.1875, 0.25, 0.5]\n\n",
      "metadata": {
        "trusted": true
      },
      "outputs": [],
      "execution_count": null
    },
    {
      "id": "994c0de4-4a5d-4a4a-831e-173a946d8d3a",
      "cell_type": "code",
      "source": "# The famous Collatz sequence can be generated for any starting positive integer as follows:\n\n# Start with an arbitrary (positive) integer.\n\n# If the number is even, divide by 2; if the number is odd, multiply by 3 and add 1.\n# Repeat the procedure with the new number.\n# It appears that for all starting values there is a cycle of 4, 2, 1 at \n# which the procedure loops. You should stop when the value goes to 1.\n# Write a program that prints out the Collatz sequence given a starting value.\n\ndef collatz_sequence(n):\n    \"\"\"\n    Print the Collatz sequence starting from n until reaching 1.\n    \"\"\"\n    if n <= 0:\n        print(\"Please provide a positive integer.\")\n        return\n\n    sequence = [n]\n    while n != 1:\n        if n % 2 == 0:\n            n = n // 2\n        else:\n            n = 3 * n + 1\n        sequence.append(n)\n\n    print(\"Collatz sequence:\", sequence)\n\n# Example usage\ncollatz_sequence(6)\n\n",
      "metadata": {
        "trusted": true
      },
      "outputs": [],
      "execution_count": null
    },
    {
      "id": "cbac8e18-a753-452b-9092-2152ba04abb5",
      "cell_type": "code",
      "source": "# Write a function that is given a starting value (a positive integer), and\n#    returns a list with the Collatz sequence.\n\n\ndef collatz_sequence(n):\n    \"\"\"\n    Generate the Collatz sequence starting from a positive integer n.\n    Returns the sequence as a list.\n    \"\"\"\n    if n <= 0:\n        raise ValueError(\"Starting value must be a positive integer.\")\n\n    sequence = [n]\n    while n != 1:\n        if n % 2 == 0:\n            n = n // 2\n        else:\n            n = 3 * n + 1\n        sequence.append(n)\n\n    return sequence\n\n# Example usage\nprint(collatz_sequence(6))   # [6, 3, 10, 5, 16, 8, 4, 2, 1]\nprint(collatz_sequence(11))  # [11, 34, 17, 52, 26, 13, 40, 20, 10, 5, 16, 8, 4, 2, 1]\n",
      "metadata": {
        "trusted": true
      },
      "outputs": [],
      "execution_count": null
    },
    {
      "id": "b53cf517-4248-48ef-9dbd-f06429b39bea",
      "cell_type": "code",
      "source": "# Write a function that is given a single argument of an integer (with arbitrary number of digits),\n# return the number of digits the number has.\n\ndef count_digits(n: int) -> int:\n    \"\"\"\n    Return the number of digits in an integer.\n    Handles positive and negative integers.\n    \"\"\"\n    return len(str(abs(n)))\n\n# Example usage\nprint(count_digits(12345))   # 5\nprint(count_digits(-98765))  # 5\nprint(count_digits(0))       # 1\n",
      "metadata": {
        "trusted": true
      },
      "outputs": [],
      "execution_count": null
    },
    {
      "id": "02546b95-8a8d-40ff-9c93-effe4f02461a",
      "cell_type": "code",
      "source": "# Write a function called difference that is given two lists, \n# you should return a list of any elements that is not common to both the lists.\n\ndef difference(list1, list2):\n    \"\"\"\n    Return a list of elements that are not common to both lists.\n    \"\"\"\n    return list(set(list1).symmetric_difference(set(list2)))\n\n# Example usage\nprint(difference([1, 2, 3, 4], [3, 4, 5, 6]))  \n# [1, 2, 5, 6]\n\n\n",
      "metadata": {
        "trusted": true
      },
      "outputs": [],
      "execution_count": null
    },
    {
      "id": "41d75850-3758-4f0b-9799-0a194a5fe18c",
      "cell_type": "code",
      "source": "# Replace All Negative Numbers with Zero\n# Given a list of integers, replace all negative numbers with 0\n\n# Input: [-3, 5, -1, 7]  \n# Output: [0, 5, 0, 7]\n\n\ndef replace_negatives(nums):\n    \"\"\"\n    Replace all negative numbers in a list with 0.\n    Modifies the list in-place and also returns it.\n    \"\"\"\n    for i in range(len(nums)):\n        if nums[i] < 0:\n            nums[i] = 0\n    return nums\n\n# Example usage\nprint(replace_negatives([-3, 5, -1, 7]))  # [0, 5, 0, 7]\n",
      "metadata": {
        "trusted": true
      },
      "outputs": [
        {
          "name": "stdout",
          "output_type": "stream",
          "text": "[0, 5, 0, 7]\n"
        }
      ],
      "execution_count": 10
    },
    {
      "id": "4748374c-9b10-4c27-a360-70045ca8fb8b",
      "cell_type": "code",
      "source": "\n# list comprehensions in Python are a concise way to create lists.\n# Squares of numbers 0–9\n\nsquares = [x**2 for x in range(10)]\nprint(squares)  # [0, 1, 4, 9, 16, 25, 36, 49, 64, 81]\n\n\n# Even numbers from 0–20\n\nevens = [x for x in range(21) if x % 2 == 0]\nprint(evens)  # [0, 2, 4, 6, 8, 10, 12, 14, 16, 18, 20]\n\n\n# Convert list of strings to uppercase\n\n\nwords = [\"apple\", \"banana\", \"cherry\"]\nuppercased = [w.upper() for w in words]\nprint(uppercased)  # ['APPLE', 'BANANA', 'CHERRY']\n\n# Replace negatives with 0\n\nnums = [-3, 5, -1, 7]\nnormalized = [x if x >= 0 else 0 for x in nums]\nprint(normalized)  # [0, 5, 0, 7]\n\n\n# Extract first letters\n\nnames = [\"Alice\", \"Bob\", \"Charlie\"]\nfirst_letters = [name[0] for name in names]\nprint(first_letters)  # ['A', 'B', 'C']\n\n\n#Flatten a 2D list\n\nmatrix = [[1, 2, 3], [4, 5], [6, 7]]\nflat = [num for row in matrix for num in row]\nprint(flat)  # [1, 2, 3, 4, 5, 6, 7]\n\n\n# Create multiplication table\n\ntable = [i*j for i in range(1, 4) for j in range(1, 4)]\nprint(table)  \n# [1, 2, 3, 2, 4, 6, 3, 6, 9]\n\n\n# Create a dictionary of squares\n\nsquares = {x: x**2 for x in range(5)}\nprint(squares)  # {0: 0, 1: 1, 2: 4, 3: 9, 4: 16}\n\n# Swap keys and values\n\nmy_dict = {\"a\": 1, \"b\": 2, \"c\": 3}\nswapped = {v: k for k, v in my_dict.items()}\nprint(swapped)  # {1: 'a', 2: 'b', 3: 'c'}\n\n# Filter dictionary items\n\ngrades = {\"Alice\": 85, \"Bob\": 60, \"Charlie\": 95}\npassed = {name: grade for name, grade in grades.items() if grade >= 70}\nprint(passed)  # {'Alice': 85, 'Charlie': 95}\n\n\n# Unique squares\n\nnums = [1, 2, 2, 3, 4, 4]\nsquares_set = {x**2 for x in nums}\nprint(squares_set)  # {16, 1, 4, 9}\n\n\n# First letters of words\n\nwords = [\"apple\", \"banana\", \"cherry\", \"apricot\"]\nletters = {word[0] for word in words}\nprint(letters)  # {'a', 'b', 'c'}\n",
      "metadata": {
        "trusted": true
      },
      "outputs": [
        {
          "name": "stdout",
          "output_type": "stream",
          "text": "[0, 1, 4, 9, 16, 25, 36, 49, 64, 81]\n[0, 2, 4, 6, 8, 10, 12, 14, 16, 18, 20]\n['APPLE', 'BANANA', 'CHERRY']\n[0, 5, 0, 7]\n['A', 'B', 'C']\n[1, 2, 3, 4, 5, 6, 7]\n[1, 2, 3, 2, 4, 6, 3, 6, 9]\n{0: 0, 1: 1, 2: 4, 3: 9, 4: 16}\n{1: 'a', 2: 'b', 3: 'c'}\n{'Alice': 85, 'Charlie': 95}\n{16, 1, 4, 9}\n{'c', 'b', 'a'}\n"
        }
      ],
      "execution_count": 20
    },
    {
      "id": "74285084-88d4-41b2-a987-7eb27fb96455",
      "cell_type": "code",
      "source": "\n\n# Passing a function to another function\n\ndef apply_func(f, values):\n    return [f(x) for x in values]\n\ndef square(x):\n    return x ** 2\n\ndef cube(x):\n    return x ** 3\n\nnums = [1, 2, 3, 4]\nprint(apply_func(square, nums))  # [1, 4, 9, 16]\nprint(apply_func(cube, nums))    # [1, 8, 27, 64]\n",
      "metadata": {
        "trusted": true
      },
      "outputs": [
        {
          "name": "stdout",
          "output_type": "stream",
          "text": "[1, 4, 9, 16]\n[1, 8, 27, 64]\n"
        }
      ],
      "execution_count": 21
    },
    {
      "id": "a9e0693b-4957-4cf8-8f27-8463cf003c7c",
      "cell_type": "code",
      "source": "# Returning a function (closures)\n\ndef power_func(exp):\n    def inner(x):\n        return x ** exp\n    return inner\n\nsquare = power_func(2)\ncube = power_func(3)\n\nprint(square(5))  # 25\nprint(cube(5))    # 125\n\n",
      "metadata": {
        "trusted": true
      },
      "outputs": [
        {
          "name": "stdout",
          "output_type": "stream",
          "text": "25\n125\n"
        }
      ],
      "execution_count": 22
    },
    {
      "id": "e73428ea-5fd5-4910-abe9-160ca0011e43",
      "cell_type": "code",
      "source": "# Using built-in higher-order functions\n\n\nnums = [1, 2, 3, 4, 5]\n\n# Using map with a lambda function\nsquared = list(map(lambda x: x**2, nums))\nprint(squared)  # [1, 4, 9, 16, 25]\n\n# Using filter to keep even numbers\nevens = list(filter(lambda x: x % 2 == 0, nums))\nprint(evens)  # [2, 4]\n\n",
      "metadata": {
        "trusted": true
      },
      "outputs": [
        {
          "name": "stdout",
          "output_type": "stream",
          "text": "[1, 4, 9, 16, 25]\n[2, 4]\n"
        }
      ],
      "execution_count": 24
    },
    {
      "id": "47c393ea-3e91-4910-bb8c-f39851acf3ce",
      "cell_type": "code",
      "source": "# Flattening Arrays\n\nimport numpy as np\n\n# Example: 2D array\narr = np.array([[1, 2, 3], [4, 5, 6]])\nprint(\"Original 2D array:\\n\", arr)\n\n# Flatten using ravel()\nflat1 = arr.ravel()\nprint(\"Flattened with ravel:\", flat1)\n\n# Flatten using flatten()\nflat2 = arr.flatten()\nprint(\"Flattened with flatten:\", flat2)\n\n# Flatten using reshape()\nflat3 = arr.reshape(-1)\nprint(\"Flattened with reshape:\", flat3)\n",
      "metadata": {
        "trusted": true
      },
      "outputs": [
        {
          "name": "stdout",
          "output_type": "stream",
          "text": "Original 2D array:\n [[1 2 3]\n [4 5 6]]\nFlattened with ravel: [1 2 3 4 5 6]\nFlattened with flatten: [1 2 3 4 5 6]\nFlattened with reshape: [1 2 3 4 5 6]\n"
        }
      ],
      "execution_count": 25
    },
    {
      "id": "f4e8758f-7430-4a4f-a26b-08941b5ab2ae",
      "cell_type": "code",
      "source": "# Multidimensional Arrays\n\n# NumPy arrays can have any number of dimensions:\n\n\n# 1D Array\na1 = np.array([1, 2, 3])\nprint(\"1D:\", a1)\n\n# 2D Array (matrix)\na2 = np.array([[1, 2, 3], [4, 5, 6]])\nprint(\"2D (matrix):\\n\", a2)\n\n# 3D Array (tensor)\na3 = np.array([[[1, 2], [3, 4]],\n               [[5, 6], [7, 8]]])\nprint(\"3D:\\n\", a3)\n\nprint(\"Shape of a3:\", a3.shape)  # (2, 2, 2)\n",
      "metadata": {
        "trusted": true
      },
      "outputs": [
        {
          "name": "stdout",
          "output_type": "stream",
          "text": "1D: [1 2 3]\n2D (matrix):\n [[1 2 3]\n [4 5 6]]\n3D:\n [[[1 2]\n  [3 4]]\n\n [[5 6]\n  [7 8]]]\nShape of a3: (2, 2, 2)\n"
        }
      ],
      "execution_count": 26
    },
    {
      "id": "83ea3e91-d60d-4f1a-bb73-1ea5aa0b0f6c",
      "cell_type": "code",
      "source": "# Matrix Operations\n\n# In NumPy, matrices are just 2D arrays. You can do matrix math easily:\n\n\n# Define two matrices\nA = np.array([[1, 2],\n              [3, 4]])\nB = np.array([[5, 6],\n              [7, 8]])\n\n# Elementwise operations\nprint(\"A + B:\\n\", A + B)\nprint(\"A * B (elementwise):\\n\", A * B)\n\n# Matrix multiplication\nprint(\"A @ B (matrix product):\\n\", A @ B)     # Python 3.5+\nprint(\"np.dot(A, B):\\n\", np.dot(A, B))\n\n# Transpose\nprint(\"Transpose of A:\\n\", A.T)\n\n# Inverse\nfrom numpy.linalg import inv\nprint(\"Inverse of A:\\n\", inv(A))\n\n# Determinant\nfrom numpy.linalg import det\nprint(\"Determinant of A:\", det(A))\n\n",
      "metadata": {
        "trusted": true
      },
      "outputs": [
        {
          "name": "stdout",
          "output_type": "stream",
          "text": "A + B:\n [[ 6  8]\n [10 12]]\nA * B (elementwise):\n [[ 5 12]\n [21 32]]\nA @ B (matrix product):\n [[19 22]\n [43 50]]\nnp.dot(A, B):\n [[19 22]\n [43 50]]\nTranspose of A:\n [[1 3]\n [2 4]]\nInverse of A:\n [[-2.   1. ]\n [ 1.5 -0.5]]\nDeterminant of A: -2.0000000000000004\n"
        }
      ],
      "execution_count": 27
    },
    {
      "id": "fe5141d8-6100-4367-809e-57551ff48c07",
      "cell_type": "code",
      "source": "# Flattening Higher-Dimensional Arrays\n\ntensor = np.arange(24).reshape(2, 3, 4)\nprint(\"3D Array:\\n\", tensor)\nprint(\"Flattened:\", tensor.flatten())\n",
      "metadata": {
        "trusted": true
      },
      "outputs": [
        {
          "name": "stdout",
          "output_type": "stream",
          "text": "3D Array:\n [[[ 0  1  2  3]\n  [ 4  5  6  7]\n  [ 8  9 10 11]]\n\n [[12 13 14 15]\n  [16 17 18 19]\n  [20 21 22 23]]]\nFlattened: [ 0  1  2  3  4  5  6  7  8  9 10 11 12 13 14 15 16 17 18 19 20 21 22 23]\n"
        }
      ],
      "execution_count": 28
    }
  ]
}