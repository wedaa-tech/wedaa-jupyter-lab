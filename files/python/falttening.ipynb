{
 "cells": [
  {
   "cell_type": "code",
   "execution_count": null,
   "id": "620c763e-5261-4184-ae2b-470dfc5032a7",
   "metadata": {},
   "outputs": [],
   "source": [
    "nested_list=[[\"1\",\"2\"],[\"3\",\"4\"],[\"a\",\"b\"]]\n",
    "print(nested_list)\n",
    "flat_list=[]\n",
    "for sublist in nested_list:\n",
    "    for item in sublist:\n",
    "        flat_list.append(item)\n",
    "\n",
    "print(flat_list)\n",
    "\n"
   ]
  },
  {
   "cell_type": "code",
   "execution_count": null,
   "id": "1706ded2-18fc-41cb-8e15-83937ad94e91",
   "metadata": {},
   "outputs": [],
   "source": [
    "# List comprehension\n",
    "\n",
    "nested_list=[[\"1\",\"2\"],[\"3\",\"4\"],[\"a\",\"b\"]]\n",
    "print(nested_list)\n",
    "flat_list=[item for sublist in nested_list for item in sublist ]\n",
    "print(flat_list)"
   ]
  },
  {
   "cell_type": "code",
   "execution_count": null,
   "id": "51648bf5-cc1e-4807-b792-facab4331e21",
   "metadata": {},
   "outputs": [],
   "source": [
    "import numpy as np\n",
    "\n",
    "nested_list=[[\"1\",\"2\"],[\"3\",\"4\"],[\"a\",\"b\"]]\n",
    "\n",
    "arr = np.array(nested_list)\n",
    "print(arr)\n",
    "flat_list=arr.flatten()\n",
    "print(flat_list)\n"
   ]
  },
  {
   "cell_type": "code",
   "execution_count": null,
   "id": "c11dba61-272c-401b-b10e-1bbd560bbd34",
   "metadata": {},
   "outputs": [],
   "source": [
    "def count_up_to(n):\n",
    "    num = 1;\n",
    "    while num<=n:\n",
    "        yield num\n",
    "        num += 1\n",
    "\n",
    "counter = count_up_to(3)\n",
    "print(next(counter))\n",
    "print(next(counter))"
   ]
  },
  {
   "cell_type": "code",
   "execution_count": null,
   "id": "c358fa29-aefb-4ce9-9402-c34d61a7ffcb",
   "metadata": {},
   "outputs": [],
   "source": [
    "def flatten_nested(nestedObj):\n",
    "    for item in nestedObj:\n",
    "        if isinstance(item, (list,tuple)) and not isinstance(item, (str,bytes)):\n",
    "            yield from flatten_nested(item)\n",
    "        else:\n",
    "            yield item\n",
    "data = [1, [2, 3], [4, [5, 6]]]\n",
    "print(list(flatten_nested(data)))\n",
    "\n",
    "data_x = [1, (2, 3), {4, 5}, [6, (7, {8, 9})]]\n",
    "print(list(flatten_nested(data_x)))\n",
    "\n",
    "data_tuple=(1,2,(3,(4,5)))\n",
    "print(set(flatten_nested(data_tuple)))\n",
    "\n"
   ]
  },
  {
   "cell_type": "code",
   "execution_count": null,
   "id": "14ed8b31-cde6-485e-8a70-0c1948ae13b4",
   "metadata": {
    "editable": true,
    "slideshow": {
     "slide_type": ""
    },
    "tags": []
   },
   "outputs": [],
   "source": []
  }
 ],
 "metadata": {
  "kernelspec": {
   "display_name": "Python 3 (ipykernel)",
   "language": "python",
   "name": "python3"
  },
  "language_info": {
   "codemirror_mode": {
    "name": "ipython",
    "version": 3
   },
   "file_extension": ".py",
   "mimetype": "text/x-python",
   "name": "python",
   "nbconvert_exporter": "python",
   "pygments_lexer": "ipython3",
   "version": "3.13.7"
  }
 },
 "nbformat": 4,
 "nbformat_minor": 5
}
