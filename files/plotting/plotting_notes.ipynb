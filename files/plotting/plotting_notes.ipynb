{
 "cells": [
  {
   "cell_type": "code",
   "execution_count": null,
   "id": "c05a0a79-696a-4cd5-b645-fa57e666f8a9",
   "metadata": {},
   "outputs": [],
   "source": [
    "import matplotlib.pyplot as plt\n",
    "import numpy as np\n",
    "\n",
    "x = np.linspace(0, 2*np.pi, 100)\n",
    "y = np.sin(x)\n",
    "\n",
    "plt.plot(x, y)\n",
    "plt.title(\"Sine Wave\")\n",
    "plt.xlabel(\"X (radians)\")\n",
    "plt.ylabel(\"sin(x)\")\n",
    "plt.grid(True)\n",
    "plt.show()"
   ]
  },
  {
   "cell_type": "code",
   "execution_count": null,
   "id": "f5c0ef4e-ce6c-48ff-864d-36894e28dfec",
   "metadata": {},
   "outputs": [],
   "source": [
    "#Multiple Lines & Legends\n",
    "import matplotlib.pyplot as plt\n",
    "import numpy as np\n",
    "\n",
    "t=np.linspace(0,2,200)\n",
    "y1 = np.sin(2*np.pi*t)\n",
    "y2 = np.cos(2*np.pi*t)\n",
    "\n",
    "plt.plot(t,y1, label=\"sin\")\n",
    "plt.plot(t,y2, label=\"cos\")\n",
    "\n",
    "plt.legend()\n",
    "plt.title(\"Sin & Cos waves\")\n",
    "plt.show()"
   ]
  },
  {
   "cell_type": "code",
   "execution_count": null,
   "id": "7dba94bc-45e3-4f27-99b5-461e96a8cf9d",
   "metadata": {},
   "outputs": [],
   "source": [
    "t = np.arange(0, 5, 0.2)\n",
    "\n",
    "plt.subplot(2, 1, 1)\n",
    "plt.plot(t, np.exp(-t), 'r-')\n",
    "plt.title(\"Exponential decay\")\n",
    "\n",
    "plt.subplot(2, 1, 2)\n",
    "plt.plot(t, np.sin(2*np.pi*t), 'b--')\n",
    "plt.title(\"Sine wave\")\n",
    "\n",
    "plt.tight_layout()\n",
    "plt.show()"
   ]
  },
  {
   "cell_type": "code",
   "execution_count": null,
   "id": "40391e3c-50f3-474a-9660-79c48d0f254a",
   "metadata": {},
   "outputs": [],
   "source": [
    "# Scatter\n",
    "x = np.random.rand(50)\n",
    "y = np.random.rand(50)\n",
    "plt.scatter(x, y, c='red')\n",
    "plt.title(\"Scatter Plot\")\n",
    "plt.show()\n",
    "\n",
    "# Histogram\n",
    "data = np.random.randn(1000)\n",
    "plt.hist(data, bins=30, color='purple', alpha=0.7)\n",
    "plt.title(\"Histogram\")\n",
    "plt.show()"
   ]
  },
  {
   "cell_type": "code",
   "execution_count": null,
   "id": "eaa1887e-2f36-4b65-a502-4ce156982713",
   "metadata": {},
   "outputs": [],
   "source": [
    "import matplotlib.pyplot as plt\n",
    "print(plt.style.available)"
   ]
  },
  {
   "cell_type": "code",
   "execution_count": null,
   "id": "f9dd1337-b4a1-40a1-9499-ffdcd27fdba3",
   "metadata": {},
   "outputs": [],
   "source": [
    "plt.style.use('classic')\n",
    "\n",
    "x = np.linspace(0, 10, 100)\n",
    "y = np.sin(x)\n",
    "\n",
    "plt.plot(x, y, color='darkorange', linewidth=2, linestyle='--', marker='o')\n",
    "plt.title(\"Styled Plot\", fontsize=14, fontweight='bold')\n",
    "plt.xlabel(\"X\", fontsize=12)\n",
    "plt.ylabel(\"Y\", fontsize=12)\n",
    "plt.show()"
   ]
  },
  {
   "cell_type": "code",
   "execution_count": null,
   "id": "4c55a2cd-5ea1-4eb6-bca7-60ee9e106c6f",
   "metadata": {},
   "outputs": [],
   "source": [
    "from mpl_toolkits.mplot3d import Axes3D\n",
    "\n",
    "fig = plt.figure()\n",
    "ax = fig.add_subplot(111, projection='3d')\n",
    "\n",
    "X = np.linspace(-5, 5, 50)\n",
    "Y = np.linspace(-5, 5, 50)\n",
    "X, Y = np.meshgrid(X, Y)\n",
    "Z = np.sin(np.sqrt(X**2 + Y**2))\n",
    "\n",
    "ax.plot_surface(X, Y, Z, cmap='viridis')\n",
    "plt.show()"
   ]
  },
  {
   "cell_type": "code",
   "execution_count": null,
   "id": "9ee75dae-4907-4802-9e6e-722b0ce2875b",
   "metadata": {},
   "outputs": [],
   "source": [
    "import pandas as pd\n",
    "\n",
    "df = pd.read_csv(\"data.csv\")\n",
    "plt.plot(df['Date'], df['Value'])\n",
    "plt.title(\"Real Data Plot\")\n",
    "plt.xticks(rotation=45)\n",
    "plt.show()"
   ]
  },
  {
   "cell_type": "code",
   "execution_count": null,
   "id": "c6e7c893-7756-4429-8ed9-aa56ba7445d3",
   "metadata": {
    "editable": true,
    "slideshow": {
     "slide_type": ""
    },
    "tags": []
   },
   "outputs": [],
   "source": [
    "import numpy as np\n",
    "import matplotlib.pyplot as plt\n",
    "\n",
    "# Generate t values\n",
    "x = np.linspace(-5*np.pi, 5*np.pi, 500)\n",
    "\n",
    "# y values for x and -x\n",
    "y1 = x\n",
    "y2 = -x\n",
    "\n",
    "z1 = np.sin(x)\n",
    "z2 = x*np.sin(x)\n",
    "\n",
    "\n",
    "# Plot\n",
    "plt.xlim(-5*np.pi, 5*np.pi)  # Setting axis limit for xAxis\n",
    "plt.ylim(-5*np.pi, 5*np.pi)  # Setting axis limit for yAxis\n",
    "\n",
    "plt.plot(x, y1, label=\"y = x\", color=\"blue\", linestyle='-')\n",
    "plt.plot(x, y2, label=\"y = -x\", color=\"blue\", linestyle='-')\n",
    "\n",
    "# Styling\n",
    "plt.title(\"y = x and y = -x (Range: -5π to 5π)\")\n",
    "plt.xlabel(\"x\")\n",
    "plt.ylabel(\"y\")\n",
    "#plt.axhline(0, color='black', linewidth=0.8)  # x-axis\n",
    "#plt.axvline(0, color='black', linewidth=0.8)  # y-axis\n",
    "plt.grid(True)\n",
    "plt.plot(x,z1, color=\"green\")\n",
    "plt.plot(x,z2, color=\"red\")\n",
    "plt.annotate(\n",
    "    \"Origin\",              # text\n",
    "    xy=(0, 0)              # point to annotate\n",
    ")\n",
    "\n",
    "plt.legend()\n",
    "\n",
    "plt.show()\n",
    "\n"
   ]
  },
  {
   "cell_type": "code",
   "execution_count": null,
   "id": "a4803e50-2e5b-4bb5-95d6-86d6b7788d27",
   "metadata": {},
   "outputs": [],
   "source": []
  }
 ],
 "metadata": {
  "kernelspec": {
   "display_name": "Python [conda env:base] *",
   "language": "python",
   "name": "conda-base-py"
  },
  "language_info": {
   "codemirror_mode": {
    "name": "ipython",
    "version": 3
   },
   "file_extension": ".py",
   "mimetype": "text/x-python",
   "name": "python",
   "nbconvert_exporter": "python",
   "pygments_lexer": "ipython3",
   "version": "3.13.5"
  }
 },
 "nbformat": 4,
 "nbformat_minor": 5
}
