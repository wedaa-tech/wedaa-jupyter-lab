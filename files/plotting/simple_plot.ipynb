{
  "metadata": {
    "kernelspec": {
      "name": "python",
      "display_name": "Python (Pyodide)",
      "language": "python"
    },
    "language_info": {
      "codemirror_mode": {
        "name": "python",
        "version": 3
      },
      "file_extension": ".py",
      "mimetype": "text/x-python",
      "name": "python",
      "nbconvert_exporter": "python",
      "pygments_lexer": "ipython3",
      "version": "3.8"
    }
  },
  "nbformat_minor": 5,
  "nbformat": 4,
  "cells": [
    {
      "id": "6eefd8c8-ebe8-4265-be22-2a41849c0c3a",
      "cell_type": "code",
      "source": "import numpy as np\nimport matplotlib.pyplot as plt\n\nx = np.linspace(0, 2*np.pi, 50)\nprint(x[0])\nprint(x[1])\nprint(x[49])\nprint(x[-1])\nplt.plot(x, np.sin(x))\nplt.xlabel('x')\nplt.ylabel('sin(x)')\nplt.title('Sinusoids')\nplt.legend(['sin(x)'], loc='center')",
      "metadata": {},
      "outputs": [],
      "execution_count": null
    },
    {
      "id": "f1583656-2806-4be0-bcc6-c170d61cfd97",
      "cell_type": "code",
      "source": "plt.plot(x, np.sin(x), 'b')",
      "metadata": {
        "scrolled": true
      },
      "outputs": [],
      "execution_count": null
    },
    {
      "id": "4aab1a53-2c19-4e8e-9357-283cd413c50f",
      "cell_type": "code",
      "source": "plt.plot(x, 0.5*np.sin(2*x), 'g', linewidth=2)",
      "metadata": {},
      "outputs": [],
      "execution_count": null
    },
    {
      "id": "3895f569",
      "cell_type": "code",
      "source": "plt.plot(x, 0.5*np.sin(2*x), 'g', linewidth=2)",
      "metadata": {},
      "outputs": [],
      "execution_count": null
    },
    {
      "id": "bbfcc004",
      "cell_type": "code",
      "source": "plt.plot(x, 0.5*np.sin(2*x), 'g', linewidth=2)\nplt.annotate('local maxima', xy=(1.5,  0.4));",
      "metadata": {},
      "outputs": [],
      "execution_count": null
    },
    {
      "id": "8c288516-02da-40de-8555-a65432eaf01d",
      "cell_type": "code",
      "source": "plt.plot(x, np.sin(x), 'g-o')",
      "metadata": {},
      "outputs": [],
      "execution_count": null
    },
    {
      "id": "09399ca7-9a84-41da-a51b-826e5cf96442",
      "cell_type": "code",
      "source": "# Plot a sine wave with green line and circle markers\n# x: x-axis values\n# np.sin(x): y-axis values (sine of x)\n# 'g-o': format string for green line with circle markers\nplt.plot(x, np.sin(x), 'g-o')",
      "metadata": {},
      "outputs": [],
      "execution_count": null
    },
    {
      "id": "02240221-a17f-481e-b220-cd46264cc001",
      "cell_type": "code",
      "source": "## Saving figure to images:",
      "metadata": {},
      "outputs": [],
      "execution_count": null
    },
    {
      "id": "bdee5739-2ecc-4a33-b380-f0f0fa2651f0",
      "cell_type": "code",
      "source": "plt.plot(x, np.sin(x), 'b')\nplt.plot(x, 0.5*np.sin(2*x), 'g', linewidth='2')\nplt.legend(['sin(x)', 'sin(2x)'])\nplt.annotate('local maxima', xy=(2.5, 1))\nplt.savefig('sin.png')\nplt.savefig('sin.pdf')",
      "metadata": {},
      "outputs": [],
      "execution_count": null
    },
    {
      "id": "e52391d0-ed3f-4b89-aabb-f86674475f2d",
      "cell_type": "code",
      "source": "plt.figure(figsize=(8,4))\nplt.plot(x, np.sin(x))",
      "metadata": {},
      "outputs": [],
      "execution_count": null
    },
    {
      "id": "e9eddea7-ec53-4ac3-86b6-3c60e5d78bd9",
      "cell_type": "code",
      "source": "## Controlling the axis length",
      "metadata": {},
      "outputs": [],
      "execution_count": null
    },
    {
      "id": "7282da49-ded1-4117-b953-35b997293926",
      "cell_type": "code",
      "source": "plt.plot(x, np.sin(x), 'b')\nplt.xlim()\nplt.ylim()\n",
      "metadata": {},
      "outputs": [],
      "execution_count": null
    },
    {
      "id": "931754d8-0c91-4680-8f01-b7fbdb89dcdd",
      "cell_type": "code",
      "source": "plt.plot(x, np.sin(x), 'b')\nxmin, xmax = plt.xlim()\nymin, ymax = plt.ylim()\n\nprint(xmin, ymin)\nprint(xmax, ymax)",
      "metadata": {},
      "outputs": [],
      "execution_count": null
    },
    {
      "id": "9f0a1c78-6142-48c1-942a-4e2e46a13d7d",
      "cell_type": "code",
      "source": "# Use the same `plt.xmin` with arguments to set the axis limit\nplt.plot(x, np.sin(x), 'b')\nxmin, xmax = plt.xlim()\nymin, ymax = plt.ylim()\nplt.xlim(xmin, 2*np.pi)\nplt.ylim(ymin - 0.2, ymax + 0.2)",
      "metadata": {},
      "outputs": [],
      "execution_count": null
    },
    {
      "id": "0b7e6a47-1c4a-4dfd-9da8-c7b8caeb4f48",
      "cell_type": "markdown",
      "source": "## Exercise: review/homework problem\n\n- Plot $x, -x, \\sin(x), x \\sin(x)$ in range $-5\\pi$ to $5\\pi$\n- Add a suitable legend\n- Annotate the origin (with text 'origin')\n- Set axes limits to the range of x\n\nProduce this:\n![](images/four_plot.png)",
      "metadata": {}
    },
    {
      "id": "c61b83da-d3cc-4bc6-84cc-6e7503837072",
      "cell_type": "code",
      "source": "import numpy as np\nimport matplotlib.pyplot as plt\n\nx = np.linspace(-5*np.pi, 5*np.pi, 100)\n\nplt.figure(figsize=(8,6))\n\nplt.xlim(-5*np.pi, 5*np.pi)\nplt.ylim(-5*np.pi, 5*np.pi)\n\nplt.plot(x, x, label=\"y = x\", color=\"blue\", linestyle='-')\nplt.plot(x, -x, label=\"y = -x\", color=\"blue\", linestyle='-')\n\nplt.plot(x, np.sin(x), label=\"y = x\", color=\"green\", linestyle='-', linewidth='2')\nplt.plot(x, x*np.sin(x), label=\"y = -x\", color=\"red\", linestyle='-', linewidth='3')\n\nplt.legend(['x','-x', 'sin(x)', '-sin(x)'])\n\nplt.annotate(\"Origin\", xy=(0, 0))\n\nplt.show()\n",
      "metadata": {},
      "outputs": [],
      "execution_count": null
    }
  ]
}